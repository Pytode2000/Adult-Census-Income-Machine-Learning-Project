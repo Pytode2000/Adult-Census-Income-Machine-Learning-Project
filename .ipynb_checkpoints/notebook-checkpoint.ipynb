{
 "cells": [
  {
   "cell_type": "markdown",
   "id": "b56b81a0-5b9a-4622-bb8b-f41ccbe44bee",
   "metadata": {},
   "source": [
    "# 1 hash (h1) for Main Title (i.e., dont use) \n",
    "## 2 hashes (h2) for Topic (e.g., Data Preparation)\n",
    "### 3 hashes (h3) for sub-topic (e.g., under Data Preparation, should have a 3 hash called maybe \"Importing Data\"\n",
    "#### 4 hashes (h4) for findings, analysis etc\n",
    "No hash for explanations/comments\n",
    "\n",
    "#### To standardize formating. \n",
    "#### Add more if anything to take note! DELETE AT THE END.\n"
   ]
  },
  {
   "cell_type": "markdown",
   "id": "3b6517a3-9af0-487b-b541-0ce8ed9fe48e",
   "metadata": {},
   "source": [
    "Anything to note WRITE HERE:\n"
   ]
  },
  {
   "cell_type": "markdown",
   "id": "7f8a264e-2af0-422e-91a0-117b8880c46e",
   "metadata": {},
   "source": []
  },
  {
   "cell_type": "markdown",
   "id": "125db586-ca42-4498-b00b-7c7896ac6b28",
   "metadata": {},
   "source": [
    "#### ROUGH PLAN\n",
    "0) Library Setup\n",
    "\n",
    "1) Data Description/Explanation or something (in place of Sample Collection). *Practical Motivation\n",
    "\n",
    "2) Data Preparation. *Problem Formulation (im thinking we do this in 1.)\n",
    "\n",
    "2.1 Data Cleaning\n",
    "\n",
    "2.2 Feature Engineering... etc\n",
    "\n",
    "3) Exploratory Data Analysis\n",
    "\n",
    "4) Might Do Data Cleaning etc again depending on what we find in EDA\n",
    "\n",
    "5) Modelling\n",
    "\n",
    "6) Optimization (choose best performing model, use Grid search, etc.)\n",
    "\n",
    "7) Findings/Conclusions?\n",
    "\n",
    "8) References\n"
   ]
  },
  {
   "cell_type": "markdown",
   "id": "2a3b8e89-50b1-4628-a3e8-6030b2a2b672",
   "metadata": {},
   "source": [
    "## <u><center>ANYTHING BELOW THIS IS THE ACTUAL NOTEBOOK!</center></u>\n",
    "-------------------------------------------------------------------------------------------------------------------------------------------------------"
   ]
  },
  {
   "cell_type": "markdown",
   "id": "e9b518e3-3187-4794-a96f-e47685a6922e",
   "metadata": {},
   "source": [
    "#### SC1015 FCSA Group 1: \n",
    "- Gay Ming Kai       (C230114@e.ntu.edu.sg)\n",
    "- Jacob Ong Jia Chun (JONG163@e.ntu.edu.sg)\n",
    "- Lim Zu Liang       (E230184@e.ntu.edu.sg)"
   ]
  },
  {
   "cell_type": "markdown",
   "id": "9ab6ba4c-1f27-413d-8446-ff2d588a5eef",
   "metadata": {},
   "source": [
    "<h1><center><u>Adult Census Income</u></center></h1>"
   ]
  },
  {
   "cell_type": "markdown",
   "id": "d03937f0-b042-4530-8e0c-9702c83d2236",
   "metadata": {},
   "source": [
    "// this will be the Table of contents. Do last."
   ]
  },
  {
   "cell_type": "markdown",
   "id": "36fbd239-26fe-426a-95bc-a658afa57952",
   "metadata": {},
   "source": [
    "## Chapter 0. Library Setup"
   ]
  },
  {
   "cell_type": "code",
   "execution_count": 1,
   "id": "e66b1145-51be-4ae1-9c11-c394f141e74b",
   "metadata": {},
   "outputs": [
    {
     "name": "stdout",
     "output_type": "stream",
     "text": [
      "Data Analysis and Wrangling Packages\n",
      "- pandas version: 2.1.4\n",
      "- NumPy version: 1.24.3\n",
      "- SciPy version: 1.11.4\n",
      "****************************************\n",
      "Visualization Packages\n",
      "- matplotlib version: 3.8.0\n",
      "- seaborn version: 0.12.2\n",
      "****************************************\n",
      "Modelling Packages\n",
      "- scikit-learn version: 1.3.0\n",
      "****************************************\n"
     ]
    }
   ],
   "source": [
    "def separate():\n",
    "    print('*' * 40)\n",
    "\n",
    "print(\"Data Analysis and Wrangling Packages\")\n",
    "import pandas as pd # Library for data processing and analysis.\n",
    "import numpy as np # Library for numerical computing (provides support for multi-dimensional arrays and matrices).\n",
    "import scipy as sp # Library for scientific computing and advanced mathematics.\n",
    "print(\"- pandas version: {}\". format(pd.__version__))\n",
    "print(\"- NumPy version: {}\". format(np.__version__))\n",
    "print(\"- SciPy version: {}\". format(sp.__version__)) \n",
    "separate()\n",
    "print(\"Visualization Packages\")\n",
    "import matplotlib # Plotting library\n",
    "import seaborn as sns  # Statistical data visualization based on matplotlib\n",
    "print(\"- matplotlib version: {}\".format(matplotlib.__version__))\n",
    "print(\"- seaborn version: {}\".format(sns.__version__))\n",
    "separate()\n",
    "\n",
    "print(\"Modelling Packages\")\n",
    "import sklearn as sk # Collection of machine learning algorithms.\n",
    "print(\"- scikit-learn version: {}\". format(sk.__version__))\n",
    "separate()"
   ]
  },
  {
   "cell_type": "markdown",
   "id": "b2fe740f-45f3-47e7-95c2-73e43503f651",
   "metadata": {},
   "source": [
    "## Chapter 1. Dataset Overview"
   ]
  },
  {
   "cell_type": "markdown",
   "id": "d29daf07-9ed5-4099-87f1-12e0a055c90a",
   "metadata": {},
   "source": [
    "DRAFT: (NEED TO EDIT)\n",
    "\n",
    "The dataset (https://archive.ics.uci.edu/ml/datasets/Adult) belongs to and is managed by the University of California Irvine. It was donated by Ronny Kohavi and Barry Becker in 1994.\n",
    "\n",
    "The dataset has 1 target, 14 features and 32561 instances, and its been noted that there are missing values so we will have to identify and rectify it.\n",
    "\n",
    "The 14 features are: // Need to describe these features and what they represent\n",
    "- age\n",
    "- workclass\n",
    "- fnlwgt\n",
    "- education\n",
    "- education-num\n",
    "- marital-status\n",
    "- occupation \n",
    "- relationship\n",
    "- race\n",
    "- sex\n",
    "- capital-gain\n",
    "- capital-loss\n",
    "- hours-per-week\n",
    "- native-country \n",
    "\n",
    "The label/target is \"income\", binary classification. >50K, <=50K.\n",
    "\n",
    "#### Data Preparation Note:\n",
    "There are missing data in 3 features: `workclass`, `occupation`, and `native-country`.\n",
    "\n",
    "#### Feature Engineering Note:\n",
    "The feature \"fnlwgt\" is an abbreviation for \"Final Weight\" (datatype: cardinal number). This feature refers to an estimated number of people each row represents. For example, a specific row may have fnlwgt=2500, age=50, race=White, sex=female ...etc. This would mean 2500 people fall into the category of being 50 years old, White, female etc. Logically speaking, since this feature basically represents the count of a specific group of people represented, it should not affect the label. I will be conducting some analysis to see if my judgement is correct or not. If it indeed does not affect the label, then I will drop it.\n",
    "\n",
    "- Feature `education-num` is enumerated from `education`.\n",
    "\n",
    "The feature \"education.num\" is the mapped version of the \"education\" feature. For example, education=HS-grad -> education.num=9. Since they both represent the same thing, I will be removing one of them. Machine works better with numbers over strings/text, thus I will be removing the feature \"education\" in Feature Engineering.\n",
    "\n",
    "#### General Note:\n",
    "Text-based values have an addition empty space infront (e.g., `sex` --> \" Male\")"
   ]
  },
  {
   "cell_type": "markdown",
   "id": "0fc29db7-d42e-4fb8-b695-2ebf4cd539aa",
   "metadata": {},
   "source": [
    "## Chapter 2. Data Preparation"
   ]
  },
  {
   "cell_type": "markdown",
   "id": "30a683d7-fe90-4d74-ad30-9b9954fd1efc",
   "metadata": {},
   "source": [
    "### 2.1 Import Dataset as Dataframe"
   ]
  },
  {
   "cell_type": "code",
   "execution_count": 2,
   "id": "9167582b-9bc3-4d91-a931-88f5130af980",
   "metadata": {},
   "outputs": [
    {
     "data": {
      "text/html": [
       "<div>\n",
       "<style scoped>\n",
       "    .dataframe tbody tr th:only-of-type {\n",
       "        vertical-align: middle;\n",
       "    }\n",
       "\n",
       "    .dataframe tbody tr th {\n",
       "        vertical-align: top;\n",
       "    }\n",
       "\n",
       "    .dataframe thead th {\n",
       "        text-align: right;\n",
       "    }\n",
       "</style>\n",
       "<table border=\"1\" class=\"dataframe\">\n",
       "  <thead>\n",
       "    <tr style=\"text-align: right;\">\n",
       "      <th></th>\n",
       "      <th>age</th>\n",
       "      <th>workclass</th>\n",
       "      <th>fnlwgt</th>\n",
       "      <th>education</th>\n",
       "      <th>education-num</th>\n",
       "      <th>marital-status</th>\n",
       "      <th>occupation</th>\n",
       "      <th>relationship</th>\n",
       "      <th>race</th>\n",
       "      <th>sex</th>\n",
       "      <th>capital-gain</th>\n",
       "      <th>capital-loss</th>\n",
       "      <th>hours-per-week</th>\n",
       "      <th>native-country</th>\n",
       "      <th>income</th>\n",
       "    </tr>\n",
       "  </thead>\n",
       "  <tbody>\n",
       "    <tr>\n",
       "      <th>0</th>\n",
       "      <td>39</td>\n",
       "      <td>State-gov</td>\n",
       "      <td>77516</td>\n",
       "      <td>Bachelors</td>\n",
       "      <td>13</td>\n",
       "      <td>Never-married</td>\n",
       "      <td>Adm-clerical</td>\n",
       "      <td>Not-in-family</td>\n",
       "      <td>White</td>\n",
       "      <td>Male</td>\n",
       "      <td>2174</td>\n",
       "      <td>0</td>\n",
       "      <td>40</td>\n",
       "      <td>United-States</td>\n",
       "      <td>&lt;=50K</td>\n",
       "    </tr>\n",
       "    <tr>\n",
       "      <th>1</th>\n",
       "      <td>50</td>\n",
       "      <td>Self-emp-not-inc</td>\n",
       "      <td>83311</td>\n",
       "      <td>Bachelors</td>\n",
       "      <td>13</td>\n",
       "      <td>Married-civ-spouse</td>\n",
       "      <td>Exec-managerial</td>\n",
       "      <td>Husband</td>\n",
       "      <td>White</td>\n",
       "      <td>Male</td>\n",
       "      <td>0</td>\n",
       "      <td>0</td>\n",
       "      <td>13</td>\n",
       "      <td>United-States</td>\n",
       "      <td>&lt;=50K</td>\n",
       "    </tr>\n",
       "    <tr>\n",
       "      <th>2</th>\n",
       "      <td>38</td>\n",
       "      <td>Private</td>\n",
       "      <td>215646</td>\n",
       "      <td>HS-grad</td>\n",
       "      <td>9</td>\n",
       "      <td>Divorced</td>\n",
       "      <td>Handlers-cleaners</td>\n",
       "      <td>Not-in-family</td>\n",
       "      <td>White</td>\n",
       "      <td>Male</td>\n",
       "      <td>0</td>\n",
       "      <td>0</td>\n",
       "      <td>40</td>\n",
       "      <td>United-States</td>\n",
       "      <td>&lt;=50K</td>\n",
       "    </tr>\n",
       "    <tr>\n",
       "      <th>3</th>\n",
       "      <td>53</td>\n",
       "      <td>Private</td>\n",
       "      <td>234721</td>\n",
       "      <td>11th</td>\n",
       "      <td>7</td>\n",
       "      <td>Married-civ-spouse</td>\n",
       "      <td>Handlers-cleaners</td>\n",
       "      <td>Husband</td>\n",
       "      <td>Black</td>\n",
       "      <td>Male</td>\n",
       "      <td>0</td>\n",
       "      <td>0</td>\n",
       "      <td>40</td>\n",
       "      <td>United-States</td>\n",
       "      <td>&lt;=50K</td>\n",
       "    </tr>\n",
       "    <tr>\n",
       "      <th>4</th>\n",
       "      <td>28</td>\n",
       "      <td>Private</td>\n",
       "      <td>338409</td>\n",
       "      <td>Bachelors</td>\n",
       "      <td>13</td>\n",
       "      <td>Married-civ-spouse</td>\n",
       "      <td>Prof-specialty</td>\n",
       "      <td>Wife</td>\n",
       "      <td>Black</td>\n",
       "      <td>Female</td>\n",
       "      <td>0</td>\n",
       "      <td>0</td>\n",
       "      <td>40</td>\n",
       "      <td>Cuba</td>\n",
       "      <td>&lt;=50K</td>\n",
       "    </tr>\n",
       "  </tbody>\n",
       "</table>\n",
       "</div>"
      ],
      "text/plain": [
       "   age          workclass  fnlwgt   education  education-num  \\\n",
       "0   39          State-gov   77516   Bachelors             13   \n",
       "1   50   Self-emp-not-inc   83311   Bachelors             13   \n",
       "2   38            Private  215646     HS-grad              9   \n",
       "3   53            Private  234721        11th              7   \n",
       "4   28            Private  338409   Bachelors             13   \n",
       "\n",
       "        marital-status          occupation    relationship    race      sex  \\\n",
       "0        Never-married        Adm-clerical   Not-in-family   White     Male   \n",
       "1   Married-civ-spouse     Exec-managerial         Husband   White     Male   \n",
       "2             Divorced   Handlers-cleaners   Not-in-family   White     Male   \n",
       "3   Married-civ-spouse   Handlers-cleaners         Husband   Black     Male   \n",
       "4   Married-civ-spouse      Prof-specialty            Wife   Black   Female   \n",
       "\n",
       "   capital-gain  capital-loss  hours-per-week  native-country  income  \n",
       "0          2174             0              40   United-States   <=50K  \n",
       "1             0             0              13   United-States   <=50K  \n",
       "2             0             0              40   United-States   <=50K  \n",
       "3             0             0              40   United-States   <=50K  \n",
       "4             0             0              40            Cuba   <=50K  "
      ]
     },
     "execution_count": 2,
     "metadata": {},
     "output_type": "execute_result"
    }
   ],
   "source": [
    "# Aquiring data.\n",
    "adult_data = pd.read_csv('data/adult.data', delimiter=\",\", header=None) # Reading a .data file (that does not have headers) into DataFrame.\n",
    "\n",
    "# Since the dataset file does NOT provide the headers, we have to add them in ourselves.\n",
    "column_names = [\"age\", \"workclass\", \"fnlwgt\", \"education\", \"education-num\", \"marital-status\", \n",
    "                \"occupation\", \"relationship\", \"race\", \"sex\", \"capital-gain\", \"capital-loss\", \n",
    "                \"hours-per-week\", \"native-country\", \"income\"]\n",
    "\n",
    "# Assign column names to DataFrame.\n",
    "adult_data.columns = column_names\n",
    "\n",
    "# First look.\n",
    "adult_data.head()"
   ]
  },
  {
   "cell_type": "markdown",
   "id": "1512be67-79b2-4acf-bcd3-4d089b28e2a9",
   "metadata": {},
   "source": [
    "### 2.2 Identify and Remove Missing Values"
   ]
  },
  {
   "cell_type": "code",
   "execution_count": 3,
   "id": "10b5543e-202d-4325-8237-df1ee5137149",
   "metadata": {},
   "outputs": [
    {
     "name": "stdout",
     "output_type": "stream",
     "text": [
      "<class 'pandas.core.frame.DataFrame'>\n",
      "RangeIndex: 32561 entries, 0 to 32560\n",
      "Data columns (total 15 columns):\n",
      " #   Column          Non-Null Count  Dtype \n",
      "---  ------          --------------  ----- \n",
      " 0   age             32561 non-null  int64 \n",
      " 1   workclass       32561 non-null  object\n",
      " 2   fnlwgt          32561 non-null  int64 \n",
      " 3   education       32561 non-null  object\n",
      " 4   education-num   32561 non-null  int64 \n",
      " 5   marital-status  32561 non-null  object\n",
      " 6   occupation      32561 non-null  object\n",
      " 7   relationship    32561 non-null  object\n",
      " 8   race            32561 non-null  object\n",
      " 9   sex             32561 non-null  object\n",
      " 10  capital-gain    32561 non-null  int64 \n",
      " 11  capital-loss    32561 non-null  int64 \n",
      " 12  hours-per-week  32561 non-null  int64 \n",
      " 13  native-country  32561 non-null  object\n",
      " 14  income          32561 non-null  object\n",
      "dtypes: int64(6), object(9)\n",
      "memory usage: 3.7+ MB\n"
     ]
    }
   ],
   "source": [
    "# Look for NULL values in the three variables (according to Data Overview) that contain missing data.\n",
    "adult_data.info() "
   ]
  },
  {
   "cell_type": "markdown",
   "id": "01140596-f000-440b-986e-4922bdeea31f",
   "metadata": {},
   "source": [
    "#### Findings:\n",
    "- Appears to not have any null/missing values, but Dataset Overview mentioned that missing values exists.\n",
    "- Missing values may be replaced with a representative value (e.g., \"MISSING\").\n",
    "\n",
    "#### Perform:\n",
    "- Option A: Peek at the data specifically to look for missing values.\n",
    "- Option B: Find all the possible values of the three features (categorical) that are said to have missing data."
   ]
  },
  {
   "cell_type": "code",
   "execution_count": 4,
   "id": "42d06152-c797-4c29-b028-e5aa9d31c9a9",
   "metadata": {},
   "outputs": [
    {
     "name": "stdout",
     "output_type": "stream",
     "text": [
      "workclass\n",
      " Private             22696\n",
      " Self-emp-not-inc     2541\n",
      " Local-gov            2093\n",
      " ?                    1836\n",
      " State-gov            1298\n",
      " Self-emp-inc         1116\n",
      " Federal-gov           960\n",
      " Without-pay            14\n",
      " Never-worked            7\n",
      "Name: count, dtype: int64\n",
      "****************************************\n",
      "occupation\n",
      " Prof-specialty       4140\n",
      " Craft-repair         4099\n",
      " Exec-managerial      4066\n",
      " Adm-clerical         3770\n",
      " Sales                3650\n",
      " Other-service        3295\n",
      " Machine-op-inspct    2002\n",
      " ?                    1843\n",
      " Transport-moving     1597\n",
      " Handlers-cleaners    1370\n",
      " Farming-fishing       994\n",
      " Tech-support          928\n",
      " Protective-serv       649\n",
      " Priv-house-serv       149\n",
      " Armed-Forces            9\n",
      "Name: count, dtype: int64\n",
      "****************************************\n",
      "native-country\n",
      " United-States                 29170\n",
      " Mexico                          643\n",
      " ?                               583\n",
      " Philippines                     198\n",
      " Germany                         137\n",
      " Canada                          121\n",
      " Puerto-Rico                     114\n",
      " El-Salvador                     106\n",
      " India                           100\n",
      " Cuba                             95\n",
      " England                          90\n",
      " Jamaica                          81\n",
      " South                            80\n",
      " China                            75\n",
      " Italy                            73\n",
      " Dominican-Republic               70\n",
      " Vietnam                          67\n",
      " Guatemala                        64\n",
      " Japan                            62\n",
      " Poland                           60\n",
      " Columbia                         59\n",
      " Taiwan                           51\n",
      " Haiti                            44\n",
      " Iran                             43\n",
      " Portugal                         37\n",
      " Nicaragua                        34\n",
      " Peru                             31\n",
      " France                           29\n",
      " Greece                           29\n",
      " Ecuador                          28\n",
      " Ireland                          24\n",
      " Hong                             20\n",
      " Cambodia                         19\n",
      " Trinadad&Tobago                  19\n",
      " Laos                             18\n",
      " Thailand                         18\n",
      " Yugoslavia                       16\n",
      " Outlying-US(Guam-USVI-etc)       14\n",
      " Honduras                         13\n",
      " Hungary                          13\n",
      " Scotland                         12\n",
      " Holand-Netherlands                1\n",
      "Name: count, dtype: int64\n",
      "****************************************\n"
     ]
    }
   ],
   "source": [
    "# We chose Option B as it is more robust (merely peeking head and tail may not show us the missing data).\n",
    "print(adult_data[\"workclass\"].value_counts())\n",
    "separate()\n",
    "print(adult_data[\"occupation\"].value_counts())\n",
    "separate()\n",
    "print(adult_data[\"native-country\"].value_counts())\n",
    "separate()"
   ]
  },
  {
   "cell_type": "markdown",
   "id": "7da1b130-d635-41d3-8814-51998a6aaf08",
   "metadata": {},
   "source": [
    "#### Findings:\n",
    "- It seems that missing values are denoted as '?'.\n",
    "\n",
    "#### Perform\n",
    "- Identify all missing values, then determine what to do."
   ]
  },
  {
   "cell_type": "code",
   "execution_count": 5,
   "id": "487ff2fe-e2d4-43dc-8663-0ed003ce06ce",
   "metadata": {},
   "outputs": [
    {
     "name": "stdout",
     "output_type": "stream",
     "text": [
      "Number of '?' in:\n",
      "\n",
      "Column             Count\n",
      "-------------------------\n",
      "age                  0\n",
      "workclass            1836\n",
      "fnlwgt               0\n",
      "education            0\n",
      "education-num        0\n",
      "marital-status       0\n",
      "occupation           1843\n",
      "relationship         0\n",
      "race                 0\n",
      "sex                  0\n",
      "capital-gain         0\n",
      "capital-loss         0\n",
      "hours-per-week       0\n",
      "native-country       583\n",
      "income               0\n",
      "****************************************\n",
      "Row count:  32561\n",
      "****************************************\n"
     ]
    }
   ],
   "source": [
    "# Check all presence and count of '?' in the dataset.\n",
    "def check_missing():\n",
    "    print(\"Number of '?' in:\\n\")\n",
    "    print(\"Column\", 11*' ', \"Count\")\n",
    "    print(\"-\"*25)\n",
    "    for i in adult_data.columns: \n",
    "        t = adult_data[i].value_counts() \n",
    "        index = list(t.index)\n",
    "        print(i, end=\"\")\n",
    "        x = 20 - len(i) # For styling purposes\n",
    "        for j in index:\n",
    "            temp = 0\n",
    "            if j == \" ?\":\n",
    "    \n",
    "                print (x * ' ', t[' ?']) # Once a '?' is found, print the number of '?' in the feature.\n",
    "                temp = 1\n",
    "                break\n",
    "        if temp == 0:\n",
    "            print (x * ' ', \"0\") # '?' is absent from all rows of a specific feature.\n",
    "    separate()\n",
    "    print(\"Row count: \", len(adult_data))\n",
    "    separate()\n",
    "check_missing()"
   ]
  },
  {
   "cell_type": "markdown",
   "id": "f84ef0de",
   "metadata": {},
   "source": [
    "#### Findings:\n",
    "- Just like what the dataset said, only `workclass`, `occupation`, and `native-country` contains missing data.\n",
    "    - They are all categorical features.\n",
    "    - Cannot replace missing variables with central tendencies (mean, median). \n",
    "\n",
    "#### Perform:\n",
    "- Option A: Remove rows containing missing data.\n",
    "  - There are a maximum of 4262 missing data points (assuming no overlaps), which comprises about 13% of the total dataset.\n",
    "    \n",
    "- Option B: Remove the columns that contain missing data (`workclass`, `occupation`, and `native-country`).\n",
    "    - These three features are intuitively crucial and likely to significantly impact the label income.\n",
    "      \n",
    "- Option C: Predict missing classification data based on other\n",
    "  variables in the dataset using classification models like logistic regression.\n",
    "    - Viable but can be inaccurate and time-consuming.\n",
    "      \n",
    "- Option D: Impute missing data using the respective features' mode.\n",
    "    - It might skew the data and affect the model's prediction in later parts. \n",
    "\n",
    "- Conclusion: Option A\n",
    "    - Given that we have 14 features, even after removing the missing values, we would still have\n",
    "      approximately 28000 data points, which is more than sufficient for reliable analysis and prediction.\n",
    "\n",
    "// FORMAT WEIRD, NEED TO FIX."
   ]
  },
  {
   "cell_type": "code",
   "execution_count": 6,
   "id": "3a64b804-06f2-439f-9123-be983b6b6660",
   "metadata": {},
   "outputs": [
    {
     "name": "stdout",
     "output_type": "stream",
     "text": [
      "Number of '?' in:\n",
      "\n",
      "Column             Count\n",
      "-------------------------\n",
      "age                  0\n",
      "workclass            0\n",
      "fnlwgt               0\n",
      "education            0\n",
      "education-num        0\n",
      "marital-status       0\n",
      "occupation           0\n",
      "relationship         0\n",
      "race                 0\n",
      "sex                  0\n",
      "capital-gain         0\n",
      "capital-loss         0\n",
      "hours-per-week       0\n",
      "native-country       0\n",
      "income               0\n",
      "****************************************\n",
      "Row count:  30162\n",
      "****************************************\n"
     ]
    }
   ],
   "source": [
    "# Option A\n",
    "adult_data = adult_data.drop(adult_data[\n",
    "                             (adult_data[\"workclass\"] == \" ?\") | \n",
    "                             (adult_data[\"occupation\"] == \" ?\") | \n",
    "                             (adult_data[\"native-country\"] == \" ?\")].index)\n",
    "\n",
    "# Check if successfully removed.\n",
    "check_missing()"
   ]
  },
  {
   "cell_type": "markdown",
   "id": "e180e27a-44ff-4e47-84c3-60b7142c156b",
   "metadata": {},
   "source": [
    "### 2.3 Peeks and Checks"
   ]
  },
  {
   "cell_type": "code",
   "execution_count": 7,
   "id": "2cb531db-87bc-4a68-a282-39dc151df60d",
   "metadata": {},
   "outputs": [
    {
     "data": {
      "text/plain": [
       "age                int64\n",
       "workclass         object\n",
       "fnlwgt             int64\n",
       "education         object\n",
       "education-num      int64\n",
       "marital-status    object\n",
       "occupation        object\n",
       "relationship      object\n",
       "race              object\n",
       "sex               object\n",
       "capital-gain       int64\n",
       "capital-loss       int64\n",
       "hours-per-week     int64\n",
       "native-country    object\n",
       "income            object\n",
       "dtype: object"
      ]
     },
     "execution_count": 7,
     "metadata": {},
     "output_type": "execute_result"
    }
   ],
   "source": [
    "# Check features' datatypes.\n",
    "adult_data.dtypes"
   ]
  },
  {
   "cell_type": "code",
   "execution_count": 8,
   "id": "90a1b7af-22b8-4885-a9fc-1f30c4ec7cbd",
   "metadata": {},
   "outputs": [
    {
     "data": {
      "text/html": [
       "<div>\n",
       "<style scoped>\n",
       "    .dataframe tbody tr th:only-of-type {\n",
       "        vertical-align: middle;\n",
       "    }\n",
       "\n",
       "    .dataframe tbody tr th {\n",
       "        vertical-align: top;\n",
       "    }\n",
       "\n",
       "    .dataframe thead th {\n",
       "        text-align: right;\n",
       "    }\n",
       "</style>\n",
       "<table border=\"1\" class=\"dataframe\">\n",
       "  <thead>\n",
       "    <tr style=\"text-align: right;\">\n",
       "      <th></th>\n",
       "      <th>age</th>\n",
       "      <th>fnlwgt</th>\n",
       "      <th>education-num</th>\n",
       "      <th>capital-gain</th>\n",
       "      <th>capital-loss</th>\n",
       "      <th>hours-per-week</th>\n",
       "    </tr>\n",
       "  </thead>\n",
       "  <tbody>\n",
       "    <tr>\n",
       "      <th>count</th>\n",
       "      <td>30162.000000</td>\n",
       "      <td>3.016200e+04</td>\n",
       "      <td>30162.000000</td>\n",
       "      <td>30162.000000</td>\n",
       "      <td>30162.000000</td>\n",
       "      <td>30162.000000</td>\n",
       "    </tr>\n",
       "    <tr>\n",
       "      <th>mean</th>\n",
       "      <td>38.437902</td>\n",
       "      <td>1.897938e+05</td>\n",
       "      <td>10.121312</td>\n",
       "      <td>1092.007858</td>\n",
       "      <td>88.372489</td>\n",
       "      <td>40.931238</td>\n",
       "    </tr>\n",
       "    <tr>\n",
       "      <th>std</th>\n",
       "      <td>13.134665</td>\n",
       "      <td>1.056530e+05</td>\n",
       "      <td>2.549995</td>\n",
       "      <td>7406.346497</td>\n",
       "      <td>404.298370</td>\n",
       "      <td>11.979984</td>\n",
       "    </tr>\n",
       "    <tr>\n",
       "      <th>min</th>\n",
       "      <td>17.000000</td>\n",
       "      <td>1.376900e+04</td>\n",
       "      <td>1.000000</td>\n",
       "      <td>0.000000</td>\n",
       "      <td>0.000000</td>\n",
       "      <td>1.000000</td>\n",
       "    </tr>\n",
       "    <tr>\n",
       "      <th>25%</th>\n",
       "      <td>28.000000</td>\n",
       "      <td>1.176272e+05</td>\n",
       "      <td>9.000000</td>\n",
       "      <td>0.000000</td>\n",
       "      <td>0.000000</td>\n",
       "      <td>40.000000</td>\n",
       "    </tr>\n",
       "    <tr>\n",
       "      <th>50%</th>\n",
       "      <td>37.000000</td>\n",
       "      <td>1.784250e+05</td>\n",
       "      <td>10.000000</td>\n",
       "      <td>0.000000</td>\n",
       "      <td>0.000000</td>\n",
       "      <td>40.000000</td>\n",
       "    </tr>\n",
       "    <tr>\n",
       "      <th>75%</th>\n",
       "      <td>47.000000</td>\n",
       "      <td>2.376285e+05</td>\n",
       "      <td>13.000000</td>\n",
       "      <td>0.000000</td>\n",
       "      <td>0.000000</td>\n",
       "      <td>45.000000</td>\n",
       "    </tr>\n",
       "    <tr>\n",
       "      <th>max</th>\n",
       "      <td>90.000000</td>\n",
       "      <td>1.484705e+06</td>\n",
       "      <td>16.000000</td>\n",
       "      <td>99999.000000</td>\n",
       "      <td>4356.000000</td>\n",
       "      <td>99.000000</td>\n",
       "    </tr>\n",
       "  </tbody>\n",
       "</table>\n",
       "</div>"
      ],
      "text/plain": [
       "                age        fnlwgt  education-num  capital-gain  capital-loss  \\\n",
       "count  30162.000000  3.016200e+04   30162.000000  30162.000000  30162.000000   \n",
       "mean      38.437902  1.897938e+05      10.121312   1092.007858     88.372489   \n",
       "std       13.134665  1.056530e+05       2.549995   7406.346497    404.298370   \n",
       "min       17.000000  1.376900e+04       1.000000      0.000000      0.000000   \n",
       "25%       28.000000  1.176272e+05       9.000000      0.000000      0.000000   \n",
       "50%       37.000000  1.784250e+05      10.000000      0.000000      0.000000   \n",
       "75%       47.000000  2.376285e+05      13.000000      0.000000      0.000000   \n",
       "max       90.000000  1.484705e+06      16.000000  99999.000000   4356.000000   \n",
       "\n",
       "       hours-per-week  \n",
       "count    30162.000000  \n",
       "mean        40.931238  \n",
       "std         11.979984  \n",
       "min          1.000000  \n",
       "25%         40.000000  \n",
       "50%         40.000000  \n",
       "75%         45.000000  \n",
       "max         99.000000  "
      ]
     },
     "execution_count": 8,
     "metadata": {},
     "output_type": "execute_result"
    }
   ],
   "source": [
    "# Basic statistical information of the numerical features. \n",
    "adult_data.describe()"
   ]
  },
  {
   "cell_type": "code",
   "execution_count": 9,
   "id": "60227876-418f-4de8-afa7-5e5d5374cdb3",
   "metadata": {},
   "outputs": [
    {
     "data": {
      "text/html": [
       "<div>\n",
       "<style scoped>\n",
       "    .dataframe tbody tr th:only-of-type {\n",
       "        vertical-align: middle;\n",
       "    }\n",
       "\n",
       "    .dataframe tbody tr th {\n",
       "        vertical-align: top;\n",
       "    }\n",
       "\n",
       "    .dataframe thead th {\n",
       "        text-align: right;\n",
       "    }\n",
       "</style>\n",
       "<table border=\"1\" class=\"dataframe\">\n",
       "  <thead>\n",
       "    <tr style=\"text-align: right;\">\n",
       "      <th></th>\n",
       "      <th>age</th>\n",
       "      <th>workclass</th>\n",
       "      <th>fnlwgt</th>\n",
       "      <th>education</th>\n",
       "      <th>education-num</th>\n",
       "      <th>marital-status</th>\n",
       "      <th>occupation</th>\n",
       "      <th>relationship</th>\n",
       "      <th>race</th>\n",
       "      <th>sex</th>\n",
       "      <th>capital-gain</th>\n",
       "      <th>capital-loss</th>\n",
       "      <th>hours-per-week</th>\n",
       "      <th>native-country</th>\n",
       "      <th>income</th>\n",
       "    </tr>\n",
       "  </thead>\n",
       "  <tbody>\n",
       "    <tr>\n",
       "      <th>0</th>\n",
       "      <td>39</td>\n",
       "      <td>State-gov</td>\n",
       "      <td>77516</td>\n",
       "      <td>Bachelors</td>\n",
       "      <td>13</td>\n",
       "      <td>Never-married</td>\n",
       "      <td>Adm-clerical</td>\n",
       "      <td>Not-in-family</td>\n",
       "      <td>White</td>\n",
       "      <td>Male</td>\n",
       "      <td>2174</td>\n",
       "      <td>0</td>\n",
       "      <td>40</td>\n",
       "      <td>United-States</td>\n",
       "      <td>&lt;=50K</td>\n",
       "    </tr>\n",
       "    <tr>\n",
       "      <th>1</th>\n",
       "      <td>50</td>\n",
       "      <td>Self-emp-not-inc</td>\n",
       "      <td>83311</td>\n",
       "      <td>Bachelors</td>\n",
       "      <td>13</td>\n",
       "      <td>Married-civ-spouse</td>\n",
       "      <td>Exec-managerial</td>\n",
       "      <td>Husband</td>\n",
       "      <td>White</td>\n",
       "      <td>Male</td>\n",
       "      <td>0</td>\n",
       "      <td>0</td>\n",
       "      <td>13</td>\n",
       "      <td>United-States</td>\n",
       "      <td>&lt;=50K</td>\n",
       "    </tr>\n",
       "    <tr>\n",
       "      <th>2</th>\n",
       "      <td>38</td>\n",
       "      <td>Private</td>\n",
       "      <td>215646</td>\n",
       "      <td>HS-grad</td>\n",
       "      <td>9</td>\n",
       "      <td>Divorced</td>\n",
       "      <td>Handlers-cleaners</td>\n",
       "      <td>Not-in-family</td>\n",
       "      <td>White</td>\n",
       "      <td>Male</td>\n",
       "      <td>0</td>\n",
       "      <td>0</td>\n",
       "      <td>40</td>\n",
       "      <td>United-States</td>\n",
       "      <td>&lt;=50K</td>\n",
       "    </tr>\n",
       "    <tr>\n",
       "      <th>3</th>\n",
       "      <td>53</td>\n",
       "      <td>Private</td>\n",
       "      <td>234721</td>\n",
       "      <td>11th</td>\n",
       "      <td>7</td>\n",
       "      <td>Married-civ-spouse</td>\n",
       "      <td>Handlers-cleaners</td>\n",
       "      <td>Husband</td>\n",
       "      <td>Black</td>\n",
       "      <td>Male</td>\n",
       "      <td>0</td>\n",
       "      <td>0</td>\n",
       "      <td>40</td>\n",
       "      <td>United-States</td>\n",
       "      <td>&lt;=50K</td>\n",
       "    </tr>\n",
       "    <tr>\n",
       "      <th>4</th>\n",
       "      <td>28</td>\n",
       "      <td>Private</td>\n",
       "      <td>338409</td>\n",
       "      <td>Bachelors</td>\n",
       "      <td>13</td>\n",
       "      <td>Married-civ-spouse</td>\n",
       "      <td>Prof-specialty</td>\n",
       "      <td>Wife</td>\n",
       "      <td>Black</td>\n",
       "      <td>Female</td>\n",
       "      <td>0</td>\n",
       "      <td>0</td>\n",
       "      <td>40</td>\n",
       "      <td>Cuba</td>\n",
       "      <td>&lt;=50K</td>\n",
       "    </tr>\n",
       "  </tbody>\n",
       "</table>\n",
       "</div>"
      ],
      "text/plain": [
       "   age          workclass  fnlwgt   education  education-num  \\\n",
       "0   39          State-gov   77516   Bachelors             13   \n",
       "1   50   Self-emp-not-inc   83311   Bachelors             13   \n",
       "2   38            Private  215646     HS-grad              9   \n",
       "3   53            Private  234721        11th              7   \n",
       "4   28            Private  338409   Bachelors             13   \n",
       "\n",
       "        marital-status          occupation    relationship    race      sex  \\\n",
       "0        Never-married        Adm-clerical   Not-in-family   White     Male   \n",
       "1   Married-civ-spouse     Exec-managerial         Husband   White     Male   \n",
       "2             Divorced   Handlers-cleaners   Not-in-family   White     Male   \n",
       "3   Married-civ-spouse   Handlers-cleaners         Husband   Black     Male   \n",
       "4   Married-civ-spouse      Prof-specialty            Wife   Black   Female   \n",
       "\n",
       "   capital-gain  capital-loss  hours-per-week  native-country  income  \n",
       "0          2174             0              40   United-States   <=50K  \n",
       "1             0             0              13   United-States   <=50K  \n",
       "2             0             0              40   United-States   <=50K  \n",
       "3             0             0              40   United-States   <=50K  \n",
       "4             0             0              40            Cuba   <=50K  "
      ]
     },
     "execution_count": 9,
     "metadata": {},
     "output_type": "execute_result"
    }
   ],
   "source": [
    "# Peek first 5 rows.\n",
    "adult_data.head(5) "
   ]
  },
  {
   "cell_type": "code",
   "execution_count": 10,
   "id": "12e8427b-2005-4fd0-acd2-f3b91759d41d",
   "metadata": {},
   "outputs": [
    {
     "data": {
      "text/html": [
       "<div>\n",
       "<style scoped>\n",
       "    .dataframe tbody tr th:only-of-type {\n",
       "        vertical-align: middle;\n",
       "    }\n",
       "\n",
       "    .dataframe tbody tr th {\n",
       "        vertical-align: top;\n",
       "    }\n",
       "\n",
       "    .dataframe thead th {\n",
       "        text-align: right;\n",
       "    }\n",
       "</style>\n",
       "<table border=\"1\" class=\"dataframe\">\n",
       "  <thead>\n",
       "    <tr style=\"text-align: right;\">\n",
       "      <th></th>\n",
       "      <th>age</th>\n",
       "      <th>workclass</th>\n",
       "      <th>fnlwgt</th>\n",
       "      <th>education</th>\n",
       "      <th>education-num</th>\n",
       "      <th>marital-status</th>\n",
       "      <th>occupation</th>\n",
       "      <th>relationship</th>\n",
       "      <th>race</th>\n",
       "      <th>sex</th>\n",
       "      <th>capital-gain</th>\n",
       "      <th>capital-loss</th>\n",
       "      <th>hours-per-week</th>\n",
       "      <th>native-country</th>\n",
       "      <th>income</th>\n",
       "    </tr>\n",
       "  </thead>\n",
       "  <tbody>\n",
       "    <tr>\n",
       "      <th>32556</th>\n",
       "      <td>27</td>\n",
       "      <td>Private</td>\n",
       "      <td>257302</td>\n",
       "      <td>Assoc-acdm</td>\n",
       "      <td>12</td>\n",
       "      <td>Married-civ-spouse</td>\n",
       "      <td>Tech-support</td>\n",
       "      <td>Wife</td>\n",
       "      <td>White</td>\n",
       "      <td>Female</td>\n",
       "      <td>0</td>\n",
       "      <td>0</td>\n",
       "      <td>38</td>\n",
       "      <td>United-States</td>\n",
       "      <td>&lt;=50K</td>\n",
       "    </tr>\n",
       "    <tr>\n",
       "      <th>32557</th>\n",
       "      <td>40</td>\n",
       "      <td>Private</td>\n",
       "      <td>154374</td>\n",
       "      <td>HS-grad</td>\n",
       "      <td>9</td>\n",
       "      <td>Married-civ-spouse</td>\n",
       "      <td>Machine-op-inspct</td>\n",
       "      <td>Husband</td>\n",
       "      <td>White</td>\n",
       "      <td>Male</td>\n",
       "      <td>0</td>\n",
       "      <td>0</td>\n",
       "      <td>40</td>\n",
       "      <td>United-States</td>\n",
       "      <td>&gt;50K</td>\n",
       "    </tr>\n",
       "    <tr>\n",
       "      <th>32558</th>\n",
       "      <td>58</td>\n",
       "      <td>Private</td>\n",
       "      <td>151910</td>\n",
       "      <td>HS-grad</td>\n",
       "      <td>9</td>\n",
       "      <td>Widowed</td>\n",
       "      <td>Adm-clerical</td>\n",
       "      <td>Unmarried</td>\n",
       "      <td>White</td>\n",
       "      <td>Female</td>\n",
       "      <td>0</td>\n",
       "      <td>0</td>\n",
       "      <td>40</td>\n",
       "      <td>United-States</td>\n",
       "      <td>&lt;=50K</td>\n",
       "    </tr>\n",
       "    <tr>\n",
       "      <th>32559</th>\n",
       "      <td>22</td>\n",
       "      <td>Private</td>\n",
       "      <td>201490</td>\n",
       "      <td>HS-grad</td>\n",
       "      <td>9</td>\n",
       "      <td>Never-married</td>\n",
       "      <td>Adm-clerical</td>\n",
       "      <td>Own-child</td>\n",
       "      <td>White</td>\n",
       "      <td>Male</td>\n",
       "      <td>0</td>\n",
       "      <td>0</td>\n",
       "      <td>20</td>\n",
       "      <td>United-States</td>\n",
       "      <td>&lt;=50K</td>\n",
       "    </tr>\n",
       "    <tr>\n",
       "      <th>32560</th>\n",
       "      <td>52</td>\n",
       "      <td>Self-emp-inc</td>\n",
       "      <td>287927</td>\n",
       "      <td>HS-grad</td>\n",
       "      <td>9</td>\n",
       "      <td>Married-civ-spouse</td>\n",
       "      <td>Exec-managerial</td>\n",
       "      <td>Wife</td>\n",
       "      <td>White</td>\n",
       "      <td>Female</td>\n",
       "      <td>15024</td>\n",
       "      <td>0</td>\n",
       "      <td>40</td>\n",
       "      <td>United-States</td>\n",
       "      <td>&gt;50K</td>\n",
       "    </tr>\n",
       "  </tbody>\n",
       "</table>\n",
       "</div>"
      ],
      "text/plain": [
       "       age      workclass  fnlwgt    education  education-num  \\\n",
       "32556   27        Private  257302   Assoc-acdm             12   \n",
       "32557   40        Private  154374      HS-grad              9   \n",
       "32558   58        Private  151910      HS-grad              9   \n",
       "32559   22        Private  201490      HS-grad              9   \n",
       "32560   52   Self-emp-inc  287927      HS-grad              9   \n",
       "\n",
       "            marital-status          occupation relationship    race      sex  \\\n",
       "32556   Married-civ-spouse        Tech-support         Wife   White   Female   \n",
       "32557   Married-civ-spouse   Machine-op-inspct      Husband   White     Male   \n",
       "32558              Widowed        Adm-clerical    Unmarried   White   Female   \n",
       "32559        Never-married        Adm-clerical    Own-child   White     Male   \n",
       "32560   Married-civ-spouse     Exec-managerial         Wife   White   Female   \n",
       "\n",
       "       capital-gain  capital-loss  hours-per-week  native-country  income  \n",
       "32556             0             0              38   United-States   <=50K  \n",
       "32557             0             0              40   United-States    >50K  \n",
       "32558             0             0              40   United-States   <=50K  \n",
       "32559             0             0              20   United-States   <=50K  \n",
       "32560         15024             0              40   United-States    >50K  "
      ]
     },
     "execution_count": 10,
     "metadata": {},
     "output_type": "execute_result"
    }
   ],
   "source": [
    "# Peek last 5 rows.\n",
    "adult_data.tail() "
   ]
  },
  {
   "cell_type": "markdown",
   "id": "b88750c3-1d53-4e73-8c7d-3b94115ed476",
   "metadata": {},
   "source": [
    "#### Findings:\n",
    "- Features `age`, `education-num`, `fnlwgt`, `capital-gain`, `capital-loss`, `hours-per-week` are numerical.\n",
    "- Features `workclass`, `education`, `marital-status`, `occupation`, `relationship`, `race`, `native-country` are categorical.\n",
    "- Feature `sex` and target `income` are dichotomous/binary (also categorical).\n",
    "\n",
    "#### Perform (during chapter X. Feature Engineering):\n",
    "- Encode all categorical columns to numerical values as machine learning algorithms work better with numerical values.\n",
    "- Feature `sex` and target `income` can be converted to binary (1 or 0)."
   ]
  },
  {
   "cell_type": "markdown",
   "id": "a6e471f6",
   "metadata": {},
   "source": [
    "## Chapter 3. Problem Formulation"
   ]
  },
  {
   "cell_type": "markdown",
   "id": "0f89c25c",
   "metadata": {},
   "source": [
    "### Utilize census (survey) data to forecast whether the earnings of a particular demographic surpass $50k annually."
   ]
  },
  {
   "cell_type": "code",
   "execution_count": 11,
   "id": "8b28bada-0dd3-451c-b12b-502e988657dc",
   "metadata": {},
   "outputs": [],
   "source": [
    "# Problem statement: Predict whether the income of a specific group of people exceeds $50K/yr or not based on census (survey) data. \n",
    "# This problem is a binary classification problem."
   ]
  },
  {
   "cell_type": "code",
   "execution_count": null,
   "id": "90eb686c-4fe7-4f81-9e62-62624f7c81ad",
   "metadata": {},
   "outputs": [],
   "source": []
  },
  {
   "cell_type": "markdown",
   "id": "53a268c4",
   "metadata": {},
   "source": [
    "## Chapter 4. Exploratory Data Analysis"
   ]
  },
  {
   "cell_type": "markdown",
   "id": "9aa4d6a8",
   "metadata": {},
   "source": [
    "### 4.1. Exploring the Response"
   ]
  },
  {
   "cell_type": "code",
   "execution_count": 12,
   "id": "4660424f-4c0b-4cde-8643-81482f689ff1",
   "metadata": {},
   "outputs": [
    {
     "data": {
      "text/plain": [
       "<seaborn.axisgrid.FacetGrid at 0x1f0502a5110>"
      ]
     },
     "execution_count": 12,
     "metadata": {},
     "output_type": "execute_result"
    },
    {
     "data": {
      "image/png": "[encoded data removed]",
      "text/plain": [
       "<Figure size 500x500 with 1 Axes>"
      ]
     },
     "metadata": {},
     "output_type": "display_data"
    }
   ],
   "source": [
    "sns.catplot(y = 'income', data = adult_data, kind = \"count\")"
   ]
  },
  {
   "cell_type": "code",
   "execution_count": 13,
   "id": "9f5f4a43-ecf4-4abc-aa69-f6a6f25dba16",
   "metadata": {},
   "outputs": [
    {
     "name": "stdout",
     "output_type": "stream",
     "text": [
      "Number of data in each Count catergory:\n",
      "\n",
      "Income             Counter\n",
      "-------------------------\n",
      "Income >= 50000      22654\n",
      "Income < 50000       7508\n"
     ]
    },
    {
     "name": "stderr",
     "output_type": "stream",
     "text": [
      "C:\\Users\\ongjc\\AppData\\Local\\Temp\\ipykernel_17804\\918675806.py:8: FutureWarning: Series.__getitem__ treating keys as positions is deprecated. In a future version, integer keys will always be treated as labels (consistent with DataFrame behavior). To access a value by position, use `ser.iloc[pos]`\n",
      "  print (x * ' ', adult_data_gb['income'].count()[0])\n",
      "C:\\Users\\ongjc\\AppData\\Local\\Temp\\ipykernel_17804\\918675806.py:12: FutureWarning: Series.__getitem__ treating keys as positions is deprecated. In a future version, integer keys will always be treated as labels (consistent with DataFrame behavior). To access a value by position, use `ser.iloc[pos]`\n",
      "  print (x * ' ', adult_data_gb['income'].count()[1])\n"
     ]
    }
   ],
   "source": [
    "print(\"Number of data in each Count catergory:\\n\")\n",
    "print(\"Income\", 11*' ', \"Counter\")\n",
    "print(\"-\"*25)\n",
    "adult_data_gb = adult_data.groupby('income')\n",
    "i = \"Income >= 50000\"\n",
    "print(i, end=\"\")\n",
    "x = 20 - len(i) # For styling purposes\n",
    "print (x * ' ', adult_data_gb['income'].count()[0])\n",
    "i = \"Income < 50000\"\n",
    "print(i, end=\"\")\n",
    "x = 20 - len(i) # For styling purposes\n",
    "print (x * ' ', adult_data_gb['income'].count()[1])"
   ]
  },
  {
   "cell_type": "markdown",
   "id": "81d1fea7",
   "metadata": {},
   "source": [
    "#### Findings\n",
    "- Data is more concentrated towards income >= 50000"
   ]
  },
  {
   "cell_type": "markdown",
   "id": "c0a3957b",
   "metadata": {},
   "source": [
    "### 5.2. Exploring the Numerical Predictors"
   ]
  },
  {
   "cell_type": "markdown",
   "id": "2327fb8a",
   "metadata": {},
   "source": [
    "### 5.3. Exploring the Catergorical Predictors"
   ]
  },
  {
   "cell_type": "code",
   "execution_count": null,
   "id": "a55a9737",
   "metadata": {},
   "outputs": [],
   "source": []
  },
  {
   "cell_type": "code",
   "execution_count": null,
   "id": "2ac5eb4e-81b7-4336-b900-9fdc36aac192",
   "metadata": {},
   "outputs": [],
   "source": []
  },
  {
   "cell_type": "code",
   "execution_count": null,
   "id": "805d3a85-10a2-4505-b10e-aaa4684aadb6",
   "metadata": {},
   "outputs": [],
   "source": []
  },
  {
   "cell_type": "code",
   "execution_count": 14,
   "id": "976e28d0-e3a5-46dd-b297-78bc6cdcccdf",
   "metadata": {},
   "outputs": [
    {
     "data": {
      "text/plain": [
       "'\\nthings to minimally do in EDA:\\n1. find out education-num is mapped education\\n2. find out fnlwgt doesnt affect label (probs use corr or something).\\nMORE but idk what yet.\\n'"
      ]
     },
     "execution_count": 14,
     "metadata": {},
     "output_type": "execute_result"
    }
   ],
   "source": [
    "\"\"\"\n",
    "things to minimally do in EDA:\n",
    "1. find out education-num is mapped education\n",
    "2. find out fnlwgt doesnt affect label (probs use corr or something).\n",
    "MORE but idk what yet.\n",
    "\"\"\""
   ]
  },
  {
   "cell_type": "code",
   "execution_count": 15,
   "id": "cd6cde89-ee5f-4174-a355-23bb2544778c",
   "metadata": {},
   "outputs": [],
   "source": [
    "# I aint gonna touch EDA anytime soon - jc\n",
    " "
   ]
  },
  {
   "cell_type": "code",
   "execution_count": null,
   "id": "d312f010-a758-4bd7-87ca-196b8a288fb3",
   "metadata": {},
   "outputs": [],
   "source": []
  },
  {
   "cell_type": "markdown",
   "id": "0012ced5-b019-43cf-be80-cc56bd564880",
   "metadata": {},
   "source": [
    "## Chapter 6. Feature Engineering"
   ]
  },
  {
   "cell_type": "markdown",
   "id": "f4a86708-6aa2-451c-b825-bd0d64ccd665",
   "metadata": {},
   "source": [
    "Perform (based on notes collected in earlier chapters):\n",
    "- One-hot encode all categorical variables: </br>\n",
    "  `workclass`, `education`, `marital-status`,\n",
    "  `occupation`, `relationship`, `race`, `sex`, `native-country`, and `income`.\n",
    "- Drop `fnlwgt` and `education-num`.\n"
   ]
  },
  {
   "cell_type": "markdown",
   "id": "4180047e-c26a-4422-8735-47aa790c5479",
   "metadata": {},
   "source": [
    "### 6.1. Encode `workclass`"
   ]
  },
  {
   "cell_type": "code",
   "execution_count": 16,
   "id": "77d24b26-28ce-4209-ad00-b0a8a20b7bfb",
   "metadata": {},
   "outputs": [
    {
     "data": {
      "text/plain": [
       "workclass\n",
       " Private             22286\n",
       " Self-emp-not-inc     2499\n",
       " Local-gov            2067\n",
       " State-gov            1279\n",
       " Self-emp-inc         1074\n",
       " Federal-gov           943\n",
       " Without-pay            14\n",
       "Name: count, dtype: int64"
      ]
     },
     "execution_count": 16,
     "metadata": {},
     "output_type": "execute_result"
    }
   ],
   "source": [
    "# Check the spread and all the possible values of the feature.\n",
    "adult_data.workclass.value_counts()"
   ]
  },
  {
   "cell_type": "code",
   "execution_count": 17,
   "id": "bcb699c7-78ee-4299-9af7-40b06edf5aff",
   "metadata": {},
   "outputs": [
    {
     "data": {
      "text/plain": [
       "workclass\n",
       "1    22286\n",
       "3     4289\n",
       "2     3573\n",
       "0       14\n",
       "Name: count, dtype: int64"
      ]
     },
     "execution_count": 17,
     "metadata": {},
     "output_type": "execute_result"
    }
   ],
   "source": [
    "# Judging from the spread, we can further group this feature to: \n",
    "# \"Private\", \"Public\" (those with \"gov\"), \"Self-Employed\" (those with \"self\"), and \"Others\" (\"Without-pay\").\n",
    "# Then encode them.\n",
    "# Define the mapping dictionary\n",
    "workclass_dict = {\n",
    "    \" Without-pay\": 0, \n",
    "    \" Private\": 1, \n",
    "    \" Self-emp-not-inc\": 2, \n",
    "    \" Self-emp-inc\": 2, \n",
    "    \" Local-gov\": 3, \n",
    "    \" State-gov\": 3, \n",
    "    \" Federal-gov\" : 3\n",
    "}\n",
    "\n",
    "# Replace values using the mapping dictionary\n",
    "adult_data[\"workclass\"] = adult_data[\"workclass\"].replace(workclass_dict)\n",
    "\n",
    "# Check.\n",
    "adult_data[\"workclass\"].value_counts()"
   ]
  },
  {
   "cell_type": "markdown",
   "id": "931736c5-6092-49fe-8d3d-956a5f87ad2d",
   "metadata": {},
   "source": [
    "### 6.2. Encode `education`"
   ]
  },
  {
   "cell_type": "markdown",
   "id": "348c426a-2202-45b9-a63b-f2bf7f712823",
   "metadata": {},
   "source": [
    "### 6.3. Encode `marital-status`"
   ]
  },
  {
   "cell_type": "code",
   "execution_count": null,
   "id": "681c6a15-134c-4442-b623-3d2643cc80b7",
   "metadata": {},
   "outputs": [],
   "source": []
  },
  {
   "cell_type": "code",
   "execution_count": null,
   "id": "8d511c1a-f92f-4a37-9289-2e5872066a83",
   "metadata": {},
   "outputs": [],
   "source": []
  },
  {
   "cell_type": "markdown",
   "id": "2689a269-0ac7-4cf8-8e76-d64e4e5d8c70",
   "metadata": {},
   "source": [
    "### 6.4. Encode `occupation`"
   ]
  },
  {
   "cell_type": "code",
   "execution_count": 18,
   "id": "3eed21da-27fa-4a43-a4d8-fad08f9ce839",
   "metadata": {},
   "outputs": [
    {
     "data": {
      "text/plain": [
       "occupation\n",
       " Prof-specialty       4038\n",
       " Craft-repair         4030\n",
       " Exec-managerial      3992\n",
       " Adm-clerical         3721\n",
       " Sales                3584\n",
       " Other-service        3212\n",
       " Machine-op-inspct    1966\n",
       " Transport-moving     1572\n",
       " Handlers-cleaners    1350\n",
       " Farming-fishing       989\n",
       " Tech-support          912\n",
       " Protective-serv       644\n",
       " Priv-house-serv       143\n",
       " Armed-Forces            9\n",
       "Name: count, dtype: int64"
      ]
     },
     "execution_count": 18,
     "metadata": {},
     "output_type": "execute_result"
    }
   ],
   "source": [
    "# Check the spread and all the possible values of the feature.\n",
    "adult_data.occupation.value_counts()"
   ]
  },
  {
   "cell_type": "markdown",
   "id": "bd0c58d1-7e22-4521-a6b5-9f5163880cc5",
   "metadata": {},
   "source": [
    "### 6.5. Encode `relationship`"
   ]
  },
  {
   "cell_type": "code",
   "execution_count": 19,
   "id": "e52bb129-236b-4682-8733-8a0344877ec9",
   "metadata": {},
   "outputs": [
    {
     "data": {
      "text/plain": [
       "relationship\n",
       " Husband           12463\n",
       " Not-in-family      7726\n",
       " Own-child          4466\n",
       " Unmarried          3212\n",
       " Wife               1406\n",
       " Other-relative      889\n",
       "Name: count, dtype: int64"
      ]
     },
     "execution_count": 19,
     "metadata": {},
     "output_type": "execute_result"
    }
   ],
   "source": [
    "# Check the spread and all the possible values of the feature.\n",
    "adult_data.relationship.value_counts()"
   ]
  },
  {
   "cell_type": "code",
   "execution_count": 20,
   "id": "ed3d9a25-fdcf-4251-bc94-dcb5cb565643",
   "metadata": {},
   "outputs": [
    {
     "data": {
      "text/plain": [
       "relationship\n",
       "0    16293\n",
       "1    13869\n",
       "Name: count, dtype: int64"
      ]
     },
     "execution_count": 20,
     "metadata": {},
     "output_type": "execute_result"
    }
   ],
   "source": [
    "# Judging from the spread, we can further group this feature to \"Married\" (\"Husband\" or \"Wife\") and \"Others\" (the rest).\n",
    "adult_data[\"relationship\"] = adult_data[\"relationship\"].apply(lambda x: 1 if \" Husband\" in x or \" Wife\" in x else 0)\n",
    "\n",
    "# Check.\n",
    "adult_data.relationship.value_counts()"
   ]
  },
  {
   "cell_type": "markdown",
   "id": "bc37ee87-ca60-46ea-a6f6-f2e1085e2382",
   "metadata": {},
   "source": [
    "### 6.6. Encode `race`"
   ]
  },
  {
   "cell_type": "code",
   "execution_count": 21,
   "id": "cb0b02c4-2e33-4a9a-a1b5-4314df2988bd",
   "metadata": {},
   "outputs": [],
   "source": [
    "# Check the spread and all the possible values of the feature.\n"
   ]
  },
  {
   "cell_type": "markdown",
   "id": "09987597-90bd-4b44-8bb0-abb2277ebce2",
   "metadata": {},
   "source": [
    "### 6.7. Encode `sex`"
   ]
  },
  {
   "cell_type": "code",
   "execution_count": 22,
   "id": "5f2fa797-5455-498a-a8ba-fbe960f86661",
   "metadata": {},
   "outputs": [
    {
     "data": {
      "text/plain": [
       "sex\n",
       " Male      20380\n",
       " Female     9782\n",
       "Name: count, dtype: int64"
      ]
     },
     "execution_count": 22,
     "metadata": {},
     "output_type": "execute_result"
    }
   ],
   "source": [
    "# Check the spread and all the possible values of the feature.\n",
    "adult_data.sex.value_counts()"
   ]
  },
  {
   "cell_type": "code",
   "execution_count": 23,
   "id": "7b8c7363-bccc-48b6-b305-2a2949b2cadd",
   "metadata": {},
   "outputs": [
    {
     "data": {
      "text/plain": [
       "sex\n",
       "0    20380\n",
       "1     9782\n",
       "Name: count, dtype: int64"
      ]
     },
     "execution_count": 23,
     "metadata": {},
     "output_type": "execute_result"
    }
   ],
   "source": [
    "# Map \"Male\" = 0, \"Female\" = 1.\n",
    "adult_data[\"sex\"] = adult_data[\"sex\"].map({\" Male\": 0, \" Female\": 1}) \n",
    "\n",
    "# Check.\n",
    "adult_data.sex.value_counts()"
   ]
  },
  {
   "cell_type": "markdown",
   "id": "64638fd9-5ea9-474c-919a-d94155b75c55",
   "metadata": {},
   "source": [
    "### 6.8. Encode `native-country`"
   ]
  },
  {
   "cell_type": "code",
   "execution_count": 24,
   "id": "cd5755d8-16b5-4cfb-b034-06694669fc54",
   "metadata": {},
   "outputs": [],
   "source": [
    "# Check the spread and all the possible values of the feature.\n"
   ]
  },
  {
   "cell_type": "markdown",
   "id": "bf0c6c38-49b9-4640-817d-1ccafd0fcdf5",
   "metadata": {},
   "source": [
    "### 6.9. Encode `income`"
   ]
  },
  {
   "cell_type": "code",
   "execution_count": 25,
   "id": "c5c15d66-a3f8-4f26-822d-24c58b024eba",
   "metadata": {},
   "outputs": [
    {
     "data": {
      "text/plain": [
       "income\n",
       " <=50K    22654\n",
       " >50K      7508\n",
       "Name: count, dtype: int64"
      ]
     },
     "execution_count": 25,
     "metadata": {},
     "output_type": "execute_result"
    }
   ],
   "source": [
    "# Check the spread and all the possible values of the label.\n",
    "adult_data.income.value_counts()"
   ]
  },
  {
   "cell_type": "code",
   "execution_count": 26,
   "id": "adf4c919-8988-4b61-a616-136577ac37ce",
   "metadata": {},
   "outputs": [
    {
     "data": {
      "text/plain": [
       "income\n",
       "0    22654\n",
       "1     7508\n",
       "Name: count, dtype: int64"
      ]
     },
     "execution_count": 26,
     "metadata": {},
     "output_type": "execute_result"
    }
   ],
   "source": [
    "# Map `income`: \"<=50K\" = 0, `>50K` = 1.\n",
    "adult_data[\"income\"] = adult_data[\"income\"].map({\" <=50K\": 0, \" >50K\":1}) \n",
    "\n",
    "# Check.\n",
    "adult_data.income.value_counts()"
   ]
  },
  {
   "cell_type": "markdown",
   "id": "26164008-e069-43c6-a8e1-724aa25b0279",
   "metadata": {},
   "source": [
    "### 6.10. Drop Redundant Features"
   ]
  },
  {
   "cell_type": "code",
   "execution_count": 27,
   "id": "688957da-47a6-4820-908a-c6f268b40878",
   "metadata": {},
   "outputs": [],
   "source": [
    "adult_data = adult_data.drop(\n",
    "    [\"fnlwgt\", 'education-num'], axis=1)"
   ]
  },
  {
   "cell_type": "markdown",
   "id": "cf30a284-7f6e-4f63-aa87-08cd5c04cfbc",
   "metadata": {},
   "source": [
    "## Chapter 7. Modelling"
   ]
  },
  {
   "cell_type": "code",
   "execution_count": 28,
   "id": "8551f2d0-b047-4c2f-98cd-906bc3126496",
   "metadata": {},
   "outputs": [
    {
     "data": {
      "text/html": [
       "<div>\n",
       "<style scoped>\n",
       "    .dataframe tbody tr th:only-of-type {\n",
       "        vertical-align: middle;\n",
       "    }\n",
       "\n",
       "    .dataframe tbody tr th {\n",
       "        vertical-align: top;\n",
       "    }\n",
       "\n",
       "    .dataframe thead th {\n",
       "        text-align: right;\n",
       "    }\n",
       "</style>\n",
       "<table border=\"1\" class=\"dataframe\">\n",
       "  <thead>\n",
       "    <tr style=\"text-align: right;\">\n",
       "      <th></th>\n",
       "      <th>age</th>\n",
       "      <th>workclass</th>\n",
       "      <th>education</th>\n",
       "      <th>marital-status</th>\n",
       "      <th>occupation</th>\n",
       "      <th>relationship</th>\n",
       "      <th>race</th>\n",
       "      <th>sex</th>\n",
       "      <th>capital-gain</th>\n",
       "      <th>capital-loss</th>\n",
       "      <th>hours-per-week</th>\n",
       "      <th>native-country</th>\n",
       "      <th>income</th>\n",
       "    </tr>\n",
       "  </thead>\n",
       "  <tbody>\n",
       "    <tr>\n",
       "      <th>0</th>\n",
       "      <td>39</td>\n",
       "      <td>3</td>\n",
       "      <td>Bachelors</td>\n",
       "      <td>Never-married</td>\n",
       "      <td>Adm-clerical</td>\n",
       "      <td>0</td>\n",
       "      <td>White</td>\n",
       "      <td>0</td>\n",
       "      <td>2174</td>\n",
       "      <td>0</td>\n",
       "      <td>40</td>\n",
       "      <td>United-States</td>\n",
       "      <td>0</td>\n",
       "    </tr>\n",
       "    <tr>\n",
       "      <th>1</th>\n",
       "      <td>50</td>\n",
       "      <td>2</td>\n",
       "      <td>Bachelors</td>\n",
       "      <td>Married-civ-spouse</td>\n",
       "      <td>Exec-managerial</td>\n",
       "      <td>1</td>\n",
       "      <td>White</td>\n",
       "      <td>0</td>\n",
       "      <td>0</td>\n",
       "      <td>0</td>\n",
       "      <td>13</td>\n",
       "      <td>United-States</td>\n",
       "      <td>0</td>\n",
       "    </tr>\n",
       "    <tr>\n",
       "      <th>2</th>\n",
       "      <td>38</td>\n",
       "      <td>1</td>\n",
       "      <td>HS-grad</td>\n",
       "      <td>Divorced</td>\n",
       "      <td>Handlers-cleaners</td>\n",
       "      <td>0</td>\n",
       "      <td>White</td>\n",
       "      <td>0</td>\n",
       "      <td>0</td>\n",
       "      <td>0</td>\n",
       "      <td>40</td>\n",
       "      <td>United-States</td>\n",
       "      <td>0</td>\n",
       "    </tr>\n",
       "    <tr>\n",
       "      <th>3</th>\n",
       "      <td>53</td>\n",
       "      <td>1</td>\n",
       "      <td>11th</td>\n",
       "      <td>Married-civ-spouse</td>\n",
       "      <td>Handlers-cleaners</td>\n",
       "      <td>1</td>\n",
       "      <td>Black</td>\n",
       "      <td>0</td>\n",
       "      <td>0</td>\n",
       "      <td>0</td>\n",
       "      <td>40</td>\n",
       "      <td>United-States</td>\n",
       "      <td>0</td>\n",
       "    </tr>\n",
       "    <tr>\n",
       "      <th>4</th>\n",
       "      <td>28</td>\n",
       "      <td>1</td>\n",
       "      <td>Bachelors</td>\n",
       "      <td>Married-civ-spouse</td>\n",
       "      <td>Prof-specialty</td>\n",
       "      <td>1</td>\n",
       "      <td>Black</td>\n",
       "      <td>1</td>\n",
       "      <td>0</td>\n",
       "      <td>0</td>\n",
       "      <td>40</td>\n",
       "      <td>Cuba</td>\n",
       "      <td>0</td>\n",
       "    </tr>\n",
       "    <tr>\n",
       "      <th>...</th>\n",
       "      <td>...</td>\n",
       "      <td>...</td>\n",
       "      <td>...</td>\n",
       "      <td>...</td>\n",
       "      <td>...</td>\n",
       "      <td>...</td>\n",
       "      <td>...</td>\n",
       "      <td>...</td>\n",
       "      <td>...</td>\n",
       "      <td>...</td>\n",
       "      <td>...</td>\n",
       "      <td>...</td>\n",
       "      <td>...</td>\n",
       "    </tr>\n",
       "    <tr>\n",
       "      <th>32556</th>\n",
       "      <td>27</td>\n",
       "      <td>1</td>\n",
       "      <td>Assoc-acdm</td>\n",
       "      <td>Married-civ-spouse</td>\n",
       "      <td>Tech-support</td>\n",
       "      <td>1</td>\n",
       "      <td>White</td>\n",
       "      <td>1</td>\n",
       "      <td>0</td>\n",
       "      <td>0</td>\n",
       "      <td>38</td>\n",
       "      <td>United-States</td>\n",
       "      <td>0</td>\n",
       "    </tr>\n",
       "    <tr>\n",
       "      <th>32557</th>\n",
       "      <td>40</td>\n",
       "      <td>1</td>\n",
       "      <td>HS-grad</td>\n",
       "      <td>Married-civ-spouse</td>\n",
       "      <td>Machine-op-inspct</td>\n",
       "      <td>1</td>\n",
       "      <td>White</td>\n",
       "      <td>0</td>\n",
       "      <td>0</td>\n",
       "      <td>0</td>\n",
       "      <td>40</td>\n",
       "      <td>United-States</td>\n",
       "      <td>1</td>\n",
       "    </tr>\n",
       "    <tr>\n",
       "      <th>32558</th>\n",
       "      <td>58</td>\n",
       "      <td>1</td>\n",
       "      <td>HS-grad</td>\n",
       "      <td>Widowed</td>\n",
       "      <td>Adm-clerical</td>\n",
       "      <td>0</td>\n",
       "      <td>White</td>\n",
       "      <td>1</td>\n",
       "      <td>0</td>\n",
       "      <td>0</td>\n",
       "      <td>40</td>\n",
       "      <td>United-States</td>\n",
       "      <td>0</td>\n",
       "    </tr>\n",
       "    <tr>\n",
       "      <th>32559</th>\n",
       "      <td>22</td>\n",
       "      <td>1</td>\n",
       "      <td>HS-grad</td>\n",
       "      <td>Never-married</td>\n",
       "      <td>Adm-clerical</td>\n",
       "      <td>0</td>\n",
       "      <td>White</td>\n",
       "      <td>0</td>\n",
       "      <td>0</td>\n",
       "      <td>0</td>\n",
       "      <td>20</td>\n",
       "      <td>United-States</td>\n",
       "      <td>0</td>\n",
       "    </tr>\n",
       "    <tr>\n",
       "      <th>32560</th>\n",
       "      <td>52</td>\n",
       "      <td>2</td>\n",
       "      <td>HS-grad</td>\n",
       "      <td>Married-civ-spouse</td>\n",
       "      <td>Exec-managerial</td>\n",
       "      <td>1</td>\n",
       "      <td>White</td>\n",
       "      <td>1</td>\n",
       "      <td>15024</td>\n",
       "      <td>0</td>\n",
       "      <td>40</td>\n",
       "      <td>United-States</td>\n",
       "      <td>1</td>\n",
       "    </tr>\n",
       "  </tbody>\n",
       "</table>\n",
       "<p>30162 rows × 13 columns</p>\n",
       "</div>"
      ],
      "text/plain": [
       "       age  workclass    education       marital-status          occupation  \\\n",
       "0       39          3    Bachelors        Never-married        Adm-clerical   \n",
       "1       50          2    Bachelors   Married-civ-spouse     Exec-managerial   \n",
       "2       38          1      HS-grad             Divorced   Handlers-cleaners   \n",
       "3       53          1         11th   Married-civ-spouse   Handlers-cleaners   \n",
       "4       28          1    Bachelors   Married-civ-spouse      Prof-specialty   \n",
       "...    ...        ...          ...                  ...                 ...   \n",
       "32556   27          1   Assoc-acdm   Married-civ-spouse        Tech-support   \n",
       "32557   40          1      HS-grad   Married-civ-spouse   Machine-op-inspct   \n",
       "32558   58          1      HS-grad              Widowed        Adm-clerical   \n",
       "32559   22          1      HS-grad        Never-married        Adm-clerical   \n",
       "32560   52          2      HS-grad   Married-civ-spouse     Exec-managerial   \n",
       "\n",
       "       relationship    race  sex  capital-gain  capital-loss  hours-per-week  \\\n",
       "0                 0   White    0          2174             0              40   \n",
       "1                 1   White    0             0             0              13   \n",
       "2                 0   White    0             0             0              40   \n",
       "3                 1   Black    0             0             0              40   \n",
       "4                 1   Black    1             0             0              40   \n",
       "...             ...     ...  ...           ...           ...             ...   \n",
       "32556             1   White    1             0             0              38   \n",
       "32557             1   White    0             0             0              40   \n",
       "32558             0   White    1             0             0              40   \n",
       "32559             0   White    0             0             0              20   \n",
       "32560             1   White    1         15024             0              40   \n",
       "\n",
       "       native-country  income  \n",
       "0       United-States       0  \n",
       "1       United-States       0  \n",
       "2       United-States       0  \n",
       "3       United-States       0  \n",
       "4                Cuba       0  \n",
       "...               ...     ...  \n",
       "32556   United-States       0  \n",
       "32557   United-States       1  \n",
       "32558   United-States       0  \n",
       "32559   United-States       0  \n",
       "32560   United-States       1  \n",
       "\n",
       "[30162 rows x 13 columns]"
      ]
     },
     "execution_count": 28,
     "metadata": {},
     "output_type": "execute_result"
    }
   ],
   "source": [
    "adult_data"
   ]
  },
  {
   "cell_type": "code",
   "execution_count": null,
   "id": "c7583ac8-3145-4197-86be-d4797a09b8f6",
   "metadata": {},
   "outputs": [],
   "source": [
    "\n"
   ]
  }
 ],
 "metadata": {
  "kernelspec": {
   "display_name": "Python 3 (ipykernel)",
   "language": "python",
   "name": "python3"
  },
  "language_info": {
   "codemirror_mode": {
    "name": "ipython",
    "version": 3
   },
   "file_extension": ".py",
   "mimetype": "text/x-python",
   "name": "python",
   "nbconvert_exporter": "python",
   "pygments_lexer": "ipython3",
   "version": "3.11.5"
  }
 },
 "nbformat": 4,
 "nbformat_minor": 5
}
