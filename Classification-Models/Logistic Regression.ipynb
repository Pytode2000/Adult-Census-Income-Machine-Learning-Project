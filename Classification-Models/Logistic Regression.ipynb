{
 "cells": [
  {
   "cell_type": "markdown",
   "id": "9f0004e1",
   "metadata": {},
   "source": [
    "# Logistic Regression"
   ]
  },
  {
   "cell_type": "code",
   "execution_count": 1,
   "id": "0b893d59",
   "metadata": {},
   "outputs": [],
   "source": [
    "import pandas as pd # Library for data processing and analysis.\n",
    "import numpy as np # Library for numerical computing (provides support for multi-dimensional arrays and matrices).\n",
    "import scipy as sp # Library for scientific computing and advanced mathematics.\n",
    "\n",
    "from sklearn.linear_model import LogisticRegression\n",
    "from sklearn.svm import SVC\n",
    "from sklearn.metrics import accuracy_score\n",
    "from sklearn.model_selection import (cross_val_score,train_test_split, KFold)\n"
   ]
  },
  {
   "cell_type": "code",
   "execution_count": 2,
   "id": "6c03f696",
   "metadata": {},
   "outputs": [],
   "source": [
    "adult_data = pd.read_csv('../data/adult_data_improved.csv') "
   ]
  },
  {
   "cell_type": "code",
   "execution_count": 3,
   "id": "4b1f0fc9",
   "metadata": {},
   "outputs": [
    {
     "name": "stdout",
     "output_type": "stream",
     "text": [
      "Logistic Regression : 83.56\n",
      "Support Vector Classifier (SVC) : 84.14\n",
      "Training complete.\n"
     ]
    }
   ],
   "source": [
    "X = adult_data.drop(['income'],axis=1)\n",
    "y = adult_data['income']\n",
    "\n",
    "X_train, X_test, y_train, y_test = train_test_split(X, y, test_size = 0.3)\n",
    "\n",
    "models = []\n",
    "models.append((\"Logistic Regression\", LogisticRegression()))\n",
    "models.append((\"Support Vector Classifier (SVC)\", SVC()))\n",
    "\n",
    "#kfold = KFold(n_splits=10)\n",
    "#results = cross_val_score(logreg,X_train,y_train,cv=kfold,scoring='accuracy')\n",
    "#print(results)\n",
    "\n",
    "results = [] # Used to store the result of each algorithm.\n",
    "model_names =[] # Used to store the name of each algorithm for visualization purposes.\n",
    "for name, model in models:\n",
    "    kfold = KFold(n_splits=10) \n",
    "    cv_results = cross_val_score(model, X_train, y_train, cv=kfold, scoring='accuracy') \n",
    "    results.append(round(cv_results.mean() * 100, 2)) \n",
    "    model_names.append(name) \n",
    "    \n",
    "for i in range(2):\n",
    "    print(model_names[i],':',results[i])\n",
    "print(\"Training complete.\") \n"
   ]
  },
  {
   "cell_type": "code",
   "execution_count": null,
   "id": "5ae47876",
   "metadata": {},
   "outputs": [],
   "source": []
  }
 ],
 "metadata": {
  "kernelspec": {
   "display_name": "Python 3 (ipykernel)",
   "language": "python",
   "name": "python3"
  },
  "language_info": {
   "codemirror_mode": {
    "name": "ipython",
    "version": 3
   },
   "file_extension": ".py",
   "mimetype": "text/x-python",
   "name": "python",
   "nbconvert_exporter": "python",
   "pygments_lexer": "ipython3",
   "version": "3.11.5"
  }
 },
 "nbformat": 4,
 "nbformat_minor": 5
}
