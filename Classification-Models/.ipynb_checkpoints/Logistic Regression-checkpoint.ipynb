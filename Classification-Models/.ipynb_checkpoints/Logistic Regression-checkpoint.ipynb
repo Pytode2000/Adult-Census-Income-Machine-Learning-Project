{
 "cells": [
  {
   "cell_type": "markdown",
   "id": "9f0004e1",
   "metadata": {},
   "source": [
    "# Logistic Regression"
   ]
  },
  {
   "cell_type": "code",
   "execution_count": 1,
   "id": "0b893d59",
   "metadata": {},
   "outputs": [],
   "source": [
    "import pandas as pd # Library for data processing and analysis.\n",
    "import numpy as np # Library for numerical computing (provides support for multi-dimensional arrays and matrices).\n",
    "import scipy as sp # Library for scientific computing and advanced mathematics.\n",
    "\n",
    "from sklearn.linear_model import LogisticRegression\n",
    "from sklearn.metrics import accuracy_score\n",
    "from sklearn.model_selection import (cross_val_score,train_test_split, KFold)\n"
   ]
  },
  {
   "cell_type": "code",
   "execution_count": 2,
   "id": "7efb0374",
   "metadata": {},
   "outputs": [],
   "source": [
    "adult_data = pd.read_csv('../data/adult_data_improved.csv') "
   ]
  },
  {
   "cell_type": "code",
   "execution_count": 3,
   "id": "8e823297",
   "metadata": {},
   "outputs": [
    {
     "name": "stdout",
     "output_type": "stream",
     "text": [
      "[0.82528409 0.84185606 0.84517045 0.83799147 0.84509711 0.83562293\n",
      " 0.84272856 0.82993842 0.84083373 0.82756987]\n"
     ]
    }
   ],
   "source": [
    "X = adult_data.drop(['income'],axis=1)\n",
    "y = adult_data['income']\n",
    "\n",
    "X_train, X_test, y_train, y_test = train_test_split(X, y, test_size = 0.3)\n",
    "\n",
    "logreg = LogisticRegression()\n",
    "\n",
    "kfold = KFold(n_splits=10)\n",
    "results = cross_val_score(logreg,X_train,y_train,cv=kfold,scoring='accuracy')\n",
    "print(results)\n",
    "#print('Logistic Regression accuracy score with all the features: {0:0.4f}'. format(accuracy_score(y_test, y_pred)))"
   ]
  }
 ],
 "metadata": {
  "kernelspec": {
   "display_name": "Python 3 (ipykernel)",
   "language": "python",
   "name": "python3"
  },
  "language_info": {
   "codemirror_mode": {
    "name": "ipython",
    "version": 3
   },
   "file_extension": ".py",
   "mimetype": "text/x-python",
   "name": "python",
   "nbconvert_exporter": "python",
   "pygments_lexer": "ipython3",
   "version": "3.11.5"
  }
 },
 "nbformat": 4,
 "nbformat_minor": 5
}
