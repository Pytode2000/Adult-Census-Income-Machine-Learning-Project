{
 "cells": [
  {
   "cell_type": "markdown",
   "id": "b56b81a0-5b9a-4622-bb8b-f41ccbe44bee",
   "metadata": {},
   "source": [
    "# 1 hash (h1) for Main Title (i.e., dont use) \n",
    "## 2 hashes (h2) for Topic (e.g., Data Preparation)\n",
    "### 3 hashes (h3) for sub-topic (e.g., under Data Preparation, should have a 3 hash called maybe \"Importing Data\"\n",
    "#### 4 hashes (h4) for findings, analysis etc\n",
    "No hash for explanations/comments\n",
    "\n",
    "#### To standardize formating. \n",
    "#### Add more if anything to take note! DELETE AT THE END.\n",
    "`USE THIS THINGY for variable names`"
   ]
  },
  {
   "cell_type": "markdown",
   "id": "3b6517a3-9af0-487b-b541-0ce8ed9fe48e",
   "metadata": {},
   "source": [
    "Anything to note WRITE HERE:\n"
   ]
  },
  {
   "cell_type": "markdown",
   "id": "7f8a264e-2af0-422e-91a0-117b8880c46e",
   "metadata": {},
   "source": []
  },
  {
   "cell_type": "markdown",
   "id": "125db586-ca42-4498-b00b-7c7896ac6b28",
   "metadata": {},
   "source": [
    "#### ROUGH PLAN\n",
    "0) Library Setup\n",
    "\n",
    "1) Data Description/Explanation or something (in place of Sample Collection). *Practical Motivation\n",
    "\n",
    "2) Data Preparation. *Problem Formulation (im thinking we do this in 1.)\n",
    "\n",
    "2.1 Data Cleaning\n",
    "\n",
    "2.2 Feature Engineering... etc\n",
    "\n",
    "3) Exploratory Data Analysis\n",
    "\n",
    "4) Might Do Data Cleaning etc again depending on what we find in EDA\n",
    "\n",
    "5) Modelling\n",
    "\n",
    "6) Optimization (choose best performing model, use Grid search, etc.)\n",
    "\n",
    "7) Findings/Conclusions?\n",
    "\n",
    "8) References\n"
   ]
  },
  {
   "cell_type": "markdown",
   "id": "2a3b8e89-50b1-4628-a3e8-6030b2a2b672",
   "metadata": {},
   "source": [
    "## <u><center>ANYTHING BELOW THIS IS THE ACTUAL NOTEBOOK!</center></u>\n",
    "-------------------------------------------------------------------------------------------------------------------------------------------------------"
   ]
  },
  {
   "cell_type": "markdown",
   "id": "e9b518e3-3187-4794-a96f-e47685a6922e",
   "metadata": {},
   "source": [
    "#### SC1015 FCSA Group 1: \n",
    "- Gay Ming Kai       (C230114@e.ntu.edu.sg)\n",
    "- Jacob Ong Jia Chun (JONG163@e.ntu.edu.sg)\n",
    "- Lim Zu Liang       (E230184@e.ntu.edu.sg)"
   ]
  },
  {
   "cell_type": "markdown",
   "id": "9ab6ba4c-1f27-413d-8446-ff2d588a5eef",
   "metadata": {},
   "source": [
    "<h1><center><u>Adult Census Income</u></center></h1>"
   ]
  },
  {
   "cell_type": "markdown",
   "id": "d03937f0-b042-4530-8e0c-9702c83d2236",
   "metadata": {},
   "source": [
    "// this will be the Table of contents. Do last."
   ]
  },
  {
   "cell_type": "markdown",
   "id": "36fbd239-26fe-426a-95bc-a658afa57952",
   "metadata": {},
   "source": [
    "## Chapter 0. Library Setup"
   ]
  },
  {
   "cell_type": "code",
   "execution_count": 1,
   "id": "e66b1145-51be-4ae1-9c11-c394f141e74b",
   "metadata": {},
   "outputs": [
    {
     "name": "stdout",
     "output_type": "stream",
     "text": [
      "Data Analysis and Wrangling Packages\n",
      "- pandas version: 2.1.4\n",
      "- NumPy version: 1.24.3\n",
      "- SciPy version: 1.11.4\n",
      "****************************************\n",
      "Visualization Packages\n",
      "- matplotlib version: 3.8.0\n",
      "- seaborn version: 0.12.2\n",
      "****************************************\n",
      "Modelling Packages\n",
      "- scikit-learn version: 1.3.0\n",
      "****************************************\n"
     ]
    }
   ],
   "source": [
    "def separate():\n",
    "    print('*' * 40)\n",
    "\n",
    "print(\"Data Analysis and Wrangling Packages\")\n",
    "import pandas as pd # Library for data processing and analysis.\n",
    "import numpy as np # Library for numerical computing (provides support for multi-dimensional arrays and matrices).\n",
    "import scipy as sp # Library for scientific computing and advanced mathematics.\n",
    "print(\"- pandas version: {}\". format(pd.__version__))\n",
    "print(\"- NumPy version: {}\". format(np.__version__))\n",
    "print(\"- SciPy version: {}\". format(sp.__version__)) \n",
    "separate()\n",
    "print(\"Visualization Packages\")\n",
    "import matplotlib as plt # Plotting library\n",
    "import seaborn as sns  # Statistical data visualization based on matplotlib\n",
    "print(\"- matplotlib version: {}\".format(plt.__version__))\n",
    "print(\"- seaborn version: {}\".format(sns.__version__))\n",
    "separate()\n",
    "\n",
    "print(\"Modelling Packages\")\n",
    "import sklearn as sk # Collection of machine learning algorithms.\n",
    "print(\"- scikit-learn version: {}\". format(sk.__version__))\n",
    "separate()"
   ]
  },
  {
   "cell_type": "markdown",
   "id": "b2fe740f-45f3-47e7-95c2-73e43503f651",
   "metadata": {},
   "source": [
    "## Chapter 1. Dataset Overview"
   ]
  },
  {
   "cell_type": "markdown",
   "id": "e7699eeb-7704-4614-97ba-b224b1ee9fcb",
   "metadata": {},
   "source": [
    "#### The dataset `(https://archive.ics.uci.edu/ml/datasets/Adult)` was donated by Ronny Kohavi and Barry Becker in 1994 and is currently managed by the University of California Irvine.\n",
    "\n",
    "The dataset has 1 target, 14 features, and 32561 instances, \n",
    "\n",
    "The 14 features are: \n",
    "- `age`\n",
    "- `workclass`\n",
    "- `fnlwgt`\n",
    "- `education`\n",
    "- `education-num`\n",
    "- `marital-status`\n",
    "- `occupation `\n",
    "- `relationship`\n",
    "- `race`\n",
    "- `sex`\n",
    "- `capital-gain`\n",
    "- `capital-loss`\n",
    "- `hours-per-week`\n",
    "- `native-country`\n",
    "\n",
    "The target is `income`.\n",
    "\n",
    "#### General Note:\n",
    "- Text-based values have an additional space in front (e.g., `sex` --> \" Male\").\n",
    "\n",
    "#### Data Preparation Note:\n",
    "- The dataset noted that there are missing values in 3 features: `workclass`, `occupation`, and `native-country`.\n",
    "- A thorough examination of all other features is still necessary for potential missing values.\n",
    "- After identifying the missing values, we will rectify them in Data Preparation.\n",
    "\n",
    "#### Exploratory Data Analysis Note:\n",
    "- The feature `fnlwgt`, short for \"Final Weight,\" denotes an estimated count of individuals represented by each row in the dataset. For instance, a given row might have `fnlwgt` = 2500, `age` = 50, `race` = \" White\", `sex` = \" Female\", indicating that approximately 2500 people share these characteristics. Given this interpretation, the `fnlwgt` feature is essentially a cardinal number representing group size and is logically independent of the target label. To verify this assumption, we intend to conduct an analysis (in Exploratory Data Analysis) to assess whether `fnlwgt` influences the target or not.\n",
    "- The feature `education-num` seems to correspond to the numerical representation of the `education` feature. This means that each value in `education` is mapped to a corresponding numerical value in `education-num`. For instance, \"HS-grad\" in `education` might be represented as 9 in `education-num`. We will confirm this in Exploratory Data Analysis.  \n",
    "\n",
    "#### Feature Engineering Note:\n",
    "- If our analysis confirms that `fnlwgt` has no significant impact on the target label, we will drop the feature.\r",
    "- \n",
    "Similarly, if our analysis confirm that `education-num` is derived from `education`,  indicating redundancy, we will remove one of the features during the Feature Engineering process. Given that machine learning models generally perform better with numerical dat, we will choose to drop `education` over `education-num`."
   ]
  },
  {
   "cell_type": "markdown",
   "id": "173eedb8-af07-44cb-97fb-f16550f8a7de",
   "metadata": {},
   "source": [
    "## Chapter 2. Problem Formulation"
   ]
  },
  {
   "cell_type": "markdown",
   "id": "62e68bd5-d4e7-4679-82e5-11fe4e75732f",
   "metadata": {},
   "source": [
    "Points to talk about:\n",
    "- Intro, overview,\n",
    "- what does this predict?\n",
    "- why do we want to predict this?\n",
    "- more?\n",
    "- What do we want to learn out of this?\n",
    "- what can this be a stepping stone for (maybe something like we can predict Singapore's blabla...\n",
    "\n",
    "Utilize census (survey) data to forecast whether the earnings of a particular demographic surpass $50k annually.\n",
    "problem statement: Predict whether the income of a specific group of people exceeds $50K/yr or not based on census (survey) data. \n",
    "This problem is a binary classification problem.\n",
    "\n",
    "Yappalogy here, To BE DONE."
   ]
  },
  {
   "cell_type": "markdown",
   "id": "0fc29db7-d42e-4fb8-b695-2ebf4cd539aa",
   "metadata": {},
   "source": [
    "## Chapter 3. Data Preparation"
   ]
  },
  {
   "cell_type": "markdown",
   "id": "30a683d7-fe90-4d74-ad30-9b9954fd1efc",
   "metadata": {},
   "source": [
    "### 3.1 Import Dataset as Dataframe"
   ]
  },
  {
   "cell_type": "code",
   "execution_count": 2,
   "id": "9167582b-9bc3-4d91-a931-88f5130af980",
   "metadata": {},
   "outputs": [
    {
     "data": {
      "text/html": [
       "<div>\n",
       "<style scoped>\n",
       "    .dataframe tbody tr th:only-of-type {\n",
       "        vertical-align: middle;\n",
       "    }\n",
       "\n",
       "    .dataframe tbody tr th {\n",
       "        vertical-align: top;\n",
       "    }\n",
       "\n",
       "    .dataframe thead th {\n",
       "        text-align: right;\n",
       "    }\n",
       "</style>\n",
       "<table border=\"1\" class=\"dataframe\">\n",
       "  <thead>\n",
       "    <tr style=\"text-align: right;\">\n",
       "      <th></th>\n",
       "      <th>age</th>\n",
       "      <th>workclass</th>\n",
       "      <th>fnlwgt</th>\n",
       "      <th>education</th>\n",
       "      <th>education-num</th>\n",
       "      <th>marital-status</th>\n",
       "      <th>occupation</th>\n",
       "      <th>relationship</th>\n",
       "      <th>race</th>\n",
       "      <th>sex</th>\n",
       "      <th>capital-gain</th>\n",
       "      <th>capital-loss</th>\n",
       "      <th>hours-per-week</th>\n",
       "      <th>native-country</th>\n",
       "      <th>income</th>\n",
       "    </tr>\n",
       "  </thead>\n",
       "  <tbody>\n",
       "    <tr>\n",
       "      <th>0</th>\n",
       "      <td>39</td>\n",
       "      <td>State-gov</td>\n",
       "      <td>77516</td>\n",
       "      <td>Bachelors</td>\n",
       "      <td>13</td>\n",
       "      <td>Never-married</td>\n",
       "      <td>Adm-clerical</td>\n",
       "      <td>Not-in-family</td>\n",
       "      <td>White</td>\n",
       "      <td>Male</td>\n",
       "      <td>2174</td>\n",
       "      <td>0</td>\n",
       "      <td>40</td>\n",
       "      <td>United-States</td>\n",
       "      <td>&lt;=50K</td>\n",
       "    </tr>\n",
       "    <tr>\n",
       "      <th>1</th>\n",
       "      <td>50</td>\n",
       "      <td>Self-emp-not-inc</td>\n",
       "      <td>83311</td>\n",
       "      <td>Bachelors</td>\n",
       "      <td>13</td>\n",
       "      <td>Married-civ-spouse</td>\n",
       "      <td>Exec-managerial</td>\n",
       "      <td>Husband</td>\n",
       "      <td>White</td>\n",
       "      <td>Male</td>\n",
       "      <td>0</td>\n",
       "      <td>0</td>\n",
       "      <td>13</td>\n",
       "      <td>United-States</td>\n",
       "      <td>&lt;=50K</td>\n",
       "    </tr>\n",
       "    <tr>\n",
       "      <th>2</th>\n",
       "      <td>38</td>\n",
       "      <td>Private</td>\n",
       "      <td>215646</td>\n",
       "      <td>HS-grad</td>\n",
       "      <td>9</td>\n",
       "      <td>Divorced</td>\n",
       "      <td>Handlers-cleaners</td>\n",
       "      <td>Not-in-family</td>\n",
       "      <td>White</td>\n",
       "      <td>Male</td>\n",
       "      <td>0</td>\n",
       "      <td>0</td>\n",
       "      <td>40</td>\n",
       "      <td>United-States</td>\n",
       "      <td>&lt;=50K</td>\n",
       "    </tr>\n",
       "    <tr>\n",
       "      <th>3</th>\n",
       "      <td>53</td>\n",
       "      <td>Private</td>\n",
       "      <td>234721</td>\n",
       "      <td>11th</td>\n",
       "      <td>7</td>\n",
       "      <td>Married-civ-spouse</td>\n",
       "      <td>Handlers-cleaners</td>\n",
       "      <td>Husband</td>\n",
       "      <td>Black</td>\n",
       "      <td>Male</td>\n",
       "      <td>0</td>\n",
       "      <td>0</td>\n",
       "      <td>40</td>\n",
       "      <td>United-States</td>\n",
       "      <td>&lt;=50K</td>\n",
       "    </tr>\n",
       "    <tr>\n",
       "      <th>4</th>\n",
       "      <td>28</td>\n",
       "      <td>Private</td>\n",
       "      <td>338409</td>\n",
       "      <td>Bachelors</td>\n",
       "      <td>13</td>\n",
       "      <td>Married-civ-spouse</td>\n",
       "      <td>Prof-specialty</td>\n",
       "      <td>Wife</td>\n",
       "      <td>Black</td>\n",
       "      <td>Female</td>\n",
       "      <td>0</td>\n",
       "      <td>0</td>\n",
       "      <td>40</td>\n",
       "      <td>Cuba</td>\n",
       "      <td>&lt;=50K</td>\n",
       "    </tr>\n",
       "  </tbody>\n",
       "</table>\n",
       "</div>"
      ],
      "text/plain": [
       "   age          workclass  fnlwgt   education  education-num  \\\n",
       "0   39          State-gov   77516   Bachelors             13   \n",
       "1   50   Self-emp-not-inc   83311   Bachelors             13   \n",
       "2   38            Private  215646     HS-grad              9   \n",
       "3   53            Private  234721        11th              7   \n",
       "4   28            Private  338409   Bachelors             13   \n",
       "\n",
       "        marital-status          occupation    relationship    race      sex  \\\n",
       "0        Never-married        Adm-clerical   Not-in-family   White     Male   \n",
       "1   Married-civ-spouse     Exec-managerial         Husband   White     Male   \n",
       "2             Divorced   Handlers-cleaners   Not-in-family   White     Male   \n",
       "3   Married-civ-spouse   Handlers-cleaners         Husband   Black     Male   \n",
       "4   Married-civ-spouse      Prof-specialty            Wife   Black   Female   \n",
       "\n",
       "   capital-gain  capital-loss  hours-per-week  native-country  income  \n",
       "0          2174             0              40   United-States   <=50K  \n",
       "1             0             0              13   United-States   <=50K  \n",
       "2             0             0              40   United-States   <=50K  \n",
       "3             0             0              40   United-States   <=50K  \n",
       "4             0             0              40            Cuba   <=50K  "
      ]
     },
     "execution_count": 2,
     "metadata": {},
     "output_type": "execute_result"
    }
   ],
   "source": [
    "# Aquiring data.\n",
    "\n",
    "# Reading a .data file (that does not have headers) into DataFrame.\n",
    "adult_data = pd.read_csv('data/adult.data', delimiter=\",\", header=None) \n",
    "\n",
    "# Since the dataset file does NOT provide the headers, we have to add them in ourselves.\n",
    "column_names = [\"age\", \"workclass\", \"fnlwgt\", \"education\", \"education-num\", \"marital-status\", \n",
    "                \"occupation\", \"relationship\", \"race\", \"sex\", \"capital-gain\", \"capital-loss\", \n",
    "                \"hours-per-week\", \"native-country\", \"income\"]\n",
    "\n",
    "# Assign column names to DataFrame.\n",
    "adult_data.columns = column_names\n",
    "\n",
    "# Check & First look.\n",
    "adult_data.head()"
   ]
  },
  {
   "cell_type": "markdown",
   "id": "1512be67-79b2-4acf-bcd3-4d089b28e2a9",
   "metadata": {},
   "source": [
    "### 3.2 Identify and Remove Missing Values"
   ]
  },
  {
   "cell_type": "code",
   "execution_count": 3,
   "id": "10b5543e-202d-4325-8237-df1ee5137149",
   "metadata": {},
   "outputs": [
    {
     "name": "stdout",
     "output_type": "stream",
     "text": [
      "<class 'pandas.core.frame.DataFrame'>\n",
      "RangeIndex: 32561 entries, 0 to 32560\n",
      "Data columns (total 15 columns):\n",
      " #   Column          Non-Null Count  Dtype \n",
      "---  ------          --------------  ----- \n",
      " 0   age             32561 non-null  int64 \n",
      " 1   workclass       32561 non-null  object\n",
      " 2   fnlwgt          32561 non-null  int64 \n",
      " 3   education       32561 non-null  object\n",
      " 4   education-num   32561 non-null  int64 \n",
      " 5   marital-status  32561 non-null  object\n",
      " 6   occupation      32561 non-null  object\n",
      " 7   relationship    32561 non-null  object\n",
      " 8   race            32561 non-null  object\n",
      " 9   sex             32561 non-null  object\n",
      " 10  capital-gain    32561 non-null  int64 \n",
      " 11  capital-loss    32561 non-null  int64 \n",
      " 12  hours-per-week  32561 non-null  int64 \n",
      " 13  native-country  32561 non-null  object\n",
      " 14  income          32561 non-null  object\n",
      "dtypes: int64(6), object(9)\n",
      "memory usage: 3.7+ MB\n"
     ]
    }
   ],
   "source": [
    "# Look for NULL (missing) values in the dataset.\n",
    "adult_data.info() "
   ]
  },
  {
   "cell_type": "markdown",
   "id": "01140596-f000-440b-986e-4922bdeea31f",
   "metadata": {},
   "source": [
    "#### Findings:\n",
    "- Appears to not have any null/missing values, but Dataset Overview mentioned that missing values exists.\n",
    "- Missing values may be replaced with a representative value (e.g., \"MISSING\").\n",
    "\n",
    "#### Choices:\n",
    "- Option A: Peek at the data specifically to look for missing values.\n",
    "- Option B: Find all the possible values of the three features (categorical) that are said to have missing data.\n",
    "\n",
    "#### Perform:\n",
    "- Option B as it is more robust (merely peeking head and tail may not show us the missing data)."
   ]
  },
  {
   "cell_type": "code",
   "execution_count": 4,
   "id": "42d06152-c797-4c29-b028-e5aa9d31c9a9",
   "metadata": {},
   "outputs": [
    {
     "name": "stdout",
     "output_type": "stream",
     "text": [
      "workclass\n",
      " Private             22696\n",
      " Self-emp-not-inc     2541\n",
      " Local-gov            2093\n",
      " ?                    1836\n",
      " State-gov            1298\n",
      " Self-emp-inc         1116\n",
      " Federal-gov           960\n",
      " Without-pay            14\n",
      " Never-worked            7\n",
      "Name: count, dtype: int64\n",
      "****************************************\n",
      "occupation\n",
      " Prof-specialty       4140\n",
      " Craft-repair         4099\n",
      " Exec-managerial      4066\n",
      " Adm-clerical         3770\n",
      " Sales                3650\n",
      " Other-service        3295\n",
      " Machine-op-inspct    2002\n",
      " ?                    1843\n",
      " Transport-moving     1597\n",
      " Handlers-cleaners    1370\n",
      " Farming-fishing       994\n",
      " Tech-support          928\n",
      " Protective-serv       649\n",
      " Priv-house-serv       149\n",
      " Armed-Forces            9\n",
      "Name: count, dtype: int64\n",
      "****************************************\n",
      "native-country\n",
      " United-States                 29170\n",
      " Mexico                          643\n",
      " ?                               583\n",
      " Philippines                     198\n",
      " Germany                         137\n",
      " Canada                          121\n",
      " Puerto-Rico                     114\n",
      " El-Salvador                     106\n",
      " India                           100\n",
      " Cuba                             95\n",
      " England                          90\n",
      " Jamaica                          81\n",
      " South                            80\n",
      " China                            75\n",
      " Italy                            73\n",
      " Dominican-Republic               70\n",
      " Vietnam                          67\n",
      " Guatemala                        64\n",
      " Japan                            62\n",
      " Poland                           60\n",
      " Columbia                         59\n",
      " Taiwan                           51\n",
      " Haiti                            44\n",
      " Iran                             43\n",
      " Portugal                         37\n",
      " Nicaragua                        34\n",
      " Peru                             31\n",
      " France                           29\n",
      " Greece                           29\n",
      " Ecuador                          28\n",
      " Ireland                          24\n",
      " Hong                             20\n",
      " Cambodia                         19\n",
      " Trinadad&Tobago                  19\n",
      " Laos                             18\n",
      " Thailand                         18\n",
      " Yugoslavia                       16\n",
      " Outlying-US(Guam-USVI-etc)       14\n",
      " Honduras                         13\n",
      " Hungary                          13\n",
      " Scotland                         12\n",
      " Holand-Netherlands                1\n",
      "Name: count, dtype: int64\n",
      "****************************************\n"
     ]
    }
   ],
   "source": [
    "# Option B.\n",
    "print(adult_data[\"workclass\"].value_counts())\n",
    "separate()\n",
    "print(adult_data[\"occupation\"].value_counts())\n",
    "separate()\n",
    "print(adult_data[\"native-country\"].value_counts())\n",
    "separate()"
   ]
  },
  {
   "cell_type": "markdown",
   "id": "7da1b130-d635-41d3-8814-51998a6aaf08",
   "metadata": {},
   "source": [
    "#### Findings:\n",
    "- It seems that missing values are denoted as \" ?\".\n",
    "\n",
    "#### Perform\n",
    "- Check for the presence of missing values in all features."
   ]
  },
  {
   "cell_type": "code",
   "execution_count": 5,
   "id": "487ff2fe-e2d4-43dc-8663-0ed003ce06ce",
   "metadata": {},
   "outputs": [
    {
     "name": "stdout",
     "output_type": "stream",
     "text": [
      "Number of \" ?\" in:\n",
      "\n",
      "Column             Count\n",
      "-------------------------\n",
      "age                  0\n",
      "workclass            1836\n",
      "fnlwgt               0\n",
      "education            0\n",
      "education-num        0\n",
      "marital-status       0\n",
      "occupation           1843\n",
      "relationship         0\n",
      "race                 0\n",
      "sex                  0\n",
      "capital-gain         0\n",
      "capital-loss         0\n",
      "hours-per-week       0\n",
      "native-country       583\n",
      "income               0\n",
      "****************************************\n",
      "Row count:  32561\n",
      "****************************************\n"
     ]
    }
   ],
   "source": [
    "# Check all presence and count of \" ?\" in the dataset.\n",
    "def check_missing():\n",
    "    print(\"Number of \\\" ?\\\" in:\\n\")\n",
    "    print(\"Column\", 11*' ', \"Count\")\n",
    "    print(\"-\"*25)\n",
    "    for i in adult_data.columns: \n",
    "        t = adult_data[i].value_counts() \n",
    "        index = list(t.index)\n",
    "        print(i, end=\"\")\n",
    "        # For styling purposes.\n",
    "        x = 20 - len(i) \n",
    "        for j in index:\n",
    "            temp = 0\n",
    "            if j == \" ?\":\n",
    "                # Once a '?' is found, print the number of '?' in the feature.\n",
    "                print (x * ' ', t[\" ?\"]) \n",
    "                temp = 1\n",
    "                break\n",
    "        if temp == 0:\n",
    "            # '?' is absent from all rows of a specific feature.\n",
    "            print (x * ' ', \"0\") \n",
    "    separate()\n",
    "    print(\"Row count: \", len(adult_data))\n",
    "    separate()\n",
    "check_missing()"
   ]
  },
  {
   "cell_type": "markdown",
   "id": "e1419d9f-9510-4014-8d8a-4f74183bcfaa",
   "metadata": {},
   "source": [
    "#### Findings:\n",
    "- Just like what the dataset said, only `workclass`, `occupation`, and `native-country` contains missing data.\n",
    "- They are all categorical features (replacing with mean or median is not viable).\n",
    "\n",
    "#### Choices:\n",
    "- Option A: Remove rows containing missing data.<br>\n",
    "There are a maximum of 4262 missing data points (assuming no overlaps), which comprise about 13% of the total dataset.\n",
    "\n",
    "- Option B: Remove the columns that contain missing data (`workclass`, `occupation`, and `native-country`).<br>\n",
    "These three features are intuitively crucial and likely to significantly impact the target `income`.\n",
    " \n",
    "- Option C: Predict missing classification data based on other variables in the dataset using classification models like logistic regression.<br>\n",
    "Viable but can be inaccurate and time-consuming.\n",
    "  \n",
    "- Option D: Impute missing data using the respective features' mode.<br>\n",
    "It might skew the data and affect the model's prediction in later parts.\n",
    "\n",
    "#### Perform:\n",
    "- Option A. <br>Given that we have 14 features, even after removing the missing values, we would still have approximately 28 thousand data points, which is more than sufficient for reliable analysis and prediction. and prediction."
   ]
  },
  {
   "cell_type": "code",
   "execution_count": 6,
   "id": "3a64b804-06f2-439f-9123-be983b6b6660",
   "metadata": {},
   "outputs": [
    {
     "name": "stdout",
     "output_type": "stream",
     "text": [
      "Number of \" ?\" in:\n",
      "\n",
      "Column             Count\n",
      "-------------------------\n",
      "age                  0\n",
      "workclass            0\n",
      "fnlwgt               0\n",
      "education            0\n",
      "education-num        0\n",
      "marital-status       0\n",
      "occupation           0\n",
      "relationship         0\n",
      "race                 0\n",
      "sex                  0\n",
      "capital-gain         0\n",
      "capital-loss         0\n",
      "hours-per-week       0\n",
      "native-country       0\n",
      "income               0\n",
      "****************************************\n",
      "Row count:  30162\n",
      "****************************************\n"
     ]
    }
   ],
   "source": [
    "# Option A.\n",
    "adult_data = adult_data.drop(adult_data[\n",
    "                             (adult_data[\"workclass\"] == \" ?\") | \n",
    "                             (adult_data[\"occupation\"] == \" ?\") | \n",
    "                             (adult_data[\"native-country\"] == \" ?\")].index)\n",
    "\n",
    "# Check if successfully removed.\n",
    "check_missing()"
   ]
  },
  {
   "cell_type": "markdown",
   "id": "e180e27a-44ff-4e47-84c3-60b7142c156b",
   "metadata": {},
   "source": [
    "### 3.3 Peeks and Checks"
   ]
  },
  {
   "cell_type": "code",
   "execution_count": 7,
   "id": "2cb531db-87bc-4a68-a282-39dc151df60d",
   "metadata": {},
   "outputs": [
    {
     "data": {
      "text/plain": [
       "age                int64\n",
       "workclass         object\n",
       "fnlwgt             int64\n",
       "education         object\n",
       "education-num      int64\n",
       "marital-status    object\n",
       "occupation        object\n",
       "relationship      object\n",
       "race              object\n",
       "sex               object\n",
       "capital-gain       int64\n",
       "capital-loss       int64\n",
       "hours-per-week     int64\n",
       "native-country    object\n",
       "income            object\n",
       "dtype: object"
      ]
     },
     "execution_count": 7,
     "metadata": {},
     "output_type": "execute_result"
    }
   ],
   "source": [
    "# Check features' datatypes.\n",
    "adult_data.dtypes"
   ]
  },
  {
   "cell_type": "code",
   "execution_count": 8,
   "id": "90a1b7af-22b8-4885-a9fc-1f30c4ec7cbd",
   "metadata": {},
   "outputs": [
    {
     "data": {
      "text/html": [
       "<div>\n",
       "<style scoped>\n",
       "    .dataframe tbody tr th:only-of-type {\n",
       "        vertical-align: middle;\n",
       "    }\n",
       "\n",
       "    .dataframe tbody tr th {\n",
       "        vertical-align: top;\n",
       "    }\n",
       "\n",
       "    .dataframe thead th {\n",
       "        text-align: right;\n",
       "    }\n",
       "</style>\n",
       "<table border=\"1\" class=\"dataframe\">\n",
       "  <thead>\n",
       "    <tr style=\"text-align: right;\">\n",
       "      <th></th>\n",
       "      <th>age</th>\n",
       "      <th>fnlwgt</th>\n",
       "      <th>education-num</th>\n",
       "      <th>capital-gain</th>\n",
       "      <th>capital-loss</th>\n",
       "      <th>hours-per-week</th>\n",
       "    </tr>\n",
       "  </thead>\n",
       "  <tbody>\n",
       "    <tr>\n",
       "      <th>count</th>\n",
       "      <td>30162.000000</td>\n",
       "      <td>3.016200e+04</td>\n",
       "      <td>30162.000000</td>\n",
       "      <td>30162.000000</td>\n",
       "      <td>30162.000000</td>\n",
       "      <td>30162.000000</td>\n",
       "    </tr>\n",
       "    <tr>\n",
       "      <th>mean</th>\n",
       "      <td>38.437902</td>\n",
       "      <td>1.897938e+05</td>\n",
       "      <td>10.121312</td>\n",
       "      <td>1092.007858</td>\n",
       "      <td>88.372489</td>\n",
       "      <td>40.931238</td>\n",
       "    </tr>\n",
       "    <tr>\n",
       "      <th>std</th>\n",
       "      <td>13.134665</td>\n",
       "      <td>1.056530e+05</td>\n",
       "      <td>2.549995</td>\n",
       "      <td>7406.346497</td>\n",
       "      <td>404.298370</td>\n",
       "      <td>11.979984</td>\n",
       "    </tr>\n",
       "    <tr>\n",
       "      <th>min</th>\n",
       "      <td>17.000000</td>\n",
       "      <td>1.376900e+04</td>\n",
       "      <td>1.000000</td>\n",
       "      <td>0.000000</td>\n",
       "      <td>0.000000</td>\n",
       "      <td>1.000000</td>\n",
       "    </tr>\n",
       "    <tr>\n",
       "      <th>25%</th>\n",
       "      <td>28.000000</td>\n",
       "      <td>1.176272e+05</td>\n",
       "      <td>9.000000</td>\n",
       "      <td>0.000000</td>\n",
       "      <td>0.000000</td>\n",
       "      <td>40.000000</td>\n",
       "    </tr>\n",
       "    <tr>\n",
       "      <th>50%</th>\n",
       "      <td>37.000000</td>\n",
       "      <td>1.784250e+05</td>\n",
       "      <td>10.000000</td>\n",
       "      <td>0.000000</td>\n",
       "      <td>0.000000</td>\n",
       "      <td>40.000000</td>\n",
       "    </tr>\n",
       "    <tr>\n",
       "      <th>75%</th>\n",
       "      <td>47.000000</td>\n",
       "      <td>2.376285e+05</td>\n",
       "      <td>13.000000</td>\n",
       "      <td>0.000000</td>\n",
       "      <td>0.000000</td>\n",
       "      <td>45.000000</td>\n",
       "    </tr>\n",
       "    <tr>\n",
       "      <th>max</th>\n",
       "      <td>90.000000</td>\n",
       "      <td>1.484705e+06</td>\n",
       "      <td>16.000000</td>\n",
       "      <td>99999.000000</td>\n",
       "      <td>4356.000000</td>\n",
       "      <td>99.000000</td>\n",
       "    </tr>\n",
       "  </tbody>\n",
       "</table>\n",
       "</div>"
      ],
      "text/plain": [
       "                age        fnlwgt  education-num  capital-gain  capital-loss  \\\n",
       "count  30162.000000  3.016200e+04   30162.000000  30162.000000  30162.000000   \n",
       "mean      38.437902  1.897938e+05      10.121312   1092.007858     88.372489   \n",
       "std       13.134665  1.056530e+05       2.549995   7406.346497    404.298370   \n",
       "min       17.000000  1.376900e+04       1.000000      0.000000      0.000000   \n",
       "25%       28.000000  1.176272e+05       9.000000      0.000000      0.000000   \n",
       "50%       37.000000  1.784250e+05      10.000000      0.000000      0.000000   \n",
       "75%       47.000000  2.376285e+05      13.000000      0.000000      0.000000   \n",
       "max       90.000000  1.484705e+06      16.000000  99999.000000   4356.000000   \n",
       "\n",
       "       hours-per-week  \n",
       "count    30162.000000  \n",
       "mean        40.931238  \n",
       "std         11.979984  \n",
       "min          1.000000  \n",
       "25%         40.000000  \n",
       "50%         40.000000  \n",
       "75%         45.000000  \n",
       "max         99.000000  "
      ]
     },
     "execution_count": 8,
     "metadata": {},
     "output_type": "execute_result"
    }
   ],
   "source": [
    "# Basic statistical information of the numerical features. \n",
    "adult_data.describe()"
   ]
  },
  {
   "cell_type": "code",
   "execution_count": 9,
   "id": "cb441069",
   "metadata": {},
   "outputs": [
    {
     "data": {
      "text/html": [
       "<div>\n",
       "<style scoped>\n",
       "    .dataframe tbody tr th:only-of-type {\n",
       "        vertical-align: middle;\n",
       "    }\n",
       "\n",
       "    .dataframe tbody tr th {\n",
       "        vertical-align: top;\n",
       "    }\n",
       "\n",
       "    .dataframe thead th {\n",
       "        text-align: right;\n",
       "    }\n",
       "</style>\n",
       "<table border=\"1\" class=\"dataframe\">\n",
       "  <thead>\n",
       "    <tr style=\"text-align: right;\">\n",
       "      <th></th>\n",
       "      <th>workclass</th>\n",
       "      <th>education</th>\n",
       "      <th>marital-status</th>\n",
       "      <th>occupation</th>\n",
       "      <th>relationship</th>\n",
       "      <th>race</th>\n",
       "      <th>sex</th>\n",
       "      <th>native-country</th>\n",
       "    </tr>\n",
       "  </thead>\n",
       "  <tbody>\n",
       "    <tr>\n",
       "      <th>count</th>\n",
       "      <td>30162</td>\n",
       "      <td>30162</td>\n",
       "      <td>30162</td>\n",
       "      <td>30162</td>\n",
       "      <td>30162</td>\n",
       "      <td>30162</td>\n",
       "      <td>30162</td>\n",
       "      <td>30162</td>\n",
       "    </tr>\n",
       "    <tr>\n",
       "      <th>unique</th>\n",
       "      <td>7</td>\n",
       "      <td>16</td>\n",
       "      <td>7</td>\n",
       "      <td>14</td>\n",
       "      <td>6</td>\n",
       "      <td>5</td>\n",
       "      <td>2</td>\n",
       "      <td>41</td>\n",
       "    </tr>\n",
       "    <tr>\n",
       "      <th>top</th>\n",
       "      <td>Private</td>\n",
       "      <td>HS-grad</td>\n",
       "      <td>Married-civ-spouse</td>\n",
       "      <td>Prof-specialty</td>\n",
       "      <td>Husband</td>\n",
       "      <td>White</td>\n",
       "      <td>Male</td>\n",
       "      <td>United-States</td>\n",
       "    </tr>\n",
       "    <tr>\n",
       "      <th>freq</th>\n",
       "      <td>22286</td>\n",
       "      <td>9840</td>\n",
       "      <td>14065</td>\n",
       "      <td>4038</td>\n",
       "      <td>12463</td>\n",
       "      <td>25933</td>\n",
       "      <td>20380</td>\n",
       "      <td>27504</td>\n",
       "    </tr>\n",
       "  </tbody>\n",
       "</table>\n",
       "</div>"
      ],
      "text/plain": [
       "       workclass education       marital-status       occupation relationship  \\\n",
       "count      30162     30162                30162            30162        30162   \n",
       "unique         7        16                    7               14            6   \n",
       "top      Private   HS-grad   Married-civ-spouse   Prof-specialty      Husband   \n",
       "freq       22286      9840                14065             4038        12463   \n",
       "\n",
       "          race    sex  native-country  \n",
       "count    30162  30162           30162  \n",
       "unique       5      2              41  \n",
       "top      White   Male   United-States  \n",
       "freq     25933  20380           27504  "
      ]
     },
     "execution_count": 9,
     "metadata": {},
     "output_type": "execute_result"
    }
   ],
   "source": [
    "# Basic statistical information of the catergorical features.\n",
    "adult_data[['workclass','education','marital-status','occupation','relationship','race','sex','native-country']].describe()"
   ]
  },
  {
   "cell_type": "code",
   "execution_count": 10,
   "id": "57e03691",
   "metadata": {},
   "outputs": [
    {
     "data": {
      "text/plain": [
       "count      30162\n",
       "unique         2\n",
       "top        <=50K\n",
       "freq       22654\n",
       "Name: income, dtype: object"
      ]
     },
     "execution_count": 10,
     "metadata": {},
     "output_type": "execute_result"
    }
   ],
   "source": [
    "#Basic statistical information of response\n",
    "adult_data['income'].describe()"
   ]
  },
  {
   "cell_type": "code",
   "execution_count": 11,
   "id": "60227876-418f-4de8-afa7-5e5d5374cdb3",
   "metadata": {},
   "outputs": [
    {
     "data": {
      "text/html": [
       "<div>\n",
       "<style scoped>\n",
       "    .dataframe tbody tr th:only-of-type {\n",
       "        vertical-align: middle;\n",
       "    }\n",
       "\n",
       "    .dataframe tbody tr th {\n",
       "        vertical-align: top;\n",
       "    }\n",
       "\n",
       "    .dataframe thead th {\n",
       "        text-align: right;\n",
       "    }\n",
       "</style>\n",
       "<table border=\"1\" class=\"dataframe\">\n",
       "  <thead>\n",
       "    <tr style=\"text-align: right;\">\n",
       "      <th></th>\n",
       "      <th>age</th>\n",
       "      <th>workclass</th>\n",
       "      <th>fnlwgt</th>\n",
       "      <th>education</th>\n",
       "      <th>education-num</th>\n",
       "      <th>marital-status</th>\n",
       "      <th>occupation</th>\n",
       "      <th>relationship</th>\n",
       "      <th>race</th>\n",
       "      <th>sex</th>\n",
       "      <th>capital-gain</th>\n",
       "      <th>capital-loss</th>\n",
       "      <th>hours-per-week</th>\n",
       "      <th>native-country</th>\n",
       "      <th>income</th>\n",
       "    </tr>\n",
       "  </thead>\n",
       "  <tbody>\n",
       "    <tr>\n",
       "      <th>0</th>\n",
       "      <td>39</td>\n",
       "      <td>State-gov</td>\n",
       "      <td>77516</td>\n",
       "      <td>Bachelors</td>\n",
       "      <td>13</td>\n",
       "      <td>Never-married</td>\n",
       "      <td>Adm-clerical</td>\n",
       "      <td>Not-in-family</td>\n",
       "      <td>White</td>\n",
       "      <td>Male</td>\n",
       "      <td>2174</td>\n",
       "      <td>0</td>\n",
       "      <td>40</td>\n",
       "      <td>United-States</td>\n",
       "      <td>&lt;=50K</td>\n",
       "    </tr>\n",
       "    <tr>\n",
       "      <th>1</th>\n",
       "      <td>50</td>\n",
       "      <td>Self-emp-not-inc</td>\n",
       "      <td>83311</td>\n",
       "      <td>Bachelors</td>\n",
       "      <td>13</td>\n",
       "      <td>Married-civ-spouse</td>\n",
       "      <td>Exec-managerial</td>\n",
       "      <td>Husband</td>\n",
       "      <td>White</td>\n",
       "      <td>Male</td>\n",
       "      <td>0</td>\n",
       "      <td>0</td>\n",
       "      <td>13</td>\n",
       "      <td>United-States</td>\n",
       "      <td>&lt;=50K</td>\n",
       "    </tr>\n",
       "    <tr>\n",
       "      <th>2</th>\n",
       "      <td>38</td>\n",
       "      <td>Private</td>\n",
       "      <td>215646</td>\n",
       "      <td>HS-grad</td>\n",
       "      <td>9</td>\n",
       "      <td>Divorced</td>\n",
       "      <td>Handlers-cleaners</td>\n",
       "      <td>Not-in-family</td>\n",
       "      <td>White</td>\n",
       "      <td>Male</td>\n",
       "      <td>0</td>\n",
       "      <td>0</td>\n",
       "      <td>40</td>\n",
       "      <td>United-States</td>\n",
       "      <td>&lt;=50K</td>\n",
       "    </tr>\n",
       "    <tr>\n",
       "      <th>3</th>\n",
       "      <td>53</td>\n",
       "      <td>Private</td>\n",
       "      <td>234721</td>\n",
       "      <td>11th</td>\n",
       "      <td>7</td>\n",
       "      <td>Married-civ-spouse</td>\n",
       "      <td>Handlers-cleaners</td>\n",
       "      <td>Husband</td>\n",
       "      <td>Black</td>\n",
       "      <td>Male</td>\n",
       "      <td>0</td>\n",
       "      <td>0</td>\n",
       "      <td>40</td>\n",
       "      <td>United-States</td>\n",
       "      <td>&lt;=50K</td>\n",
       "    </tr>\n",
       "    <tr>\n",
       "      <th>4</th>\n",
       "      <td>28</td>\n",
       "      <td>Private</td>\n",
       "      <td>338409</td>\n",
       "      <td>Bachelors</td>\n",
       "      <td>13</td>\n",
       "      <td>Married-civ-spouse</td>\n",
       "      <td>Prof-specialty</td>\n",
       "      <td>Wife</td>\n",
       "      <td>Black</td>\n",
       "      <td>Female</td>\n",
       "      <td>0</td>\n",
       "      <td>0</td>\n",
       "      <td>40</td>\n",
       "      <td>Cuba</td>\n",
       "      <td>&lt;=50K</td>\n",
       "    </tr>\n",
       "  </tbody>\n",
       "</table>\n",
       "</div>"
      ],
      "text/plain": [
       "   age          workclass  fnlwgt   education  education-num  \\\n",
       "0   39          State-gov   77516   Bachelors             13   \n",
       "1   50   Self-emp-not-inc   83311   Bachelors             13   \n",
       "2   38            Private  215646     HS-grad              9   \n",
       "3   53            Private  234721        11th              7   \n",
       "4   28            Private  338409   Bachelors             13   \n",
       "\n",
       "        marital-status          occupation    relationship    race      sex  \\\n",
       "0        Never-married        Adm-clerical   Not-in-family   White     Male   \n",
       "1   Married-civ-spouse     Exec-managerial         Husband   White     Male   \n",
       "2             Divorced   Handlers-cleaners   Not-in-family   White     Male   \n",
       "3   Married-civ-spouse   Handlers-cleaners         Husband   Black     Male   \n",
       "4   Married-civ-spouse      Prof-specialty            Wife   Black   Female   \n",
       "\n",
       "   capital-gain  capital-loss  hours-per-week  native-country  income  \n",
       "0          2174             0              40   United-States   <=50K  \n",
       "1             0             0              13   United-States   <=50K  \n",
       "2             0             0              40   United-States   <=50K  \n",
       "3             0             0              40   United-States   <=50K  \n",
       "4             0             0              40            Cuba   <=50K  "
      ]
     },
     "execution_count": 11,
     "metadata": {},
     "output_type": "execute_result"
    }
   ],
   "source": [
    "# Peek first 5 rows.\n",
    "adult_data.head(5) "
   ]
  },
  {
   "cell_type": "code",
   "execution_count": 12,
   "id": "12e8427b-2005-4fd0-acd2-f3b91759d41d",
   "metadata": {},
   "outputs": [
    {
     "data": {
      "text/html": [
       "<div>\n",
       "<style scoped>\n",
       "    .dataframe tbody tr th:only-of-type {\n",
       "        vertical-align: middle;\n",
       "    }\n",
       "\n",
       "    .dataframe tbody tr th {\n",
       "        vertical-align: top;\n",
       "    }\n",
       "\n",
       "    .dataframe thead th {\n",
       "        text-align: right;\n",
       "    }\n",
       "</style>\n",
       "<table border=\"1\" class=\"dataframe\">\n",
       "  <thead>\n",
       "    <tr style=\"text-align: right;\">\n",
       "      <th></th>\n",
       "      <th>age</th>\n",
       "      <th>workclass</th>\n",
       "      <th>fnlwgt</th>\n",
       "      <th>education</th>\n",
       "      <th>education-num</th>\n",
       "      <th>marital-status</th>\n",
       "      <th>occupation</th>\n",
       "      <th>relationship</th>\n",
       "      <th>race</th>\n",
       "      <th>sex</th>\n",
       "      <th>capital-gain</th>\n",
       "      <th>capital-loss</th>\n",
       "      <th>hours-per-week</th>\n",
       "      <th>native-country</th>\n",
       "      <th>income</th>\n",
       "    </tr>\n",
       "  </thead>\n",
       "  <tbody>\n",
       "    <tr>\n",
       "      <th>32556</th>\n",
       "      <td>27</td>\n",
       "      <td>Private</td>\n",
       "      <td>257302</td>\n",
       "      <td>Assoc-acdm</td>\n",
       "      <td>12</td>\n",
       "      <td>Married-civ-spouse</td>\n",
       "      <td>Tech-support</td>\n",
       "      <td>Wife</td>\n",
       "      <td>White</td>\n",
       "      <td>Female</td>\n",
       "      <td>0</td>\n",
       "      <td>0</td>\n",
       "      <td>38</td>\n",
       "      <td>United-States</td>\n",
       "      <td>&lt;=50K</td>\n",
       "    </tr>\n",
       "    <tr>\n",
       "      <th>32557</th>\n",
       "      <td>40</td>\n",
       "      <td>Private</td>\n",
       "      <td>154374</td>\n",
       "      <td>HS-grad</td>\n",
       "      <td>9</td>\n",
       "      <td>Married-civ-spouse</td>\n",
       "      <td>Machine-op-inspct</td>\n",
       "      <td>Husband</td>\n",
       "      <td>White</td>\n",
       "      <td>Male</td>\n",
       "      <td>0</td>\n",
       "      <td>0</td>\n",
       "      <td>40</td>\n",
       "      <td>United-States</td>\n",
       "      <td>&gt;50K</td>\n",
       "    </tr>\n",
       "    <tr>\n",
       "      <th>32558</th>\n",
       "      <td>58</td>\n",
       "      <td>Private</td>\n",
       "      <td>151910</td>\n",
       "      <td>HS-grad</td>\n",
       "      <td>9</td>\n",
       "      <td>Widowed</td>\n",
       "      <td>Adm-clerical</td>\n",
       "      <td>Unmarried</td>\n",
       "      <td>White</td>\n",
       "      <td>Female</td>\n",
       "      <td>0</td>\n",
       "      <td>0</td>\n",
       "      <td>40</td>\n",
       "      <td>United-States</td>\n",
       "      <td>&lt;=50K</td>\n",
       "    </tr>\n",
       "    <tr>\n",
       "      <th>32559</th>\n",
       "      <td>22</td>\n",
       "      <td>Private</td>\n",
       "      <td>201490</td>\n",
       "      <td>HS-grad</td>\n",
       "      <td>9</td>\n",
       "      <td>Never-married</td>\n",
       "      <td>Adm-clerical</td>\n",
       "      <td>Own-child</td>\n",
       "      <td>White</td>\n",
       "      <td>Male</td>\n",
       "      <td>0</td>\n",
       "      <td>0</td>\n",
       "      <td>20</td>\n",
       "      <td>United-States</td>\n",
       "      <td>&lt;=50K</td>\n",
       "    </tr>\n",
       "    <tr>\n",
       "      <th>32560</th>\n",
       "      <td>52</td>\n",
       "      <td>Self-emp-inc</td>\n",
       "      <td>287927</td>\n",
       "      <td>HS-grad</td>\n",
       "      <td>9</td>\n",
       "      <td>Married-civ-spouse</td>\n",
       "      <td>Exec-managerial</td>\n",
       "      <td>Wife</td>\n",
       "      <td>White</td>\n",
       "      <td>Female</td>\n",
       "      <td>15024</td>\n",
       "      <td>0</td>\n",
       "      <td>40</td>\n",
       "      <td>United-States</td>\n",
       "      <td>&gt;50K</td>\n",
       "    </tr>\n",
       "  </tbody>\n",
       "</table>\n",
       "</div>"
      ],
      "text/plain": [
       "       age      workclass  fnlwgt    education  education-num  \\\n",
       "32556   27        Private  257302   Assoc-acdm             12   \n",
       "32557   40        Private  154374      HS-grad              9   \n",
       "32558   58        Private  151910      HS-grad              9   \n",
       "32559   22        Private  201490      HS-grad              9   \n",
       "32560   52   Self-emp-inc  287927      HS-grad              9   \n",
       "\n",
       "            marital-status          occupation relationship    race      sex  \\\n",
       "32556   Married-civ-spouse        Tech-support         Wife   White   Female   \n",
       "32557   Married-civ-spouse   Machine-op-inspct      Husband   White     Male   \n",
       "32558              Widowed        Adm-clerical    Unmarried   White   Female   \n",
       "32559        Never-married        Adm-clerical    Own-child   White     Male   \n",
       "32560   Married-civ-spouse     Exec-managerial         Wife   White   Female   \n",
       "\n",
       "       capital-gain  capital-loss  hours-per-week  native-country  income  \n",
       "32556             0             0              38   United-States   <=50K  \n",
       "32557             0             0              40   United-States    >50K  \n",
       "32558             0             0              40   United-States   <=50K  \n",
       "32559             0             0              20   United-States   <=50K  \n",
       "32560         15024             0              40   United-States    >50K  "
      ]
     },
     "execution_count": 12,
     "metadata": {},
     "output_type": "execute_result"
    }
   ],
   "source": [
    "# Peek last 5 rows.\n",
    "adult_data.tail() "
   ]
  },
  {
   "cell_type": "markdown",
   "id": "b88750c3-1d53-4e73-8c7d-3b94115ed476",
   "metadata": {},
   "source": [
    "#### Findings:\n",
    "- Features `age`, `education-num`, `fnlwgt`, `capital-gain`, `capital-loss`, `hours-per-week` are numerical.\n",
    "- Features `workclass`, `education`, `marital-status`, `occupation`, `relationship`, `race`, `native-country` are categorical.\n",
    "- Feature `sex` and target `income` are dichotomous/binary (also categorical).\n",
    "\n",
    "#### Feature Engineering Note:\n",
    "- Encode all categorical columns to numerical nominal values as machine learning algorithms work better with numerical values.\n",
    "- Feature `sex` and target `income` can be converted to binary (1 or 0).\n",
    "- Could potentially bin the numerical features."
   ]
  },
  {
   "cell_type": "markdown",
   "id": "53a268c4",
   "metadata": {},
   "source": [
    "## Chapter 4. Exploratory Data Analysis"
   ]
  },
  {
   "cell_type": "markdown",
   "id": "9aa4d6a8",
   "metadata": {},
   "source": [
    "### 4.1. Exploring the Response"
   ]
  },
  {
   "cell_type": "code",
   "execution_count": 13,
   "id": "4660424f-4c0b-4cde-8643-81482f689ff1",
   "metadata": {},
   "outputs": [
    {
     "data": {
      "text/plain": [
       "<seaborn.axisgrid.FacetGrid at 0x25acab98dd0>"
      ]
     },
     "execution_count": 13,
     "metadata": {},
     "output_type": "execute_result"
    },
    {
     "data": {
      "image/png": "[encoded data removed]",
      "text/plain": [
       "<Figure size 500x500 with 1 Axes>"
      ]
     },
     "metadata": {},
     "output_type": "display_data"
    }
   ],
   "source": [
    "sns.catplot(y = 'income', data = adult_data, kind = \"count\")"
   ]
  },
  {
   "cell_type": "code",
   "execution_count": 14,
   "id": "9f5f4a43-ecf4-4abc-aa69-f6a6f25dba16",
   "metadata": {},
   "outputs": [
    {
     "name": "stdout",
     "output_type": "stream",
     "text": [
      "Number of data in each Count catergory:\n",
      "\n",
      "Income             Counter\n",
      "-------------------------\n",
      "Income >= 50000      22654\n",
      "Income < 50000       7508\n"
     ]
    },
    {
     "name": "stderr",
     "output_type": "stream",
     "text": [
      "C:\\Users\\ongjc\\AppData\\Local\\Temp\\ipykernel_14972\\918675806.py:8: FutureWarning: Series.__getitem__ treating keys as positions is deprecated. In a future version, integer keys will always be treated as labels (consistent with DataFrame behavior). To access a value by position, use `ser.iloc[pos]`\n",
      "  print (x * ' ', adult_data_gb['income'].count()[0])\n",
      "C:\\Users\\ongjc\\AppData\\Local\\Temp\\ipykernel_14972\\918675806.py:12: FutureWarning: Series.__getitem__ treating keys as positions is deprecated. In a future version, integer keys will always be treated as labels (consistent with DataFrame behavior). To access a value by position, use `ser.iloc[pos]`\n",
      "  print (x * ' ', adult_data_gb['income'].count()[1])\n"
     ]
    }
   ],
   "source": [
    "print(\"Number of data in each Count catergory:\\n\")\n",
    "print(\"Income\", 11*' ', \"Counter\")\n",
    "print(\"-\"*25)\n",
    "adult_data_gb = adult_data.groupby('income')\n",
    "i = \"Income >= 50000\"\n",
    "print(i, end=\"\")\n",
    "x = 20 - len(i) # For styling purposes\n",
    "print (x * ' ', adult_data_gb['income'].count()[0])\n",
    "i = \"Income < 50000\"\n",
    "print(i, end=\"\")\n",
    "x = 20 - len(i) # For styling purposes\n",
    "print (x * ' ', adult_data_gb['income'].count()[1])"
   ]
  },
  {
   "cell_type": "markdown",
   "id": "81d1fea7",
   "metadata": {},
   "source": [
    "#### Findings\n",
    "- Data is more concentrated towards income >= 50000"
   ]
  },
  {
   "cell_type": "markdown",
   "id": "c0a3957b",
   "metadata": {},
   "source": [
    "### 5.2. Exploring the Numerical Predictors"
   ]
  },
  {
   "cell_type": "markdown",
   "id": "b4951569",
   "metadata": {},
   "source": [
    "#### age"
   ]
  },
  {
   "cell_type": "code",
   "execution_count": 15,
   "id": "c5f08b38",
   "metadata": {},
   "outputs": [
    {
     "name": "stdout",
     "output_type": "stream",
     "text": [
      "Important Data for age \n",
      "\n",
      "Descriptor         Value\n",
      "-------------------------\n"
     ]
    },
    {
     "name": "stderr",
     "output_type": "stream",
     "text": [
      "C:\\Users\\ongjc\\anaconda3\\Lib\\site-packages\\seaborn\\_oldcore.py:1119: FutureWarning: use_inf_as_na option is deprecated and will be removed in a future version. Convert inf values to NaN before operating instead.\n",
      "  with pd.option_context('mode.use_inf_as_na', True):\n",
      "C:\\Users\\ongjc\\AppData\\Local\\Temp\\ipykernel_14972\\1631418521.py:13: FutureWarning: Series.__getitem__ treating keys as positions is deprecated. In a future version, integer keys will always be treated as labels (consistent with DataFrame behavior). To access a value by position, use `ser.iloc[pos]`\n",
      "  outliers = adult_data[(adult_data[n_p] < lower_bound) | (adult_data[n_p] > upper_bound)].count()[1]\n",
      "C:\\Users\\ongjc\\AppData\\Local\\Temp\\ipykernel_14972\\1631418521.py:24: FutureWarning: Series.__getitem__ treating keys as positions is deprecated. In a future version, integer keys will always be treated as labels (consistent with DataFrame behavior). To access a value by position, use `ser.iloc[pos]`\n",
      "  print(i,x * ' ',\"%.2f\" % adult_data[n_p].describe()[1])\n",
      "C:\\Users\\ongjc\\AppData\\Local\\Temp\\ipykernel_14972\\1631418521.py:28: FutureWarning: Series.__getitem__ treating keys as positions is deprecated. In a future version, integer keys will always be treated as labels (consistent with DataFrame behavior). To access a value by position, use `ser.iloc[pos]`\n",
      "  print(i,x * ' ',\"%.2f\" % adult_data[n_p].describe()[2])\n",
      "C:\\Users\\ongjc\\AppData\\Local\\Temp\\ipykernel_14972\\1631418521.py:32: FutureWarning: Series.__getitem__ treating keys as positions is deprecated. In a future version, integer keys will always be treated as labels (consistent with DataFrame behavior). To access a value by position, use `ser.iloc[pos]`\n",
      "  print(i,x * ' ',adult_data[n_p].describe()[4])\n",
      "C:\\Users\\ongjc\\AppData\\Local\\Temp\\ipykernel_14972\\1631418521.py:36: FutureWarning: Series.__getitem__ treating keys as positions is deprecated. In a future version, integer keys will always be treated as labels (consistent with DataFrame behavior). To access a value by position, use `ser.iloc[pos]`\n",
      "  print(i,x * ' ',adult_data[n_p].describe()[5])\n",
      "C:\\Users\\ongjc\\AppData\\Local\\Temp\\ipykernel_14972\\1631418521.py:40: FutureWarning: Series.__getitem__ treating keys as positions is deprecated. In a future version, integer keys will always be treated as labels (consistent with DataFrame behavior). To access a value by position, use `ser.iloc[pos]`\n",
      "  print(i,x * ' ',adult_data[n_p].describe()[6])\n"
     ]
    },
    {
     "name": "stdout",
     "output_type": "stream",
     "text": [
      "Mean               38.44\n",
      "Std                13.13\n",
      "Q1                 28.0\n",
      "Median             37.0\n",
      "Q3                 47.0\n",
      "Outliers           169\n"
     ]
    },
    {
     "data": {
      "image/png": "[encoded data removed]",
      "text/plain": [
       "<Figure size 1800x400 with 2 Axes>"
      ]
     },
     "metadata": {},
     "output_type": "display_data"
    }
   ],
   "source": [
    "def print_numerical_predictor(n_p):\n",
    "    #Print the graph\n",
    "    f, axes = plt.pyplot.subplots(1, 2, figsize=(18, 4))\n",
    "    sns.boxplot(data = adult_data[n_p], orient = \"h\", ax = axes[0])\n",
    "    sns.histplot(data = adult_data[n_p], ax = axes[1])\n",
    "\n",
    "    #Finding the outliers\n",
    "    quad1 = adult_data[n_p].quantile(0.25)\n",
    "    quad3 = adult_data[n_p].quantile(0.75)\n",
    "    iqr = quad3 - quad1\n",
    "    lower_bound = quad1 - 1.5*iqr\n",
    "    upper_bound = quad3 + 1.5*iqr\n",
    "    outliers = adult_data[(adult_data[n_p] < lower_bound) | (adult_data[n_p] > upper_bound)].count()[1]\n",
    "\n",
    "    #Finding the correlation with predictor\n",
    "\n",
    "    print(\"Important Data for\",n_p,\"\\n\")\n",
    "    print(\"Descriptor\", 7*' ', \"Value\")\n",
    "    print(\"-\"*25)\n",
    "\n",
    "\n",
    "    i = 'Mean'\n",
    "    x = 17 - len(i)\n",
    "    print(i,x * ' ',\"%.2f\" % adult_data[n_p].describe()[1])\n",
    "\n",
    "    i = 'Std'\n",
    "    x = 17 - len(i)\n",
    "    print(i,x * ' ',\"%.2f\" % adult_data[n_p].describe()[2])\n",
    "\n",
    "    i = 'Q1'\n",
    "    x = 17 - len(i)\n",
    "    print(i,x * ' ',adult_data[n_p].describe()[4])\n",
    "\n",
    "    i = 'Median'\n",
    "    x = 17 - len(i)\n",
    "    print(i,x * ' ',adult_data[n_p].describe()[5])\n",
    "\n",
    "    i = 'Q3'\n",
    "    x = 17 - len(i)\n",
    "    print(i,x * ' ',adult_data[n_p].describe()[6])\n",
    "\n",
    "    i = 'Outliers'\n",
    "    x = 17 - len(i)\n",
    "    print(i,x * ' ',outliers)\n",
    "    \n",
    "print_numerical_predictor('age')"
   ]
  },
  {
   "cell_type": "code",
   "execution_count": null,
   "id": "b4f7ba93",
   "metadata": {},
   "outputs": [],
   "source": []
  },
  {
   "cell_type": "markdown",
   "id": "e4262e57",
   "metadata": {},
   "source": [
    "#### fnlwgt"
   ]
  },
  {
   "cell_type": "code",
   "execution_count": 16,
   "id": "d776bec5",
   "metadata": {},
   "outputs": [
    {
     "name": "stderr",
     "output_type": "stream",
     "text": [
      "C:\\Users\\ongjc\\anaconda3\\Lib\\site-packages\\seaborn\\_oldcore.py:1119: FutureWarning: use_inf_as_na option is deprecated and will be removed in a future version. Convert inf values to NaN before operating instead.\n",
      "  with pd.option_context('mode.use_inf_as_na', True):\n",
      "C:\\Users\\ongjc\\AppData\\Local\\Temp\\ipykernel_14972\\1631418521.py:13: FutureWarning: Series.__getitem__ treating keys as positions is deprecated. In a future version, integer keys will always be treated as labels (consistent with DataFrame behavior). To access a value by position, use `ser.iloc[pos]`\n",
      "  outliers = adult_data[(adult_data[n_p] < lower_bound) | (adult_data[n_p] > upper_bound)].count()[1]\n"
     ]
    },
    {
     "name": "stdout",
     "output_type": "stream",
     "text": [
      "Important Data for fnlwgt \n",
      "\n",
      "Descriptor         Value\n",
      "-------------------------\n",
      "Mean               189793.83\n",
      "Std                105652.97\n",
      "Q1                 117627.25\n",
      "Median             178425.0\n",
      "Q3                 237628.5\n",
      "Outliers           903\n"
     ]
    },
    {
     "name": "stderr",
     "output_type": "stream",
     "text": [
      "C:\\Users\\ongjc\\AppData\\Local\\Temp\\ipykernel_14972\\1631418521.py:24: FutureWarning: Series.__getitem__ treating keys as positions is deprecated. In a future version, integer keys will always be treated as labels (consistent with DataFrame behavior). To access a value by position, use `ser.iloc[pos]`\n",
      "  print(i,x * ' ',\"%.2f\" % adult_data[n_p].describe()[1])\n",
      "C:\\Users\\ongjc\\AppData\\Local\\Temp\\ipykernel_14972\\1631418521.py:28: FutureWarning: Series.__getitem__ treating keys as positions is deprecated. In a future version, integer keys will always be treated as labels (consistent with DataFrame behavior). To access a value by position, use `ser.iloc[pos]`\n",
      "  print(i,x * ' ',\"%.2f\" % adult_data[n_p].describe()[2])\n",
      "C:\\Users\\ongjc\\AppData\\Local\\Temp\\ipykernel_14972\\1631418521.py:32: FutureWarning: Series.__getitem__ treating keys as positions is deprecated. In a future version, integer keys will always be treated as labels (consistent with DataFrame behavior). To access a value by position, use `ser.iloc[pos]`\n",
      "  print(i,x * ' ',adult_data[n_p].describe()[4])\n",
      "C:\\Users\\ongjc\\AppData\\Local\\Temp\\ipykernel_14972\\1631418521.py:36: FutureWarning: Series.__getitem__ treating keys as positions is deprecated. In a future version, integer keys will always be treated as labels (consistent with DataFrame behavior). To access a value by position, use `ser.iloc[pos]`\n",
      "  print(i,x * ' ',adult_data[n_p].describe()[5])\n",
      "C:\\Users\\ongjc\\AppData\\Local\\Temp\\ipykernel_14972\\1631418521.py:40: FutureWarning: Series.__getitem__ treating keys as positions is deprecated. In a future version, integer keys will always be treated as labels (consistent with DataFrame behavior). To access a value by position, use `ser.iloc[pos]`\n",
      "  print(i,x * ' ',adult_data[n_p].describe()[6])\n"
     ]
    },
    {
     "data": {
      "image/png": "[encoded data removed]",
      "text/plain": [
       "<Figure size 1800x400 with 2 Axes>"
      ]
     },
     "metadata": {},
     "output_type": "display_data"
    }
   ],
   "source": [
    "print_numerical_predictor('fnlwgt')"
   ]
  },
  {
   "cell_type": "markdown",
   "id": "4eb6f8e7",
   "metadata": {},
   "source": [
    "#### education-num"
   ]
  },
  {
   "cell_type": "code",
   "execution_count": 17,
   "id": "0f7cd9f8",
   "metadata": {},
   "outputs": [
    {
     "name": "stderr",
     "output_type": "stream",
     "text": [
      "C:\\Users\\ongjc\\anaconda3\\Lib\\site-packages\\seaborn\\_oldcore.py:1119: FutureWarning: use_inf_as_na option is deprecated and will be removed in a future version. Convert inf values to NaN before operating instead.\n",
      "  with pd.option_context('mode.use_inf_as_na', True):\n",
      "C:\\Users\\ongjc\\AppData\\Local\\Temp\\ipykernel_14972\\1631418521.py:13: FutureWarning: Series.__getitem__ treating keys as positions is deprecated. In a future version, integer keys will always be treated as labels (consistent with DataFrame behavior). To access a value by position, use `ser.iloc[pos]`\n",
      "  outliers = adult_data[(adult_data[n_p] < lower_bound) | (adult_data[n_p] > upper_bound)].count()[1]\n",
      "C:\\Users\\ongjc\\AppData\\Local\\Temp\\ipykernel_14972\\1631418521.py:24: FutureWarning: Series.__getitem__ treating keys as positions is deprecated. In a future version, integer keys will always be treated as labels (consistent with DataFrame behavior). To access a value by position, use `ser.iloc[pos]`\n",
      "  print(i,x * ' ',\"%.2f\" % adult_data[n_p].describe()[1])\n",
      "C:\\Users\\ongjc\\AppData\\Local\\Temp\\ipykernel_14972\\1631418521.py:28: FutureWarning: Series.__getitem__ treating keys as positions is deprecated. In a future version, integer keys will always be treated as labels (consistent with DataFrame behavior). To access a value by position, use `ser.iloc[pos]`\n",
      "  print(i,x * ' ',\"%.2f\" % adult_data[n_p].describe()[2])\n",
      "C:\\Users\\ongjc\\AppData\\Local\\Temp\\ipykernel_14972\\1631418521.py:32: FutureWarning: Series.__getitem__ treating keys as positions is deprecated. In a future version, integer keys will always be treated as labels (consistent with DataFrame behavior). To access a value by position, use `ser.iloc[pos]`\n",
      "  print(i,x * ' ',adult_data[n_p].describe()[4])\n",
      "C:\\Users\\ongjc\\AppData\\Local\\Temp\\ipykernel_14972\\1631418521.py:36: FutureWarning: Series.__getitem__ treating keys as positions is deprecated. In a future version, integer keys will always be treated as labels (consistent with DataFrame behavior). To access a value by position, use `ser.iloc[pos]`\n",
      "  print(i,x * ' ',adult_data[n_p].describe()[5])\n",
      "C:\\Users\\ongjc\\AppData\\Local\\Temp\\ipykernel_14972\\1631418521.py:40: FutureWarning: Series.__getitem__ treating keys as positions is deprecated. In a future version, integer keys will always be treated as labels (consistent with DataFrame behavior). To access a value by position, use `ser.iloc[pos]`\n",
      "  print(i,x * ' ',adult_data[n_p].describe()[6])\n"
     ]
    },
    {
     "name": "stdout",
     "output_type": "stream",
     "text": [
      "Important Data for education-num \n",
      "\n",
      "Descriptor         Value\n",
      "-------------------------\n",
      "Mean               10.12\n",
      "Std                2.55\n",
      "Q1                 9.0\n",
      "Median             10.0\n",
      "Q3                 13.0\n",
      "Outliers           196\n"
     ]
    },
    {
     "data": {
      "image/png": "[encoded data removed]",
      "text/plain": [
       "<Figure size 1800x400 with 2 Axes>"
      ]
     },
     "metadata": {},
     "output_type": "display_data"
    }
   ],
   "source": [
    "print_numerical_predictor('education-num')"
   ]
  },
  {
   "cell_type": "markdown",
   "id": "f3d49413",
   "metadata": {},
   "source": [
    "#### capital-gain"
   ]
  },
  {
   "cell_type": "code",
   "execution_count": 18,
   "id": "4b36128c",
   "metadata": {},
   "outputs": [
    {
     "name": "stderr",
     "output_type": "stream",
     "text": [
      "C:\\Users\\ongjc\\anaconda3\\Lib\\site-packages\\seaborn\\_oldcore.py:1119: FutureWarning: use_inf_as_na option is deprecated and will be removed in a future version. Convert inf values to NaN before operating instead.\n",
      "  with pd.option_context('mode.use_inf_as_na', True):\n",
      "C:\\Users\\ongjc\\AppData\\Local\\Temp\\ipykernel_14972\\1631418521.py:13: FutureWarning: Series.__getitem__ treating keys as positions is deprecated. In a future version, integer keys will always be treated as labels (consistent with DataFrame behavior). To access a value by position, use `ser.iloc[pos]`\n",
      "  outliers = adult_data[(adult_data[n_p] < lower_bound) | (adult_data[n_p] > upper_bound)].count()[1]\n",
      "C:\\Users\\ongjc\\AppData\\Local\\Temp\\ipykernel_14972\\1631418521.py:24: FutureWarning: Series.__getitem__ treating keys as positions is deprecated. In a future version, integer keys will always be treated as labels (consistent with DataFrame behavior). To access a value by position, use `ser.iloc[pos]`\n",
      "  print(i,x * ' ',\"%.2f\" % adult_data[n_p].describe()[1])\n",
      "C:\\Users\\ongjc\\AppData\\Local\\Temp\\ipykernel_14972\\1631418521.py:28: FutureWarning: Series.__getitem__ treating keys as positions is deprecated. In a future version, integer keys will always be treated as labels (consistent with DataFrame behavior). To access a value by position, use `ser.iloc[pos]`\n",
      "  print(i,x * ' ',\"%.2f\" % adult_data[n_p].describe()[2])\n",
      "C:\\Users\\ongjc\\AppData\\Local\\Temp\\ipykernel_14972\\1631418521.py:32: FutureWarning: Series.__getitem__ treating keys as positions is deprecated. In a future version, integer keys will always be treated as labels (consistent with DataFrame behavior). To access a value by position, use `ser.iloc[pos]`\n",
      "  print(i,x * ' ',adult_data[n_p].describe()[4])\n",
      "C:\\Users\\ongjc\\AppData\\Local\\Temp\\ipykernel_14972\\1631418521.py:36: FutureWarning: Series.__getitem__ treating keys as positions is deprecated. In a future version, integer keys will always be treated as labels (consistent with DataFrame behavior). To access a value by position, use `ser.iloc[pos]`\n",
      "  print(i,x * ' ',adult_data[n_p].describe()[5])\n",
      "C:\\Users\\ongjc\\AppData\\Local\\Temp\\ipykernel_14972\\1631418521.py:40: FutureWarning: Series.__getitem__ treating keys as positions is deprecated. In a future version, integer keys will always be treated as labels (consistent with DataFrame behavior). To access a value by position, use `ser.iloc[pos]`\n",
      "  print(i,x * ' ',adult_data[n_p].describe()[6])\n"
     ]
    },
    {
     "name": "stdout",
     "output_type": "stream",
     "text": [
      "Important Data for capital-gain \n",
      "\n",
      "Descriptor         Value\n",
      "-------------------------\n",
      "Mean               1092.01\n",
      "Std                7406.35\n",
      "Q1                 0.0\n",
      "Median             0.0\n",
      "Q3                 0.0\n",
      "Outliers           2538\n"
     ]
    },
    {
     "data": {
      "image/png": "[encoded data removed]",
      "text/plain": [
       "<Figure size 1800x400 with 2 Axes>"
      ]
     },
     "metadata": {},
     "output_type": "display_data"
    }
   ],
   "source": [
    "print_numerical_predictor('capital-gain')"
   ]
  },
  {
   "cell_type": "markdown",
   "id": "81c1de02",
   "metadata": {},
   "source": [
    "#### capital-loss"
   ]
  },
  {
   "cell_type": "code",
   "execution_count": 19,
   "id": "4d5729ef",
   "metadata": {},
   "outputs": [
    {
     "name": "stderr",
     "output_type": "stream",
     "text": [
      "C:\\Users\\ongjc\\anaconda3\\Lib\\site-packages\\seaborn\\_oldcore.py:1119: FutureWarning: use_inf_as_na option is deprecated and will be removed in a future version. Convert inf values to NaN before operating instead.\n",
      "  with pd.option_context('mode.use_inf_as_na', True):\n",
      "C:\\Users\\ongjc\\AppData\\Local\\Temp\\ipykernel_14972\\1631418521.py:13: FutureWarning: Series.__getitem__ treating keys as positions is deprecated. In a future version, integer keys will always be treated as labels (consistent with DataFrame behavior). To access a value by position, use `ser.iloc[pos]`\n",
      "  outliers = adult_data[(adult_data[n_p] < lower_bound) | (adult_data[n_p] > upper_bound)].count()[1]\n",
      "C:\\Users\\ongjc\\AppData\\Local\\Temp\\ipykernel_14972\\1631418521.py:24: FutureWarning: Series.__getitem__ treating keys as positions is deprecated. In a future version, integer keys will always be treated as labels (consistent with DataFrame behavior). To access a value by position, use `ser.iloc[pos]`\n",
      "  print(i,x * ' ',\"%.2f\" % adult_data[n_p].describe()[1])\n",
      "C:\\Users\\ongjc\\AppData\\Local\\Temp\\ipykernel_14972\\1631418521.py:28: FutureWarning: Series.__getitem__ treating keys as positions is deprecated. In a future version, integer keys will always be treated as labels (consistent with DataFrame behavior). To access a value by position, use `ser.iloc[pos]`\n",
      "  print(i,x * ' ',\"%.2f\" % adult_data[n_p].describe()[2])\n",
      "C:\\Users\\ongjc\\AppData\\Local\\Temp\\ipykernel_14972\\1631418521.py:32: FutureWarning: Series.__getitem__ treating keys as positions is deprecated. In a future version, integer keys will always be treated as labels (consistent with DataFrame behavior). To access a value by position, use `ser.iloc[pos]`\n",
      "  print(i,x * ' ',adult_data[n_p].describe()[4])\n",
      "C:\\Users\\ongjc\\AppData\\Local\\Temp\\ipykernel_14972\\1631418521.py:36: FutureWarning: Series.__getitem__ treating keys as positions is deprecated. In a future version, integer keys will always be treated as labels (consistent with DataFrame behavior). To access a value by position, use `ser.iloc[pos]`\n",
      "  print(i,x * ' ',adult_data[n_p].describe()[5])\n",
      "C:\\Users\\ongjc\\AppData\\Local\\Temp\\ipykernel_14972\\1631418521.py:40: FutureWarning: Series.__getitem__ treating keys as positions is deprecated. In a future version, integer keys will always be treated as labels (consistent with DataFrame behavior). To access a value by position, use `ser.iloc[pos]`\n",
      "  print(i,x * ' ',adult_data[n_p].describe()[6])\n"
     ]
    },
    {
     "name": "stdout",
     "output_type": "stream",
     "text": [
      "Important Data for capital-loss \n",
      "\n",
      "Descriptor         Value\n",
      "-------------------------\n",
      "Mean               88.37\n",
      "Std                404.30\n",
      "Q1                 0.0\n",
      "Median             0.0\n",
      "Q3                 0.0\n",
      "Outliers           1427\n"
     ]
    },
    {
     "data": {
      "image/png": "[encoded data removed]",
      "text/plain": [
       "<Figure size 1800x400 with 2 Axes>"
      ]
     },
     "metadata": {},
     "output_type": "display_data"
    }
   ],
   "source": [
    "print_numerical_predictor('capital-loss')"
   ]
  },
  {
   "cell_type": "markdown",
   "id": "4b08d595",
   "metadata": {},
   "source": [
    "#### hours-per-week"
   ]
  },
  {
   "cell_type": "code",
   "execution_count": 20,
   "id": "0731929e",
   "metadata": {},
   "outputs": [
    {
     "name": "stderr",
     "output_type": "stream",
     "text": [
      "C:\\Users\\ongjc\\anaconda3\\Lib\\site-packages\\seaborn\\_oldcore.py:1119: FutureWarning: use_inf_as_na option is deprecated and will be removed in a future version. Convert inf values to NaN before operating instead.\n",
      "  with pd.option_context('mode.use_inf_as_na', True):\n",
      "C:\\Users\\ongjc\\AppData\\Local\\Temp\\ipykernel_14972\\1631418521.py:13: FutureWarning: Series.__getitem__ treating keys as positions is deprecated. In a future version, integer keys will always be treated as labels (consistent with DataFrame behavior). To access a value by position, use `ser.iloc[pos]`\n",
      "  outliers = adult_data[(adult_data[n_p] < lower_bound) | (adult_data[n_p] > upper_bound)].count()[1]\n",
      "C:\\Users\\ongjc\\AppData\\Local\\Temp\\ipykernel_14972\\1631418521.py:24: FutureWarning: Series.__getitem__ treating keys as positions is deprecated. In a future version, integer keys will always be treated as labels (consistent with DataFrame behavior). To access a value by position, use `ser.iloc[pos]`\n",
      "  print(i,x * ' ',\"%.2f\" % adult_data[n_p].describe()[1])\n",
      "C:\\Users\\ongjc\\AppData\\Local\\Temp\\ipykernel_14972\\1631418521.py:28: FutureWarning: Series.__getitem__ treating keys as positions is deprecated. In a future version, integer keys will always be treated as labels (consistent with DataFrame behavior). To access a value by position, use `ser.iloc[pos]`\n",
      "  print(i,x * ' ',\"%.2f\" % adult_data[n_p].describe()[2])\n",
      "C:\\Users\\ongjc\\AppData\\Local\\Temp\\ipykernel_14972\\1631418521.py:32: FutureWarning: Series.__getitem__ treating keys as positions is deprecated. In a future version, integer keys will always be treated as labels (consistent with DataFrame behavior). To access a value by position, use `ser.iloc[pos]`\n",
      "  print(i,x * ' ',adult_data[n_p].describe()[4])\n",
      "C:\\Users\\ongjc\\AppData\\Local\\Temp\\ipykernel_14972\\1631418521.py:36: FutureWarning: Series.__getitem__ treating keys as positions is deprecated. In a future version, integer keys will always be treated as labels (consistent with DataFrame behavior). To access a value by position, use `ser.iloc[pos]`\n",
      "  print(i,x * ' ',adult_data[n_p].describe()[5])\n",
      "C:\\Users\\ongjc\\AppData\\Local\\Temp\\ipykernel_14972\\1631418521.py:40: FutureWarning: Series.__getitem__ treating keys as positions is deprecated. In a future version, integer keys will always be treated as labels (consistent with DataFrame behavior). To access a value by position, use `ser.iloc[pos]`\n",
      "  print(i,x * ' ',adult_data[n_p].describe()[6])\n"
     ]
    },
    {
     "name": "stdout",
     "output_type": "stream",
     "text": [
      "Important Data for hours-per-week \n",
      "\n",
      "Descriptor         Value\n",
      "-------------------------\n",
      "Mean               40.93\n",
      "Std                11.98\n",
      "Q1                 40.0\n",
      "Median             40.0\n",
      "Q3                 45.0\n",
      "Outliers           7953\n"
     ]
    },
    {
     "data": {
      "image/png": "[encoded data removed]",
      "text/plain": [
       "<Figure size 1800x400 with 2 Axes>"
      ]
     },
     "metadata": {},
     "output_type": "display_data"
    }
   ],
   "source": [
    "print_numerical_predictor('hours-per-week')"
   ]
  },
  {
   "cell_type": "markdown",
   "id": "2327fb8a",
   "metadata": {},
   "source": [
    "### 5.3. Exploring the Catergorical Predictors"
   ]
  },
  {
   "cell_type": "markdown",
   "id": "b6e403ec",
   "metadata": {},
   "source": [
    "#### workclass"
   ]
  },
  {
   "cell_type": "code",
   "execution_count": 21,
   "id": "7f7e0c44",
   "metadata": {},
   "outputs": [
    {
     "name": "stdout",
     "output_type": "stream",
     "text": [
      "Number of unique values for workclass \n",
      "\n",
      "Unique Values      7 \n",
      "\n",
      "****************************************\n",
      " Label                   Count\n",
      "------------------------------\n",
      " Private                22286\n",
      " Self-emp-not-inc       2499\n",
      " Local-gov              2067\n",
      " State-gov              1279\n",
      " Self-emp-inc           1074\n",
      " Federal-gov            943\n",
      " Without-pay            14\n"
     ]
    },
    {
     "data": {
      "image/png": "[encoded data removed]",
      "text/plain": [
       "<Figure size 500x500 with 1 Axes>"
      ]
     },
     "metadata": {},
     "output_type": "display_data"
    }
   ],
   "source": [
    "def print_catergorical_predictor(c_p):\n",
    "    sns.catplot(y = c_p, data = adult_data, kind = \"count\")\n",
    "    print(\"Number of unique values for\",c_p,\"\\n\")\n",
    "    i = 'Unique Values'\n",
    "    x = 17 - len(i)\n",
    "    print(i,x * ' ',adult_data[c_p].nunique(),'\\n')\n",
    "    separate()\n",
    "    print(\" Label\", 17*' ', \"Count\")\n",
    "    print(\"-\"*30)\n",
    "    ecp_data_value = adult_data[c_p].value_counts().keys().tolist()\n",
    "    ecp_data_counts = adult_data[c_p].value_counts().tolist()\n",
    "    \n",
    "    for ecp_counter in range(len(ecp_data_value)):\n",
    "        i = ecp_data_value[ecp_counter]\n",
    "        i = str(i)\n",
    "        x = 22 - len(i)\n",
    "        print(i,x * ' ',ecp_data_counts[ecp_counter])\n",
    "        \n",
    "print_catergorical_predictor('workclass')"
   ]
  },
  {
   "cell_type": "markdown",
   "id": "af7ae183",
   "metadata": {},
   "source": [
    "#### education"
   ]
  },
  {
   "cell_type": "code",
   "execution_count": 22,
   "id": "8965d902",
   "metadata": {},
   "outputs": [
    {
     "name": "stdout",
     "output_type": "stream",
     "text": [
      "Number of unique values for education \n",
      "\n",
      "Unique Values      16 \n",
      "\n",
      "****************************************\n",
      " Label                   Count\n",
      "------------------------------\n",
      " HS-grad                9840\n",
      " Some-college           6678\n",
      " Bachelors              5044\n",
      " Masters                1627\n",
      " Assoc-voc              1307\n",
      " 11th                   1048\n",
      " Assoc-acdm             1008\n",
      " 10th                   820\n",
      " 7th-8th                557\n",
      " Prof-school            542\n",
      " 9th                    455\n",
      " 12th                   377\n",
      " Doctorate              375\n",
      " 5th-6th                288\n",
      " 1st-4th                151\n",
      " Preschool              45\n"
     ]
    },
    {
     "data": {
      "image/png": "[encoded data removed]",
      "text/plain": [
       "<Figure size 500x500 with 1 Axes>"
      ]
     },
     "metadata": {},
     "output_type": "display_data"
    }
   ],
   "source": [
    "print_catergorical_predictor('education')"
   ]
  },
  {
   "cell_type": "markdown",
   "id": "d4c76e2b",
   "metadata": {},
   "source": [
    "#### marital-status"
   ]
  },
  {
   "cell_type": "code",
   "execution_count": 23,
   "id": "069c5bb7",
   "metadata": {},
   "outputs": [
    {
     "name": "stdout",
     "output_type": "stream",
     "text": [
      "Number of unique values for marital-status \n",
      "\n",
      "Unique Values      7 \n",
      "\n",
      "****************************************\n",
      " Label                   Count\n",
      "------------------------------\n",
      " Married-civ-spouse     14065\n",
      " Never-married          9726\n",
      " Divorced               4214\n",
      " Separated              939\n",
      " Widowed                827\n",
      " Married-spouse-absent  370\n",
      " Married-AF-spouse      21\n"
     ]
    },
    {
     "data": {
      "image/png": "[encoded data removed]",
      "text/plain": [
       "<Figure size 500x500 with 1 Axes>"
      ]
     },
     "metadata": {},
     "output_type": "display_data"
    }
   ],
   "source": [
    "print_catergorical_predictor('marital-status')"
   ]
  },
  {
   "cell_type": "markdown",
   "id": "86db50c6",
   "metadata": {},
   "source": [
    "#### occupation"
   ]
  },
  {
   "cell_type": "code",
   "execution_count": 24,
   "id": "f6526072",
   "metadata": {},
   "outputs": [
    {
     "name": "stdout",
     "output_type": "stream",
     "text": [
      "Number of unique values for occupation \n",
      "\n",
      "Unique Values      14 \n",
      "\n",
      "****************************************\n",
      " Label                   Count\n",
      "------------------------------\n",
      " Prof-specialty         4038\n",
      " Craft-repair           4030\n",
      " Exec-managerial        3992\n",
      " Adm-clerical           3721\n",
      " Sales                  3584\n",
      " Other-service          3212\n",
      " Machine-op-inspct      1966\n",
      " Transport-moving       1572\n",
      " Handlers-cleaners      1350\n",
      " Farming-fishing        989\n",
      " Tech-support           912\n",
      " Protective-serv        644\n",
      " Priv-house-serv        143\n",
      " Armed-Forces           9\n"
     ]
    },
    {
     "data": {
      "image/png": "[encoded data removed]",
      "text/plain": [
       "<Figure size 500x500 with 1 Axes>"
      ]
     },
     "metadata": {},
     "output_type": "display_data"
    }
   ],
   "source": [
    "print_catergorical_predictor('occupation')"
   ]
  },
  {
   "cell_type": "markdown",
   "id": "c36792fc",
   "metadata": {},
   "source": [
    "#### relationship"
   ]
  },
  {
   "cell_type": "code",
   "execution_count": 25,
   "id": "651277da",
   "metadata": {},
   "outputs": [
    {
     "name": "stdout",
     "output_type": "stream",
     "text": [
      "Number of unique values for relationship \n",
      "\n",
      "Unique Values      6 \n",
      "\n",
      "****************************************\n",
      " Label                   Count\n",
      "------------------------------\n",
      " Husband                12463\n",
      " Not-in-family          7726\n",
      " Own-child              4466\n",
      " Unmarried              3212\n",
      " Wife                   1406\n",
      " Other-relative         889\n"
     ]
    },
    {
     "data": {
      "image/png": "[encoded data removed]",
      "text/plain": [
       "<Figure size 500x500 with 1 Axes>"
      ]
     },
     "metadata": {},
     "output_type": "display_data"
    }
   ],
   "source": [
    "print_catergorical_predictor('relationship')"
   ]
  },
  {
   "cell_type": "markdown",
   "id": "ef515e11",
   "metadata": {},
   "source": [
    "#### race"
   ]
  },
  {
   "cell_type": "code",
   "execution_count": 26,
   "id": "3bfa0b3d",
   "metadata": {},
   "outputs": [
    {
     "name": "stdout",
     "output_type": "stream",
     "text": [
      "Number of unique values for race \n",
      "\n",
      "Unique Values      5 \n",
      "\n",
      "****************************************\n",
      " Label                   Count\n",
      "------------------------------\n",
      " White                  25933\n",
      " Black                  2817\n",
      " Asian-Pac-Islander     895\n",
      " Amer-Indian-Eskimo     286\n",
      " Other                  231\n"
     ]
    },
    {
     "data": {
      "image/png": "[encoded data removed]",
      "text/plain": [
       "<Figure size 500x500 with 1 Axes>"
      ]
     },
     "metadata": {},
     "output_type": "display_data"
    }
   ],
   "source": [
    "print_catergorical_predictor('race')"
   ]
  },
  {
   "cell_type": "markdown",
   "id": "95cabf8a",
   "metadata": {},
   "source": [
    "#### sex"
   ]
  },
  {
   "cell_type": "code",
   "execution_count": 27,
   "id": "9fde35fd",
   "metadata": {},
   "outputs": [
    {
     "name": "stdout",
     "output_type": "stream",
     "text": [
      "Number of unique values for sex \n",
      "\n",
      "Unique Values      2 \n",
      "\n",
      "****************************************\n",
      " Label                   Count\n",
      "------------------------------\n",
      " Male                   20380\n",
      " Female                 9782\n"
     ]
    },
    {
     "data": {
      "image/png": "[encoded data removed]",
      "text/plain": [
       "<Figure size 500x500 with 1 Axes>"
      ]
     },
     "metadata": {},
     "output_type": "display_data"
    }
   ],
   "source": [
    "print_catergorical_predictor('sex')"
   ]
  },
  {
   "cell_type": "markdown",
   "id": "6ebdf1b5",
   "metadata": {},
   "source": [
    "#### native-country"
   ]
  },
  {
   "cell_type": "code",
   "execution_count": 28,
   "id": "70b84eae",
   "metadata": {},
   "outputs": [
    {
     "name": "stdout",
     "output_type": "stream",
     "text": [
      "Number of unique values for native-country \n",
      "\n",
      "Unique Values      41 \n",
      "\n",
      "****************************************\n",
      " Label                   Count\n",
      "------------------------------\n",
      " United-States          27504\n",
      " Mexico                 610\n",
      " Philippines            188\n",
      " Germany                128\n",
      " Puerto-Rico            109\n",
      " Canada                 107\n",
      " India                  100\n",
      " El-Salvador            100\n",
      " Cuba                   92\n",
      " England                86\n",
      " Jamaica                80\n",
      " South                  71\n",
      " China                  68\n",
      " Italy                  68\n",
      " Dominican-Republic     67\n",
      " Vietnam                64\n",
      " Guatemala              63\n",
      " Japan                  59\n",
      " Poland                 56\n",
      " Columbia               56\n",
      " Iran                   42\n",
      " Taiwan                 42\n",
      " Haiti                  42\n",
      " Portugal               34\n",
      " Nicaragua              33\n",
      " Peru                   30\n",
      " Greece                 29\n",
      " France                 27\n",
      " Ecuador                27\n",
      " Ireland                24\n",
      " Hong                   19\n",
      " Cambodia               18\n",
      " Trinadad&Tobago        18\n",
      " Thailand               17\n",
      " Laos                   17\n",
      " Yugoslavia             16\n",
      " Outlying-US(Guam-USVI-etc)  14\n",
      " Hungary                13\n",
      " Honduras               12\n",
      " Scotland               11\n",
      " Holand-Netherlands     1\n"
     ]
    },
    {
     "data": {
      "image/png": "[encoded data removed]",
      "text/plain": [
       "<Figure size 500x500 with 1 Axes>"
      ]
     },
     "metadata": {},
     "output_type": "display_data"
    }
   ],
   "source": [
    "print_catergorical_predictor('native-country')"
   ]
  },
  {
   "cell_type": "markdown",
   "id": "30bb1b45",
   "metadata": {},
   "source": [
    "### 5.4. Relationship Exploration with Zhabor"
   ]
  },
  {
   "cell_type": "code",
   "execution_count": null,
   "id": "ad9ff6b6",
   "metadata": {},
   "outputs": [],
   "source": []
  },
  {
   "cell_type": "code",
   "execution_count": 29,
   "id": "976e28d0-e3a5-46dd-b297-78bc6cdcccdf",
   "metadata": {},
   "outputs": [
    {
     "data": {
      "text/plain": [
       "'\\nthings to minimally do in EDA:\\n1. find out education-num is mapped education\\n2. find out fnlwgt doesnt affect label (probs use corr or something).\\nMORE but idk what yet.\\n'"
      ]
     },
     "execution_count": 29,
     "metadata": {},
     "output_type": "execute_result"
    }
   ],
   "source": [
    "\"\"\"\n",
    "things to minimally do in EDA:\n",
    "1. find out education-num is mapped education\n",
    "2. find out fnlwgt doesnt affect label (probs use corr or something).\n",
    "MORE but idk what yet.\n",
    "\"\"\""
   ]
  },
  {
   "cell_type": "code",
   "execution_count": 30,
   "id": "cd6cde89-ee5f-4174-a355-23bb2544778c",
   "metadata": {},
   "outputs": [],
   "source": [
    "# I aint gonna touch EDA anytime soon - jc\n",
    "# I want to explore relationship with zhabor - mk"
   ]
  },
  {
   "cell_type": "code",
   "execution_count": null,
   "id": "d312f010-a758-4bd7-87ca-196b8a288fb3",
   "metadata": {},
   "outputs": [],
   "source": []
  },
  {
   "cell_type": "markdown",
   "id": "0012ced5-b019-43cf-be80-cc56bd564880",
   "metadata": {},
   "source": [
    "## Chapter 6. Feature Engineering"
   ]
  },
  {
   "cell_type": "markdown",
   "id": "f4a86708-6aa2-451c-b825-bd0d64ccd665",
   "metadata": {},
   "source": [
    "Perform (based on notes collected in earlier chapters):\n",
    "- One-hot encode all categorical variables: </br>\n",
    "  `workclass`, `marital-status`,\n",
    "  `occupation`, `relationship`, `race`, `sex`, `native-country`, and `income`.\n",
    "- Drop `fnlwgt` and `education`.\n",
    "- NOTE: NOT SURE IF WE BINNING"
   ]
  },
  {
   "cell_type": "markdown",
   "id": "4180047e-c26a-4422-8735-47aa790c5479",
   "metadata": {},
   "source": [
    "### 6.1. Encode `workclass`"
   ]
  },
  {
   "cell_type": "code",
   "execution_count": 31,
   "id": "77d24b26-28ce-4209-ad00-b0a8a20b7bfb",
   "metadata": {},
   "outputs": [
    {
     "data": {
      "text/plain": [
       "workclass\n",
       " Private             22286\n",
       " Self-emp-not-inc     2499\n",
       " Local-gov            2067\n",
       " State-gov            1279\n",
       " Self-emp-inc         1074\n",
       " Federal-gov           943\n",
       " Without-pay            14\n",
       "Name: count, dtype: int64"
      ]
     },
     "execution_count": 31,
     "metadata": {},
     "output_type": "execute_result"
    }
   ],
   "source": [
    "# Check the spread and all the possible values of the feature.\n",
    "adult_data[\"workclass\"].value_counts()"
   ]
  },
  {
   "cell_type": "markdown",
   "id": "769140e7-f194-456a-a427-11ddd1a59242",
   "metadata": {},
   "source": [
    "#### Judging from the spread, we can further group this feature to: \n",
    "- \"Private\" <br>[from \" Private\"]\n",
    "- \"Public\" <br>[from \" Local-gov\", \" State-gov\", \" Federal-gov\"]\n",
    "- \"Self-Employed\" <br>[from \" Self-emp-not-inc\", \" Self-emp-inc\"]\n",
    "- \"Others\" <br>[from \" Without-pay\"].\n",
    "\n",
    "#### Then, we can encode these to nominal numeric values. "
   ]
  },
  {
   "cell_type": "code",
   "execution_count": 32,
   "id": "bcb699c7-78ee-4299-9af7-40b06edf5aff",
   "metadata": {},
   "outputs": [
    {
     "data": {
      "text/plain": [
       "workclass\n",
       "1    22286\n",
       "3     4289\n",
       "2     3573\n",
       "0       14\n",
       "Name: count, dtype: int64"
      ]
     },
     "execution_count": 32,
     "metadata": {},
     "output_type": "execute_result"
    }
   ],
   "source": [
    "# Define the mapping dictionary.\n",
    "workclass_dict = {\n",
    "    \" Without-pay\": 0, \n",
    "    \" Private\": 1, \n",
    "    \" Self-emp-not-inc\": 2, \" Self-emp-inc\": 2, \n",
    "    \" Local-gov\": 3, \" State-gov\": 3, \" Federal-gov\" : 3\n",
    "}\n",
    "\n",
    "# Replace values using the mapping dictionary.\n",
    "adult_data[\"workclass\"] = adult_data[\"workclass\"].replace(workclass_dict)\n",
    "\n",
    "# Check.\n",
    "adult_data[\"workclass\"].value_counts()"
   ]
  },
  {
   "cell_type": "markdown",
   "id": "348c426a-2202-45b9-a63b-f2bf7f712823",
   "metadata": {},
   "source": [
    "### 6.2. Encode `marital-status`"
   ]
  },
  {
   "cell_type": "code",
   "execution_count": 33,
   "id": "681c6a15-134c-4442-b623-3d2643cc80b7",
   "metadata": {},
   "outputs": [
    {
     "data": {
      "text/plain": [
       "marital-status\n",
       " Married-civ-spouse       14065\n",
       " Never-married             9726\n",
       " Divorced                  4214\n",
       " Separated                  939\n",
       " Widowed                    827\n",
       " Married-spouse-absent      370\n",
       " Married-AF-spouse           21\n",
       "Name: count, dtype: int64"
      ]
     },
     "execution_count": 33,
     "metadata": {},
     "output_type": "execute_result"
    }
   ],
   "source": [
    "# Check the spread and all the possible values of the feature.\n",
    "adult_data[\"marital-status\"].value_counts()"
   ]
  },
  {
   "cell_type": "markdown",
   "id": "d95564b5-1e62-4a22-80fc-a97dcd987ae6",
   "metadata": {},
   "source": [
    "#### Judging from the spread, we can further group this feature to: \n",
    "- \"Single\" <br>[from \" Never-married\", \" Divorced\", \" Separated\", \" Widowed\"]\n",
    "- \"Married\" <br>[from \" Married-civ-spouse\",\" Married-spouse-absent\",\" Married-AF-spouse\"]\n",
    "\n",
    "#### Then, we can encode \"Single\" to 0, and \"Married\" to 1 (nominal numeric values). "
   ]
  },
  {
   "cell_type": "code",
   "execution_count": 34,
   "id": "d6ddeff8-10a3-4710-992e-9d1df7289421",
   "metadata": {},
   "outputs": [
    {
     "data": {
      "text/plain": [
       "marital-status\n",
       "0    15706\n",
       "1    14456\n",
       "Name: count, dtype: int64"
      ]
     },
     "execution_count": 34,
     "metadata": {},
     "output_type": "execute_result"
    }
   ],
   "source": [
    "# Define the mapping dictionary.\n",
    "marital_dict = {\n",
    "    \" Never-married\" : 0, \" Divorced\" : 0, \" Separated\" : 0, \" Widowed\" : 0,\n",
    "    \" Married-civ-spouse\" : 1,\" Married-spouse-absent\" : 1,\" Married-AF-spouse\" : 1\n",
    "}\n",
    "\n",
    "# Replace values using the mapping dictionary.\n",
    "adult_data[\"marital-status\"] = adult_data[\"marital-status\"].replace(marital_dict)\n",
    "\n",
    "# Check.\n",
    "adult_data[\"marital-status\"].value_counts()"
   ]
  },
  {
   "cell_type": "markdown",
   "id": "2689a269-0ac7-4cf8-8e76-d64e4e5d8c70",
   "metadata": {},
   "source": [
    "### 6.3. Encode `occupation`"
   ]
  },
  {
   "cell_type": "code",
   "execution_count": 35,
   "id": "3eed21da-27fa-4a43-a4d8-fad08f9ce839",
   "metadata": {},
   "outputs": [
    {
     "data": {
      "text/plain": [
       "occupation\n",
       " Prof-specialty       4038\n",
       " Craft-repair         4030\n",
       " Exec-managerial      3992\n",
       " Adm-clerical         3721\n",
       " Sales                3584\n",
       " Other-service        3212\n",
       " Machine-op-inspct    1966\n",
       " Transport-moving     1572\n",
       " Handlers-cleaners    1350\n",
       " Farming-fishing       989\n",
       " Tech-support          912\n",
       " Protective-serv       644\n",
       " Priv-house-serv       143\n",
       " Armed-Forces            9\n",
       "Name: count, dtype: int64"
      ]
     },
     "execution_count": 35,
     "metadata": {},
     "output_type": "execute_result"
    }
   ],
   "source": [
    "# Check the spread and all the possible values of the feature.\n",
    "adult_data[\"occupation\"].value_counts()"
   ]
  },
  {
   "cell_type": "code",
   "execution_count": 51,
   "id": "f867c347-5a1c-4da2-8a3c-2db8f666604b",
   "metadata": {},
   "outputs": [],
   "source": [
    "#### NEED Explanation\n"
   ]
  },
  {
   "cell_type": "code",
   "execution_count": null,
   "id": "db98831a-3d2f-4290-8e21-10aabce24e4f",
   "metadata": {},
   "outputs": [],
   "source": [
    "# need to think/EDA first."
   ]
  },
  {
   "cell_type": "markdown",
   "id": "bd0c58d1-7e22-4521-a6b5-9f5163880cc5",
   "metadata": {},
   "source": [
    "### 6.4. Encode `relationship`"
   ]
  },
  {
   "cell_type": "code",
   "execution_count": 37,
   "id": "e52bb129-236b-4682-8733-8a0344877ec9",
   "metadata": {},
   "outputs": [
    {
     "data": {
      "text/plain": [
       "relationship\n",
       " Husband           12463\n",
       " Not-in-family      7726\n",
       " Own-child          4466\n",
       " Unmarried          3212\n",
       " Wife               1406\n",
       " Other-relative      889\n",
       "Name: count, dtype: int64"
      ]
     },
     "execution_count": 37,
     "metadata": {},
     "output_type": "execute_result"
    }
   ],
   "source": [
    "# Check the spread and all the possible values of the feature.\n",
    "adult_data[\"relationship\"].value_counts()"
   ]
  },
  {
   "cell_type": "markdown",
   "id": "53a9ccf8-d191-44a8-9692-6927e0316680",
   "metadata": {},
   "source": [
    "#### Judging from the spread, we can further group this feature to: \n",
    "- \"Married\" <br>[from \" Husband\",\" Wife\"]\n",
    "- \"Others\" <br>[from \" Not-in-family\", \" Own-child\", \" Unmarried\", \" Other-relative\"]\n",
    "\n",
    "#### Then, we can encode \"Married\" to 1, and \"Others\" to 1 (nominal numeric values). "
   ]
  },
  {
   "cell_type": "code",
   "execution_count": 38,
   "id": "ed3d9a25-fdcf-4251-bc94-dcb5cb565643",
   "metadata": {},
   "outputs": [
    {
     "data": {
      "text/plain": [
       "relationship\n",
       "0    16293\n",
       "1    13869\n",
       "Name: count, dtype: int64"
      ]
     },
     "execution_count": 38,
     "metadata": {},
     "output_type": "execute_result"
    }
   ],
   "source": [
    "# Replace values.\n",
    "adult_data[\"relationship\"] = adult_data[\"relationship\"].apply(lambda x: 1 if \" Husband\" in x or \" Wife\" in x else 0)\n",
    "\n",
    "# Check.\n",
    "adult_data[\"relationship\"].value_counts()"
   ]
  },
  {
   "cell_type": "markdown",
   "id": "bc37ee87-ca60-46ea-a6f6-f2e1085e2382",
   "metadata": {},
   "source": [
    "### 6.5. Encode `race`"
   ]
  },
  {
   "cell_type": "code",
   "execution_count": 39,
   "id": "cb0b02c4-2e33-4a9a-a1b5-4314df2988bd",
   "metadata": {},
   "outputs": [
    {
     "data": {
      "text/plain": [
       "race\n",
       " White                 25933\n",
       " Black                  2817\n",
       " Asian-Pac-Islander      895\n",
       " Amer-Indian-Eskimo      286\n",
       " Other                   231\n",
       "Name: count, dtype: int64"
      ]
     },
     "execution_count": 39,
     "metadata": {},
     "output_type": "execute_result"
    }
   ],
   "source": [
    "# Check the spread and all the possible values of the feature.\n",
    "adult_data[\"race\"].value_counts()"
   ]
  },
  {
   "cell_type": "markdown",
   "id": "76937be7-9627-4ed9-a3dc-41406d7ce4bd",
   "metadata": {},
   "source": [
    "#### Judging from the spread, we can further group this feature to: \n",
    "- \"White\" <br>[from \" White\"]\n",
    "- \"Others\" <br>[from \" Black\", \" Asian-Pac-Islander\", \" Amer-Indian-Eskimo\", \" Other\"]\n",
    "\n",
    "#### Then, we can encode \"White\" to 1, and \"Others\" to 0 (nominal numeric values).). "
   ]
  },
  {
   "cell_type": "code",
   "execution_count": 40,
   "id": "09cfcbde-1225-4480-8491-791f9e9628a1",
   "metadata": {},
   "outputs": [
    {
     "data": {
      "text/plain": [
       "race\n",
       "1    25933\n",
       "0     4229\n",
       "Name: count, dtype: int64"
      ]
     },
     "execution_count": 40,
     "metadata": {},
     "output_type": "execute_result"
    }
   ],
   "source": [
    "# Replace values.\n",
    "adult_data[\"race\"] = adult_data[\"race\"].apply(lambda x: 1 if \" White\" in x else 0)\n",
    "\n",
    "# Check.\n",
    "adult_data[\"race\"].value_counts()"
   ]
  },
  {
   "cell_type": "markdown",
   "id": "09987597-90bd-4b44-8bb0-abb2277ebce2",
   "metadata": {},
   "source": [
    "### 6.6. Encode `sex`"
   ]
  },
  {
   "cell_type": "code",
   "execution_count": 41,
   "id": "5f2fa797-5455-498a-a8ba-fbe960f86661",
   "metadata": {
    "scrolled": true
   },
   "outputs": [
    {
     "data": {
      "text/plain": [
       "sex\n",
       " Male      20380\n",
       " Female     9782\n",
       "Name: count, dtype: int64"
      ]
     },
     "execution_count": 41,
     "metadata": {},
     "output_type": "execute_result"
    }
   ],
   "source": [
    "# Check the spread and all the possible values of the feature.\n",
    "adult_data[\"sex\"].value_counts()"
   ]
  },
  {
   "cell_type": "markdown",
   "id": "fecacedd-3708-41fe-bdeb-615700f7b0a1",
   "metadata": {},
   "source": [
    "#### Simply map to nominal numeric values [\" Male\" = 0, \" Female\" = 1]."
   ]
  },
  {
   "cell_type": "code",
   "execution_count": 42,
   "id": "7b8c7363-bccc-48b6-b305-2a2949b2cadd",
   "metadata": {},
   "outputs": [
    {
     "data": {
      "text/plain": [
       "sex\n",
       "0    20380\n",
       "1     9782\n",
       "Name: count, dtype: int64"
      ]
     },
     "execution_count": 42,
     "metadata": {},
     "output_type": "execute_result"
    }
   ],
   "source": [
    "# Map values.\n",
    "adult_data[\"sex\"] = adult_data[\"sex\"].map({\" Male\": 0, \" Female\": 1}) \n",
    "\n",
    "# Check.\n",
    "adult_data[\"sex\"].value_counts()"
   ]
  },
  {
   "cell_type": "markdown",
   "id": "64638fd9-5ea9-474c-919a-d94155b75c55",
   "metadata": {},
   "source": [
    "### 6.7. Encode `native-country`"
   ]
  },
  {
   "cell_type": "code",
   "execution_count": 43,
   "id": "cd5755d8-16b5-4cfb-b034-06694669fc54",
   "metadata": {},
   "outputs": [
    {
     "data": {
      "text/plain": [
       "native-country\n",
       " United-States                 27504\n",
       " Mexico                          610\n",
       " Philippines                     188\n",
       " Germany                         128\n",
       " Puerto-Rico                     109\n",
       " Canada                          107\n",
       " India                           100\n",
       " El-Salvador                     100\n",
       " Cuba                             92\n",
       " England                          86\n",
       " Jamaica                          80\n",
       " South                            71\n",
       " China                            68\n",
       " Italy                            68\n",
       " Dominican-Republic               67\n",
       " Vietnam                          64\n",
       " Guatemala                        63\n",
       " Japan                            59\n",
       " Poland                           56\n",
       " Columbia                         56\n",
       " Iran                             42\n",
       " Taiwan                           42\n",
       " Haiti                            42\n",
       " Portugal                         34\n",
       " Nicaragua                        33\n",
       " Peru                             30\n",
       " Greece                           29\n",
       " France                           27\n",
       " Ecuador                          27\n",
       " Ireland                          24\n",
       " Hong                             19\n",
       " Cambodia                         18\n",
       " Trinadad&Tobago                  18\n",
       " Thailand                         17\n",
       " Laos                             17\n",
       " Yugoslavia                       16\n",
       " Outlying-US(Guam-USVI-etc)       14\n",
       " Hungary                          13\n",
       " Honduras                         12\n",
       " Scotland                         11\n",
       " Holand-Netherlands                1\n",
       "Name: count, dtype: int64"
      ]
     },
     "execution_count": 43,
     "metadata": {},
     "output_type": "execute_result"
    }
   ],
   "source": [
    "# Check the spread and all the possible values of the feature.\n",
    "adult_data[\"native-country\"].value_counts()"
   ]
  },
  {
   "cell_type": "markdown",
   "id": "4883464a-7ab1-49bd-bb0d-949575c23ad6",
   "metadata": {},
   "source": [
    "#### Judging from the spread, we can further group this feature to: \n",
    "- \"US\" <br>[from \" United-States\"]\n",
    "- \"Others\" <br>[from all other values]\n",
    "\n",
    "#### Then, we can encode \"US\" to 1, and \"Others\" to 0 (nominal numeric values)."
   ]
  },
  {
   "cell_type": "code",
   "execution_count": 44,
   "id": "1390edd6-9675-47b6-8b1f-4ff17776a551",
   "metadata": {},
   "outputs": [
    {
     "data": {
      "text/plain": [
       "native-country\n",
       "1    27504\n",
       "0     2658\n",
       "Name: count, dtype: int64"
      ]
     },
     "execution_count": 44,
     "metadata": {},
     "output_type": "execute_result"
    }
   ],
   "source": [
    "# Replace values.\n",
    "adult_data[\"native-country\"] = adult_data[\"native-country\"].apply(lambda x: 1 if \" United-States\" in x else 0)\n",
    "\n",
    "# Check.\n",
    "adult_data[\"native-country\"].value_counts()"
   ]
  },
  {
   "cell_type": "markdown",
   "id": "bf0c6c38-49b9-4640-817d-1ccafd0fcdf5",
   "metadata": {},
   "source": [
    "### 6.8. Encode `income`"
   ]
  },
  {
   "cell_type": "code",
   "execution_count": 45,
   "id": "c5c15d66-a3f8-4f26-822d-24c58b024eba",
   "metadata": {},
   "outputs": [
    {
     "data": {
      "text/plain": [
       "income\n",
       " <=50K    22654\n",
       " >50K      7508\n",
       "Name: count, dtype: int64"
      ]
     },
     "execution_count": 45,
     "metadata": {},
     "output_type": "execute_result"
    }
   ],
   "source": [
    "# Check the spread and all the possible values of the label.\n",
    "adult_data[\"income\"].value_counts()"
   ]
  },
  {
   "cell_type": "markdown",
   "id": "70c530b2-f83a-42a6-8baa-ccd05333fbcc",
   "metadata": {},
   "source": [
    "#### Simply map to nominal numeric values [\" <=50K\" = 0, \" >50K\" = 1]."
   ]
  },
  {
   "cell_type": "code",
   "execution_count": 46,
   "id": "adf4c919-8988-4b61-a616-136577ac37ce",
   "metadata": {},
   "outputs": [
    {
     "data": {
      "text/plain": [
       "income\n",
       "0    22654\n",
       "1     7508\n",
       "Name: count, dtype: int64"
      ]
     },
     "execution_count": 46,
     "metadata": {},
     "output_type": "execute_result"
    }
   ],
   "source": [
    "# Map values.\n",
    "adult_data[\"income\"] = adult_data[\"income\"].map({\" <=50K\": 0, \" >50K\":1}) \n",
    "\n",
    "# Check.\n",
    "adult_data[\"income\"].value_counts()"
   ]
  },
  {
   "cell_type": "code",
   "execution_count": 47,
   "id": "c69424ac-02aa-4acd-b4eb-001b00435d89",
   "metadata": {},
   "outputs": [],
   "source": [
    "########### 6.9 BINNN??"
   ]
  },
  {
   "cell_type": "markdown",
   "id": "26164008-e069-43c6-a8e1-724aa25b0279",
   "metadata": {},
   "source": [
    "### 6.9. Drop Redundant Features"
   ]
  },
  {
   "cell_type": "code",
   "execution_count": 48,
   "id": "688957da-47a6-4820-908a-c6f268b40878",
   "metadata": {},
   "outputs": [],
   "source": [
    "adult_data = adult_data.drop(\n",
    "    [\"fnlwgt\", 'education'], axis=1)"
   ]
  },
  {
   "cell_type": "markdown",
   "id": "cf30a284-7f6e-4f63-aa87-08cd5c04cfbc",
   "metadata": {},
   "source": [
    "## Chapter 7. Modelling"
   ]
  },
  {
   "cell_type": "code",
   "execution_count": 49,
   "id": "8551f2d0-b047-4c2f-98cd-906bc3126496",
   "metadata": {},
   "outputs": [],
   "source": [
    "# Do this in week 9."
   ]
  },
  {
   "cell_type": "code",
   "execution_count": 50,
   "id": "c7583ac8-3145-4197-86be-d4797a09b8f6",
   "metadata": {},
   "outputs": [
    {
     "data": {
      "text/html": [
       "<div>\n",
       "<style scoped>\n",
       "    .dataframe tbody tr th:only-of-type {\n",
       "        vertical-align: middle;\n",
       "    }\n",
       "\n",
       "    .dataframe tbody tr th {\n",
       "        vertical-align: top;\n",
       "    }\n",
       "\n",
       "    .dataframe thead th {\n",
       "        text-align: right;\n",
       "    }\n",
       "</style>\n",
       "<table border=\"1\" class=\"dataframe\">\n",
       "  <thead>\n",
       "    <tr style=\"text-align: right;\">\n",
       "      <th></th>\n",
       "      <th>age</th>\n",
       "      <th>workclass</th>\n",
       "      <th>education</th>\n",
       "      <th>marital-status</th>\n",
       "      <th>occupation</th>\n",
       "      <th>relationship</th>\n",
       "      <th>race</th>\n",
       "      <th>sex</th>\n",
       "      <th>capital-gain</th>\n",
       "      <th>capital-loss</th>\n",
       "      <th>hours-per-week</th>\n",
       "      <th>native-country</th>\n",
       "      <th>income</th>\n",
       "    </tr>\n",
       "  </thead>\n",
       "  <tbody>\n",
       "    <tr>\n",
       "      <th>0</th>\n",
       "      <td>39</td>\n",
       "      <td>3</td>\n",
       "      <td>Bachelors</td>\n",
       "      <td>0</td>\n",
       "      <td>Adm-clerical</td>\n",
       "      <td>0</td>\n",
       "      <td>1</td>\n",
       "      <td>0</td>\n",
       "      <td>2174</td>\n",
       "      <td>0</td>\n",
       "      <td>40</td>\n",
       "      <td>1</td>\n",
       "      <td>0</td>\n",
       "    </tr>\n",
       "    <tr>\n",
       "      <th>1</th>\n",
       "      <td>50</td>\n",
       "      <td>2</td>\n",
       "      <td>Bachelors</td>\n",
       "      <td>1</td>\n",
       "      <td>Exec-managerial</td>\n",
       "      <td>1</td>\n",
       "      <td>1</td>\n",
       "      <td>0</td>\n",
       "      <td>0</td>\n",
       "      <td>0</td>\n",
       "      <td>13</td>\n",
       "      <td>1</td>\n",
       "      <td>0</td>\n",
       "    </tr>\n",
       "    <tr>\n",
       "      <th>2</th>\n",
       "      <td>38</td>\n",
       "      <td>1</td>\n",
       "      <td>HS-grad</td>\n",
       "      <td>0</td>\n",
       "      <td>Handlers-cleaners</td>\n",
       "      <td>0</td>\n",
       "      <td>1</td>\n",
       "      <td>0</td>\n",
       "      <td>0</td>\n",
       "      <td>0</td>\n",
       "      <td>40</td>\n",
       "      <td>1</td>\n",
       "      <td>0</td>\n",
       "    </tr>\n",
       "    <tr>\n",
       "      <th>3</th>\n",
       "      <td>53</td>\n",
       "      <td>1</td>\n",
       "      <td>11th</td>\n",
       "      <td>1</td>\n",
       "      <td>Handlers-cleaners</td>\n",
       "      <td>1</td>\n",
       "      <td>0</td>\n",
       "      <td>0</td>\n",
       "      <td>0</td>\n",
       "      <td>0</td>\n",
       "      <td>40</td>\n",
       "      <td>1</td>\n",
       "      <td>0</td>\n",
       "    </tr>\n",
       "    <tr>\n",
       "      <th>4</th>\n",
       "      <td>28</td>\n",
       "      <td>1</td>\n",
       "      <td>Bachelors</td>\n",
       "      <td>1</td>\n",
       "      <td>Prof-specialty</td>\n",
       "      <td>1</td>\n",
       "      <td>0</td>\n",
       "      <td>1</td>\n",
       "      <td>0</td>\n",
       "      <td>0</td>\n",
       "      <td>40</td>\n",
       "      <td>0</td>\n",
       "      <td>0</td>\n",
       "    </tr>\n",
       "  </tbody>\n",
       "</table>\n",
       "</div>"
      ],
      "text/plain": [
       "   age  workclass   education  marital-status          occupation  \\\n",
       "0   39          3   Bachelors               0        Adm-clerical   \n",
       "1   50          2   Bachelors               1     Exec-managerial   \n",
       "2   38          1     HS-grad               0   Handlers-cleaners   \n",
       "3   53          1        11th               1   Handlers-cleaners   \n",
       "4   28          1   Bachelors               1      Prof-specialty   \n",
       "\n",
       "   relationship  race  sex  capital-gain  capital-loss  hours-per-week  \\\n",
       "0             0     1    0          2174             0              40   \n",
       "1             1     1    0             0             0              13   \n",
       "2             0     1    0             0             0              40   \n",
       "3             1     0    0             0             0              40   \n",
       "4             1     0    1             0             0              40   \n",
       "\n",
       "   native-country  income  \n",
       "0               1       0  \n",
       "1               1       0  \n",
       "2               1       0  \n",
       "3               1       0  \n",
       "4               0       0  "
      ]
     },
     "execution_count": 50,
     "metadata": {},
     "output_type": "execute_result"
    }
   ],
   "source": [
    "adult_data.head()"
   ]
  },
  {
   "cell_type": "code",
   "execution_count": null,
   "id": "d84eed6c-d618-4da5-8d7a-bedaf40042dc",
   "metadata": {},
   "outputs": [],
   "source": []
  }
 ],
 "metadata": {
  "kernelspec": {
   "display_name": "Python 3 (ipykernel)",
   "language": "python",
   "name": "python3"
  },
  "language_info": {
   "codemirror_mode": {
    "name": "ipython",
    "version": 3
   },
   "file_extension": ".py",
   "mimetype": "text/x-python",
   "name": "python",
   "nbconvert_exporter": "python",
   "pygments_lexer": "ipython3",
   "version": "3.11.5"
  }
 },
 "nbformat": 4,
 "nbformat_minor": 5
}
