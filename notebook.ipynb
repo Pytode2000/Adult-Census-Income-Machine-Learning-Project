{
 "cells": [
  {
   "cell_type": "markdown",
   "id": "b56b81a0-5b9a-4622-bb8b-f41ccbe44bee",
   "metadata": {},
   "source": [
    "# 1 hash (h1) for Main Title (i.e., dont use) \n",
    "## 2 hashes (h2) for Topic (e.g., Data Preparation)\n",
    "### 3 hashes (h3) for sub-topic (e.g., under Data Preparation, should have a 3 hash called maybe \"Importing Data\"\n",
    "No hash for explanations/comments\n",
    "\n",
    "#### To standardize formating. \n",
    "#### Add more if anything to take note! DELETE AT THE END.\n"
   ]
  },
  {
   "cell_type": "markdown",
   "id": "3b6517a3-9af0-487b-b541-0ce8ed9fe48e",
   "metadata": {},
   "source": [
    "Anything to note WRITE HERE:\n"
   ]
  },
  {
   "cell_type": "markdown",
   "id": "7f8a264e-2af0-422e-91a0-117b8880c46e",
   "metadata": {},
   "source": [
    "0) problem formulation, explanation etcetc\n",
    "1) Data Preparation\n",
    "2) Exploratory Data Analysis\n",
    "3) Feature Engineering\n",
    "4) Modelling\n",
    "5) Conclusion\n",
    "6) References"
   ]
  },
  {
   "cell_type": "markdown",
   "id": "125db586-ca42-4498-b00b-7c7896ac6b28",
   "metadata": {},
   "source": [
    "#### ROUGH PLAN\n",
    "0) Library Setup\n",
    "\n",
    "1) Data Description/Explanation or something (in place of Sample Collection). *Practical Motivation\n",
    "\n",
    "2) Data Preparation. *Problem Formulation (im thinking we do this in 1.)\n",
    "\n",
    "2.1 Data Cleaning\n",
    "\n",
    "2.2 Feature Engineering... etc\n",
    "\n",
    "3) Exploratory Data Analysis\n",
    "\n",
    "4) Might Do Data Cleaning etc again depending on what we find in EDA\n",
    "\n",
    "5) Modelling\n",
    "\n",
    "6) Optimization (choose best performing model, use Grid search, etc.)\n",
    "\n",
    "7) Findings/Conclusions?\n",
    "\n",
    "8) References\n"
   ]
  },
  {
   "cell_type": "markdown",
   "id": "2a3b8e89-50b1-4628-a3e8-6030b2a2b672",
   "metadata": {},
   "source": [
    "## <u><center>ANYTHING BELOW THIS IS THE ACTUAL NOTEBOOK!</center></u>"
   ]
  },
  {
   "cell_type": "markdown",
   "id": "e9b518e3-3187-4794-a96f-e47685a6922e",
   "metadata": {},
   "source": [
    "#### SC1015 FCSA Group 1: \n",
    "- Gay Ming Kai       (C230114@e.ntu.edu.sg)\n",
    "- Jacob Ong Jia Chun (JONG163@e.ntu.edu.sg)\n",
    "- Lim Zu Liang       (E230184@e.ntu.edu.sg)"
   ]
  },
  {
   "cell_type": "markdown",
   "id": "20437e44-d9a8-4f92-8591-1d895a8e12f7",
   "metadata": {},
   "source": [
    "<h1><center><u>Adult Census Income</u></center></h1>"
   ]
  },
  {
   "cell_type": "markdown",
   "id": "36fbd239-26fe-426a-95bc-a658afa57952",
   "metadata": {},
   "source": [
    "## 0. Library Setup"
   ]
  },
  {
   "cell_type": "code",
   "execution_count": 12,
   "id": "e66b1145-51be-4ae1-9c11-c394f141e74b",
   "metadata": {},
   "outputs": [
    {
     "name": "stdout",
     "output_type": "stream",
     "text": [
      "Data Analysis and Wrangling Packages:\n",
      "- pandas version: 2.1.4\n",
      "- NumPy version: 1.24.3\n",
      "- SciPy version: 1.11.4\n",
      "-------------------------------------\n",
      "Visualization Packages:\n",
      "- seaborn version: 0.12.2\n",
      "- matplotlib version: 3.8.0\n",
      "-------------------------------------\n",
      "Modelling Packages:\n",
      "- scikit-learn version: 1.3.0\n",
      "-------------------------------------\n"
     ]
    }
   ],
   "source": [
    "print(\"Data Analysis and Wrangling Packages:\")\n",
    "import pandas as pd # Library for data processing and analysis.\n",
    "import numpy as np # Library for numerical computing (provides support for multi-dimensional arrays and matrices).\n",
    "import scipy as sp # Library for scientific computing and advanced mathematics.\n",
    "print(\"- pandas version: {}\". format(pd.__version__))\n",
    "print(\"- NumPy version: {}\". format(np.__version__))\n",
    "print(\"- SciPy version: {}\". format(sp.__version__)) \n",
    "print('-'*37)\n",
    "\n",
    "print(\"Visualization Packages:\")\n",
    "import matplotlib # Plotting library\n",
    "import seaborn as sns  # Statistical data visualization based on matplotlib\n",
    "print(\"- seaborn version: {}\".format(sns.__version__))\n",
    "print(\"- matplotlib version: {}\".format(matplotlib.__version__))\n",
    "print('-'*37)\n",
    "\n",
    "print(\"Modelling Packages:\")\n",
    "import sklearn as sk # Collection of machine learning algorithms.\n",
    "print(\"- scikit-learn version: {}\". format(sk.__version__))\n",
    "print('-'*37)"
   ]
  },
  {
   "cell_type": "code",
   "execution_count": null,
   "id": "d07a45e6-460e-44be-b9f4-7d1a5a868f43",
   "metadata": {},
   "outputs": [],
   "source": []
  }
 ],
 "metadata": {
  "kernelspec": {
   "display_name": "Python 3 (ipykernel)",
   "language": "python",
   "name": "python3"
  },
  "language_info": {
   "codemirror_mode": {
    "name": "ipython",
    "version": 3
   },
   "file_extension": ".py",
   "mimetype": "text/x-python",
   "name": "python",
   "nbconvert_exporter": "python",
   "pygments_lexer": "ipython3",
   "version": "3.11.5"
  }
 },
 "nbformat": 4,
 "nbformat_minor": 5
}
