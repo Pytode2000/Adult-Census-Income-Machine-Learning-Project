{
 "cells": [
  {
   "cell_type": "markdown",
   "id": "b56b81a0-5b9a-4622-bb8b-f41ccbe44bee",
   "metadata": {},
   "source": [
    "# 1 hash (h1) for Main Title (i.e., dont use) \n",
    "## 2 hashes (h2) for Topic (e.g., Data Preparation)\n",
    "### 3 hashes (h3) for sub-topic (e.g., under Data Preparation, should have a 3 hash called maybe \"Importing Data\"\n",
    "#### 4 hashes (h4) for findings, analysis etc\n",
    "No hash for explanations/comments\n",
    "\n",
    "#### To standardize formating. \n",
    "#### Add more if anything to take note! DELETE AT THE END.\n"
   ]
  },
  {
   "cell_type": "markdown",
   "id": "3b6517a3-9af0-487b-b541-0ce8ed9fe48e",
   "metadata": {},
   "source": [
    "Anything to note WRITE HERE:\n"
   ]
  },
  {
   "cell_type": "markdown",
   "id": "7f8a264e-2af0-422e-91a0-117b8880c46e",
   "metadata": {},
   "source": []
  },
  {
   "cell_type": "markdown",
   "id": "125db586-ca42-4498-b00b-7c7896ac6b28",
   "metadata": {},
   "source": [
    "#### ROUGH PLAN\n",
    "0) Library Setup\n",
    "\n",
    "1) Data Description/Explanation or something (in place of Sample Collection). *Practical Motivation\n",
    "\n",
    "2) Data Preparation. *Problem Formulation (im thinking we do this in 1.)\n",
    "\n",
    "2.1 Data Cleaning\n",
    "\n",
    "2.2 Feature Engineering... etc\n",
    "\n",
    "3) Exploratory Data Analysis\n",
    "\n",
    "4) Might Do Data Cleaning etc again depending on what we find in EDA\n",
    "\n",
    "5) Modelling\n",
    "\n",
    "6) Optimization (choose best performing model, use Grid search, etc.)\n",
    "\n",
    "7) Findings/Conclusions?\n",
    "\n",
    "8) References\n"
   ]
  },
  {
   "cell_type": "markdown",
   "id": "2a3b8e89-50b1-4628-a3e8-6030b2a2b672",
   "metadata": {},
   "source": [
    "## <u><center>ANYTHING BELOW THIS IS THE ACTUAL NOTEBOOK!</center></u>\n",
    "-------------------------------------------------------------------------------------------------------------------------------------------------------"
   ]
  },
  {
   "cell_type": "markdown",
   "id": "e9b518e3-3187-4794-a96f-e47685a6922e",
   "metadata": {},
   "source": [
    "#### SC1015 FCSA Group 1: \n",
    "- Gay Ming Kai       (C230114@e.ntu.edu.sg)\n",
    "- Jacob Ong Jia Chun (JONG163@e.ntu.edu.sg)\n",
    "- Lim Zu Liang       (E230184@e.ntu.edu.sg)"
   ]
  },
  {
   "cell_type": "markdown",
   "id": "9ab6ba4c-1f27-413d-8446-ff2d588a5eef",
   "metadata": {},
   "source": [
    "<h1><center><u>Adult Census Income</u></center></h1>"
   ]
  },
  {
   "cell_type": "markdown",
   "id": "d03937f0-b042-4530-8e0c-9702c83d2236",
   "metadata": {},
   "source": [
    "// this will be the Table of contents. Do last."
   ]
  },
  {
   "cell_type": "markdown",
   "id": "36fbd239-26fe-426a-95bc-a658afa57952",
   "metadata": {},
   "source": [
    "## Chapter 0. Library Setup"
   ]
  },
  {
   "cell_type": "code",
   "execution_count": 11,
   "id": "e66b1145-51be-4ae1-9c11-c394f141e74b",
   "metadata": {},
   "outputs": [
    {
     "name": "stdout",
     "output_type": "stream",
     "text": [
      "Data Analysis and Wrangling Packages\n",
      "- pandas version: 2.1.4\n",
      "- NumPy version: 1.24.3\n",
      "- SciPy version: 1.11.4\n",
      "****************************************\n",
      "Visualization Packages\n",
      "- matplotlib version: 3.8.0\n",
      "- seaborn version: 0.12.2\n",
      "****************************************\n",
      "Modelling Packages\n",
      "- scikit-learn version: 1.3.0\n",
      "****************************************\n"
     ]
    }
   ],
   "source": [
    "def separate():\n",
    "    print('*' * 40)\n",
    "\n",
    "print(\"Data Analysis and Wrangling Packages\")\n",
    "import pandas as pd # Library for data processing and analysis.\n",
    "import numpy as np # Library for numerical computing (provides support for multi-dimensional arrays and matrices).\n",
    "import scipy as sp # Library for scientific computing and advanced mathematics.\n",
    "print(\"- pandas version: {}\". format(pd.__version__))\n",
    "print(\"- NumPy version: {}\". format(np.__version__))\n",
    "print(\"- SciPy version: {}\". format(sp.__version__)) \n",
    "separate()\n",
    "print(\"Visualization Packages\")\n",
    "import matplotlib # Plotting library\n",
    "import seaborn as sns  # Statistical data visualization based on matplotlib\n",
    "print(\"- matplotlib version: {}\".format(matplotlib.__version__))\n",
    "print(\"- seaborn version: {}\".format(sns.__version__))\n",
    "separate()\n",
    "\n",
    "print(\"Modelling Packages\")\n",
    "import sklearn as sk # Collection of machine learning algorithms.\n",
    "print(\"- scikit-learn version: {}\". format(sk.__version__))\n",
    "separate()"
   ]
  },
  {
   "cell_type": "markdown",
   "id": "b2fe740f-45f3-47e7-95c2-73e43503f651",
   "metadata": {},
   "source": [
    "## Chapter 1. Dataset Overview"
   ]
  },
  {
   "cell_type": "markdown",
   "id": "d29daf07-9ed5-4099-87f1-12e0a055c90a",
   "metadata": {},
   "source": [
    "DRAFT: (NEED TO EDIT)\n",
    "\n",
    "The dataset (https://archive.ics.uci.edu/ml/datasets/Adult) belongs to and is managed by the University of California Irvine. It was donated by Ronny Kohavi and Barry Becker in 1994.\n",
    "\n",
    "The dataset has 1 target, 14 features and 32561 instances, and its been noted that there are missing values so we will have to identify and rectify it.\n",
    "\n",
    "The 14 features are: // Need to describe these features and what they represent\n",
    "- age\n",
    "- workclass\n",
    "- fnlwgt\n",
    "- education\n",
    "- education-num\n",
    "- marital-status\n",
    "- occupation \n",
    "- relationship\n",
    "- race\n",
    "- sex\n",
    "- capital-gain\n",
    "- capital-loss\n",
    "- hours-per-week\n",
    "- native-country \n",
    "\n",
    "The label/target is \"income\", binary classification. >50K, <=50K.\n",
    "\n",
    "#### Data Preparation Note:\n",
    "There are missing data in 3 features: `workclass`, `occupation`, and `native-country`.\n",
    "\n",
    "#### Feature Engineering Note:\n",
    "The feature \"fnlwgt\" is an abbreviation for \"Final Weight\" (datatype: cardinal number). This feature refers to an estimated number of people each row represents. For example, a specific row may have fnlwgt=2500, age=50, race=White, sex=female ...etc. This would mean 2500 people fall into the category of being 50 years old, White, female etc. Logically speaking, since this feature basically represents the count of a specific group of people represented, it should not affect the label. I will be conducting some analysis to see if my judgement is correct or not. If it indeed does not affect the label, then I will drop it.\n",
    "\n",
    "The feature \"education.num\" is the mapped version of the \"education\" feature. For example, education=HS-grad -> education.num=9. Since they both represent the same thing, I will be removing one of them. Machine works better with numbers over strings/text, thus I will be removing the feature \"education\" in Feature Engineering."
   ]
  },
  {
   "cell_type": "markdown",
   "id": "0fc29db7-d42e-4fb8-b695-2ebf4cd539aa",
   "metadata": {},
   "source": [
    "## Chapter 2. Data Preparation"
   ]
  },
  {
   "cell_type": "markdown",
   "id": "30a683d7-fe90-4d74-ad30-9b9954fd1efc",
   "metadata": {},
   "source": [
    "### 2.1 Import Dataset as Dataframe"
   ]
  },
  {
   "cell_type": "code",
   "execution_count": 14,
   "id": "9167582b-9bc3-4d91-a931-88f5130af980",
   "metadata": {},
   "outputs": [
    {
     "data": {
      "text/html": [
       "<div>\n",
       "<style scoped>\n",
       "    .dataframe tbody tr th:only-of-type {\n",
       "        vertical-align: middle;\n",
       "    }\n",
       "\n",
       "    .dataframe tbody tr th {\n",
       "        vertical-align: top;\n",
       "    }\n",
       "\n",
       "    .dataframe thead th {\n",
       "        text-align: right;\n",
       "    }\n",
       "</style>\n",
       "<table border=\"1\" class=\"dataframe\">\n",
       "  <thead>\n",
       "    <tr style=\"text-align: right;\">\n",
       "      <th></th>\n",
       "      <th>age</th>\n",
       "      <th>workclass</th>\n",
       "      <th>fnlwgt</th>\n",
       "      <th>education</th>\n",
       "      <th>education-num</th>\n",
       "      <th>marital-status</th>\n",
       "      <th>occupation</th>\n",
       "      <th>relationship</th>\n",
       "      <th>race</th>\n",
       "      <th>sex</th>\n",
       "      <th>capital-gain</th>\n",
       "      <th>capital-loss</th>\n",
       "      <th>hours-per-week</th>\n",
       "      <th>native-country</th>\n",
       "      <th>income</th>\n",
       "    </tr>\n",
       "  </thead>\n",
       "  <tbody>\n",
       "    <tr>\n",
       "      <th>0</th>\n",
       "      <td>39</td>\n",
       "      <td>State-gov</td>\n",
       "      <td>77516</td>\n",
       "      <td>Bachelors</td>\n",
       "      <td>13</td>\n",
       "      <td>Never-married</td>\n",
       "      <td>Adm-clerical</td>\n",
       "      <td>Not-in-family</td>\n",
       "      <td>White</td>\n",
       "      <td>Male</td>\n",
       "      <td>2174</td>\n",
       "      <td>0</td>\n",
       "      <td>40</td>\n",
       "      <td>United-States</td>\n",
       "      <td>&lt;=50K</td>\n",
       "    </tr>\n",
       "    <tr>\n",
       "      <th>1</th>\n",
       "      <td>50</td>\n",
       "      <td>Self-emp-not-inc</td>\n",
       "      <td>83311</td>\n",
       "      <td>Bachelors</td>\n",
       "      <td>13</td>\n",
       "      <td>Married-civ-spouse</td>\n",
       "      <td>Exec-managerial</td>\n",
       "      <td>Husband</td>\n",
       "      <td>White</td>\n",
       "      <td>Male</td>\n",
       "      <td>0</td>\n",
       "      <td>0</td>\n",
       "      <td>13</td>\n",
       "      <td>United-States</td>\n",
       "      <td>&lt;=50K</td>\n",
       "    </tr>\n",
       "    <tr>\n",
       "      <th>2</th>\n",
       "      <td>38</td>\n",
       "      <td>Private</td>\n",
       "      <td>215646</td>\n",
       "      <td>HS-grad</td>\n",
       "      <td>9</td>\n",
       "      <td>Divorced</td>\n",
       "      <td>Handlers-cleaners</td>\n",
       "      <td>Not-in-family</td>\n",
       "      <td>White</td>\n",
       "      <td>Male</td>\n",
       "      <td>0</td>\n",
       "      <td>0</td>\n",
       "      <td>40</td>\n",
       "      <td>United-States</td>\n",
       "      <td>&lt;=50K</td>\n",
       "    </tr>\n",
       "    <tr>\n",
       "      <th>3</th>\n",
       "      <td>53</td>\n",
       "      <td>Private</td>\n",
       "      <td>234721</td>\n",
       "      <td>11th</td>\n",
       "      <td>7</td>\n",
       "      <td>Married-civ-spouse</td>\n",
       "      <td>Handlers-cleaners</td>\n",
       "      <td>Husband</td>\n",
       "      <td>Black</td>\n",
       "      <td>Male</td>\n",
       "      <td>0</td>\n",
       "      <td>0</td>\n",
       "      <td>40</td>\n",
       "      <td>United-States</td>\n",
       "      <td>&lt;=50K</td>\n",
       "    </tr>\n",
       "    <tr>\n",
       "      <th>4</th>\n",
       "      <td>28</td>\n",
       "      <td>Private</td>\n",
       "      <td>338409</td>\n",
       "      <td>Bachelors</td>\n",
       "      <td>13</td>\n",
       "      <td>Married-civ-spouse</td>\n",
       "      <td>Prof-specialty</td>\n",
       "      <td>Wife</td>\n",
       "      <td>Black</td>\n",
       "      <td>Female</td>\n",
       "      <td>0</td>\n",
       "      <td>0</td>\n",
       "      <td>40</td>\n",
       "      <td>Cuba</td>\n",
       "      <td>&lt;=50K</td>\n",
       "    </tr>\n",
       "  </tbody>\n",
       "</table>\n",
       "</div>"
      ],
      "text/plain": [
       "   age          workclass  fnlwgt   education  education-num  \\\n",
       "0   39          State-gov   77516   Bachelors             13   \n",
       "1   50   Self-emp-not-inc   83311   Bachelors             13   \n",
       "2   38            Private  215646     HS-grad              9   \n",
       "3   53            Private  234721        11th              7   \n",
       "4   28            Private  338409   Bachelors             13   \n",
       "\n",
       "        marital-status          occupation    relationship    race      sex  \\\n",
       "0        Never-married        Adm-clerical   Not-in-family   White     Male   \n",
       "1   Married-civ-spouse     Exec-managerial         Husband   White     Male   \n",
       "2             Divorced   Handlers-cleaners   Not-in-family   White     Male   \n",
       "3   Married-civ-spouse   Handlers-cleaners         Husband   Black     Male   \n",
       "4   Married-civ-spouse      Prof-specialty            Wife   Black   Female   \n",
       "\n",
       "   capital-gain  capital-loss  hours-per-week  native-country  income  \n",
       "0          2174             0              40   United-States   <=50K  \n",
       "1             0             0              13   United-States   <=50K  \n",
       "2             0             0              40   United-States   <=50K  \n",
       "3             0             0              40   United-States   <=50K  \n",
       "4             0             0              40            Cuba   <=50K  "
      ]
     },
     "execution_count": 14,
     "metadata": {},
     "output_type": "execute_result"
    }
   ],
   "source": [
    "# Aquiring data.\n",
    "adult_data = pd.read_csv('data/adult.data', delimiter=\",\", header=None) # Reading a .data file (that does not have headers) into DataFrame.\n",
    "\n",
    "# Since the dataset file does NOT provide the headers, we have to add them in ourselves.\n",
    "column_names = [\"age\", \"workclass\", \"fnlwgt\", \"education\", \"education-num\", \"marital-status\", \n",
    "                \"occupation\", \"relationship\", \"race\", \"sex\", \"capital-gain\", \"capital-loss\", \n",
    "                \"hours-per-week\", \"native-country\", \"income\"]\n",
    "\n",
    "# Assign column names to DataFrame.\n",
    "adult_data.columns = column_names\n",
    "\n",
    "# First look.\n",
    "adult_data.head()"
   ]
  },
  {
   "cell_type": "markdown",
   "id": "1512be67-79b2-4acf-bcd3-4d089b28e2a9",
   "metadata": {},
   "source": [
    "### 2.2 Identify and Remove Missing Values"
   ]
  },
  {
   "cell_type": "code",
   "execution_count": 25,
   "id": "10b5543e-202d-4325-8237-df1ee5137149",
   "metadata": {},
   "outputs": [
    {
     "name": "stdout",
     "output_type": "stream",
     "text": [
      "<class 'pandas.core.frame.DataFrame'>\n",
      "Index: 30162 entries, 0 to 32560\n",
      "Data columns (total 15 columns):\n",
      " #   Column          Non-Null Count  Dtype \n",
      "---  ------          --------------  ----- \n",
      " 0   age             30162 non-null  int64 \n",
      " 1   workclass       30162 non-null  object\n",
      " 2   fnlwgt          30162 non-null  int64 \n",
      " 3   education       30162 non-null  object\n",
      " 4   education-num   30162 non-null  int64 \n",
      " 5   marital-status  30162 non-null  object\n",
      " 6   occupation      30162 non-null  object\n",
      " 7   relationship    30162 non-null  object\n",
      " 8   race            30162 non-null  object\n",
      " 9   sex             30162 non-null  object\n",
      " 10  capital-gain    30162 non-null  int64 \n",
      " 11  capital-loss    30162 non-null  int64 \n",
      " 12  hours-per-week  30162 non-null  int64 \n",
      " 13  native-country  30162 non-null  object\n",
      " 14  income          30162 non-null  object\n",
      "dtypes: int64(6), object(9)\n",
      "memory usage: 3.7+ MB\n"
     ]
    }
   ],
   "source": [
    "adult_data.info() # Look for NULL values in the three variables that contain missing data."
   ]
  },
  {
   "cell_type": "markdown",
   "id": "01140596-f000-440b-986e-4922bdeea31f",
   "metadata": {},
   "source": [
    "#### Findings:\n",
    "- Appears to not have any null/missing values, but Dataset Overview mentioned that missing values exists.\n",
    "- Missing values may be replaced with a representative value (e.g., \"MISSING\").\n",
    "\n",
    "#### Perform:\n",
    "- Option A: Peek at the data specifically to look for missing values.\n",
    "- Option B: Find all the possible values of the three features (categorical) that are said to have missing data."
   ]
  },
  {
   "cell_type": "code",
   "execution_count": 13,
   "id": "42d06152-c797-4c29-b028-e5aa9d31c9a9",
   "metadata": {},
   "outputs": [
    {
     "name": "stdout",
     "output_type": "stream",
     "text": [
      "workclass\n",
      " Private             22696\n",
      " Self-emp-not-inc     2541\n",
      " Local-gov            2093\n",
      " ?                    1836\n",
      " State-gov            1298\n",
      " Self-emp-inc         1116\n",
      " Federal-gov           960\n",
      " Without-pay            14\n",
      " Never-worked            7\n",
      "Name: count, dtype: int64\n",
      "****************************************\n",
      "occupation\n",
      " Prof-specialty       4140\n",
      " Craft-repair         4099\n",
      " Exec-managerial      4066\n",
      " Adm-clerical         3770\n",
      " Sales                3650\n",
      " Other-service        3295\n",
      " Machine-op-inspct    2002\n",
      " ?                    1843\n",
      " Transport-moving     1597\n",
      " Handlers-cleaners    1370\n",
      " Farming-fishing       994\n",
      " Tech-support          928\n",
      " Protective-serv       649\n",
      " Priv-house-serv       149\n",
      " Armed-Forces            9\n",
      "Name: count, dtype: int64\n",
      "****************************************\n",
      "native-country\n",
      " United-States                 29170\n",
      " Mexico                          643\n",
      " ?                               583\n",
      " Philippines                     198\n",
      " Germany                         137\n",
      " Canada                          121\n",
      " Puerto-Rico                     114\n",
      " El-Salvador                     106\n",
      " India                           100\n",
      " Cuba                             95\n",
      " England                          90\n",
      " Jamaica                          81\n",
      " South                            80\n",
      " China                            75\n",
      " Italy                            73\n",
      " Dominican-Republic               70\n",
      " Vietnam                          67\n",
      " Guatemala                        64\n",
      " Japan                            62\n",
      " Poland                           60\n",
      " Columbia                         59\n",
      " Taiwan                           51\n",
      " Haiti                            44\n",
      " Iran                             43\n",
      " Portugal                         37\n",
      " Nicaragua                        34\n",
      " Peru                             31\n",
      " France                           29\n",
      " Greece                           29\n",
      " Ecuador                          28\n",
      " Ireland                          24\n",
      " Hong                             20\n",
      " Cambodia                         19\n",
      " Trinadad&Tobago                  19\n",
      " Laos                             18\n",
      " Thailand                         18\n",
      " Yugoslavia                       16\n",
      " Outlying-US(Guam-USVI-etc)       14\n",
      " Honduras                         13\n",
      " Hungary                          13\n",
      " Scotland                         12\n",
      " Holand-Netherlands                1\n",
      "Name: count, dtype: int64\n",
      "****************************************\n"
     ]
    }
   ],
   "source": [
    "# We chose Option B as it is more robust (merely peeking head and tail may not show us the missing data).\n",
    "print(adult_data[\"workclass\"].value_counts())\n",
    "separate()\n",
    "print(adult_data[\"occupation\"].value_counts())\n",
    "separate()\n",
    "print(adult_data[\"native-country\"].value_counts())\n",
    "separate()"
   ]
  },
  {
   "cell_type": "markdown",
   "id": "7da1b130-d635-41d3-8814-51998a6aaf08",
   "metadata": {},
   "source": [
    "#### Findings:\n",
    "- It seems that missing values are denoted as '?'.\n",
    "\n",
    "#### Perform\n",
    "- Identify all missing values, then determine what to do."
   ]
  },
  {
   "cell_type": "code",
   "execution_count": 1,
   "id": "487ff2fe-e2d4-43dc-8663-0ed003ce06ce",
   "metadata": {},
   "outputs": [
    {
     "name": "stdout",
     "output_type": "stream",
     "text": [
      "Number of '?' in:\n",
      "\n",
      "Column             Count\n",
      "-------------------------\n"
     ]
    },
    {
     "ename": "NameError",
     "evalue": "name 'adult_data' is not defined",
     "output_type": "error",
     "traceback": [
      "\u001b[1;31m---------------------------------------------------------------------------\u001b[0m",
      "\u001b[1;31mNameError\u001b[0m                                 Traceback (most recent call last)",
      "Cell \u001b[1;32mIn[1], line 20\u001b[0m\n\u001b[0;32m     18\u001b[0m         \u001b[38;5;28;01mif\u001b[39;00m temp \u001b[38;5;241m==\u001b[39m \u001b[38;5;241m0\u001b[39m:\n\u001b[0;32m     19\u001b[0m             \u001b[38;5;28mprint\u001b[39m (x \u001b[38;5;241m*\u001b[39m \u001b[38;5;124m'\u001b[39m\u001b[38;5;124m \u001b[39m\u001b[38;5;124m'\u001b[39m, \u001b[38;5;124m\"\u001b[39m\u001b[38;5;124m0\u001b[39m\u001b[38;5;124m\"\u001b[39m) \u001b[38;5;66;03m# '?' is absent from all rows of a specific feature.\u001b[39;00m\n\u001b[1;32m---> 20\u001b[0m check_missing()\n",
      "Cell \u001b[1;32mIn[1], line 6\u001b[0m, in \u001b[0;36mcheck_missing\u001b[1;34m()\u001b[0m\n\u001b[0;32m      5\u001b[0m \u001b[38;5;28;01mdef\u001b[39;00m \u001b[38;5;21mcheck_missing\u001b[39m():\n\u001b[1;32m----> 6\u001b[0m     \u001b[38;5;28;01mfor\u001b[39;00m i \u001b[38;5;129;01min\u001b[39;00m adult_data\u001b[38;5;241m.\u001b[39mcolumns: \n\u001b[0;32m      7\u001b[0m         t \u001b[38;5;241m=\u001b[39m adult_data[i]\u001b[38;5;241m.\u001b[39mvalue_counts() \n\u001b[0;32m      8\u001b[0m         index \u001b[38;5;241m=\u001b[39m \u001b[38;5;28mlist\u001b[39m(t\u001b[38;5;241m.\u001b[39mindex)\n",
      "\u001b[1;31mNameError\u001b[0m: name 'adult_data' is not defined"
     ]
    }
   ],
   "source": [
    "# Check all presence and count of '?' in the dataset.\n",
    "print(\"Number of '?' in:\\n\")\n",
    "print(\"Column\", 11*' ', \"Count\")\n",
    "print(\"-\"*25)\n",
    "def check_missing():\n",
    "    for i in adult_data.columns: \n",
    "        t = adult_data[i].value_counts() \n",
    "        index = list(t.index)\n",
    "        print(i, end=\"\")\n",
    "        x = 20 - len(i) # For styling purposes\n",
    "        for j in index:\n",
    "            temp = 0\n",
    "            if j == \" ?\":\n",
    "    \n",
    "                print (x * ' ', t[' ?']) # Once a '?' is found, print the number of '?' in the feature.\n",
    "                temp = 1\n",
    "                break\n",
    "        if temp == 0:\n",
    "            print (x * ' ', \"0\") # '?' is absent from all rows of a specific feature.\n",
    "check_missing()"
   ]
  },
  {
   "cell_type": "markdown",
   "id": "f84ef0de",
   "metadata": {},
   "source": [
    "#### Findings:\n",
    "- Just like what the dataset said, only `workclass`, `occupation`, and `native-country` contains missing data.\n",
    "    - They are all categorical features.\n",
    "    - Cannot replace missing variables with central tendencies (mean, median). \n",
    "\n",
    "#### Perform:\n",
    "- Option A: Remove rows containing missing data.\n",
    "    - There are a maximum of 4262 missing data points (assuming no overlaps), which comprises about 13% of the total dataset.\n",
    "\n",
    "- Option B: Remove the columns that contain missing data (`workclass`, `occupation`, and `native-country`).\n",
    "    - These three features are intuitively crucial and likely to significantly impact the label income.\n",
    "      \n",
    "- Option C: Predict missing classification data based on other\n",
    "  variables in the dataset using classification models like logistic regression.\n",
    "    - Viable but can be inaccurate and time-consuming.\n",
    "      \n",
    "- Option D: Impute missing data using the respective features' mode.\n",
    "    - It might skew the data and impact the model performance. \n",
    "\n",
    "- Conclusion: Option A\n",
    "    - Given that we have 14 features, even after removing the missing values, we would still have approximately 28000 data points,\n",
    "      which should be more than sufficient for analysis and prediction.\n",
    "\n",
    "// FORMAT WEIRD, NEED TO FIX."
   ]
  },
  {
   "cell_type": "code",
   "execution_count": 24,
   "id": "3a64b804-06f2-439f-9123-be983b6b6660",
   "metadata": {},
   "outputs": [
    {
     "name": "stdout",
     "output_type": "stream",
     "text": [
      "age                  0\n",
      "workclass            0\n",
      "fnlwgt               0\n",
      "education            0\n",
      "education-num        0\n",
      "marital-status       0\n",
      "occupation           0\n",
      "relationship         0\n",
      "race                 0\n",
      "sex                  0\n",
      "capital-gain         0\n",
      "capital-loss         0\n",
      "hours-per-week       0\n",
      "native-country       0\n",
      "income               0\n"
     ]
    }
   ],
   "source": [
    "#Option A\n",
    "adult_data = adult_data.drop(adult_data[\n",
    "                             (adult_data[\"workclass\"] == \" ?\") | \n",
    "                             (adult_data[\"occupation\"] == \" ?\") | \n",
    "                             (adult_data[\"native-country\"] == \" ?\")].index)\n",
    "\n",
    "# Check if successfully removed.\n",
    "check_missing()"
   ]
  },
  {
   "cell_type": "markdown",
   "id": "e180e27a-44ff-4e47-84c3-60b7142c156b",
   "metadata": {},
   "source": [
    "### 2.3 Peeks and Checks"
   ]
  },
  {
   "cell_type": "code",
   "execution_count": null,
   "id": "2cb531db-87bc-4a68-a282-39dc151df60d",
   "metadata": {},
   "outputs": [],
   "source": []
  },
  {
   "cell_type": "code",
   "execution_count": 17,
   "id": "60227876-418f-4de8-afa7-5e5d5374cdb3",
   "metadata": {},
   "outputs": [
    {
     "data": {
      "text/html": [
       "<div>\n",
       "<style scoped>\n",
       "    .dataframe tbody tr th:only-of-type {\n",
       "        vertical-align: middle;\n",
       "    }\n",
       "\n",
       "    .dataframe tbody tr th {\n",
       "        vertical-align: top;\n",
       "    }\n",
       "\n",
       "    .dataframe thead th {\n",
       "        text-align: right;\n",
       "    }\n",
       "</style>\n",
       "<table border=\"1\" class=\"dataframe\">\n",
       "  <thead>\n",
       "    <tr style=\"text-align: right;\">\n",
       "      <th></th>\n",
       "      <th>age</th>\n",
       "      <th>workclass</th>\n",
       "      <th>fnlwgt</th>\n",
       "      <th>education</th>\n",
       "      <th>education-num</th>\n",
       "      <th>marital-status</th>\n",
       "      <th>occupation</th>\n",
       "      <th>relationship</th>\n",
       "      <th>race</th>\n",
       "      <th>sex</th>\n",
       "      <th>capital-gain</th>\n",
       "      <th>capital-loss</th>\n",
       "      <th>hours-per-week</th>\n",
       "      <th>native-country</th>\n",
       "      <th>income</th>\n",
       "    </tr>\n",
       "  </thead>\n",
       "  <tbody>\n",
       "    <tr>\n",
       "      <th>0</th>\n",
       "      <td>39</td>\n",
       "      <td>State-gov</td>\n",
       "      <td>77516</td>\n",
       "      <td>Bachelors</td>\n",
       "      <td>13</td>\n",
       "      <td>Never-married</td>\n",
       "      <td>Adm-clerical</td>\n",
       "      <td>Not-in-family</td>\n",
       "      <td>White</td>\n",
       "      <td>Male</td>\n",
       "      <td>2174</td>\n",
       "      <td>0</td>\n",
       "      <td>40</td>\n",
       "      <td>United-States</td>\n",
       "      <td>&lt;=50K</td>\n",
       "    </tr>\n",
       "    <tr>\n",
       "      <th>1</th>\n",
       "      <td>50</td>\n",
       "      <td>Self-emp-not-inc</td>\n",
       "      <td>83311</td>\n",
       "      <td>Bachelors</td>\n",
       "      <td>13</td>\n",
       "      <td>Married-civ-spouse</td>\n",
       "      <td>Exec-managerial</td>\n",
       "      <td>Husband</td>\n",
       "      <td>White</td>\n",
       "      <td>Male</td>\n",
       "      <td>0</td>\n",
       "      <td>0</td>\n",
       "      <td>13</td>\n",
       "      <td>United-States</td>\n",
       "      <td>&lt;=50K</td>\n",
       "    </tr>\n",
       "    <tr>\n",
       "      <th>2</th>\n",
       "      <td>38</td>\n",
       "      <td>Private</td>\n",
       "      <td>215646</td>\n",
       "      <td>HS-grad</td>\n",
       "      <td>9</td>\n",
       "      <td>Divorced</td>\n",
       "      <td>Handlers-cleaners</td>\n",
       "      <td>Not-in-family</td>\n",
       "      <td>White</td>\n",
       "      <td>Male</td>\n",
       "      <td>0</td>\n",
       "      <td>0</td>\n",
       "      <td>40</td>\n",
       "      <td>United-States</td>\n",
       "      <td>&lt;=50K</td>\n",
       "    </tr>\n",
       "    <tr>\n",
       "      <th>3</th>\n",
       "      <td>53</td>\n",
       "      <td>Private</td>\n",
       "      <td>234721</td>\n",
       "      <td>11th</td>\n",
       "      <td>7</td>\n",
       "      <td>Married-civ-spouse</td>\n",
       "      <td>Handlers-cleaners</td>\n",
       "      <td>Husband</td>\n",
       "      <td>Black</td>\n",
       "      <td>Male</td>\n",
       "      <td>0</td>\n",
       "      <td>0</td>\n",
       "      <td>40</td>\n",
       "      <td>United-States</td>\n",
       "      <td>&lt;=50K</td>\n",
       "    </tr>\n",
       "    <tr>\n",
       "      <th>4</th>\n",
       "      <td>28</td>\n",
       "      <td>Private</td>\n",
       "      <td>338409</td>\n",
       "      <td>Bachelors</td>\n",
       "      <td>13</td>\n",
       "      <td>Married-civ-spouse</td>\n",
       "      <td>Prof-specialty</td>\n",
       "      <td>Wife</td>\n",
       "      <td>Black</td>\n",
       "      <td>Female</td>\n",
       "      <td>0</td>\n",
       "      <td>0</td>\n",
       "      <td>40</td>\n",
       "      <td>Cuba</td>\n",
       "      <td>&lt;=50K</td>\n",
       "    </tr>\n",
       "  </tbody>\n",
       "</table>\n",
       "</div>"
      ],
      "text/plain": [
       "   age          workclass  fnlwgt   education  education-num  \\\n",
       "0   39          State-gov   77516   Bachelors             13   \n",
       "1   50   Self-emp-not-inc   83311   Bachelors             13   \n",
       "2   38            Private  215646     HS-grad              9   \n",
       "3   53            Private  234721        11th              7   \n",
       "4   28            Private  338409   Bachelors             13   \n",
       "\n",
       "        marital-status          occupation    relationship    race      sex  \\\n",
       "0        Never-married        Adm-clerical   Not-in-family   White     Male   \n",
       "1   Married-civ-spouse     Exec-managerial         Husband   White     Male   \n",
       "2             Divorced   Handlers-cleaners   Not-in-family   White     Male   \n",
       "3   Married-civ-spouse   Handlers-cleaners         Husband   Black     Male   \n",
       "4   Married-civ-spouse      Prof-specialty            Wife   Black   Female   \n",
       "\n",
       "   capital-gain  capital-loss  hours-per-week  native-country  income  \n",
       "0          2174             0              40   United-States   <=50K  \n",
       "1             0             0              13   United-States   <=50K  \n",
       "2             0             0              40   United-States   <=50K  \n",
       "3             0             0              40   United-States   <=50K  \n",
       "4             0             0              40            Cuba   <=50K  "
      ]
     },
     "execution_count": 17,
     "metadata": {},
     "output_type": "execute_result"
    }
   ],
   "source": [
    "adult_data.head(5) # Peek at first 5 rows."
   ]
  },
  {
   "cell_type": "code",
   "execution_count": null,
   "id": "12e8427b-2005-4fd0-acd2-f3b91759d41d",
   "metadata": {},
   "outputs": [],
   "source": [
    "adult_data.tail() # Peek at last 5 rows."
   ]
  },
  {
   "cell_type": "markdown",
   "id": "b88750c3-1d53-4e73-8c7d-3b94115ed476",
   "metadata": {},
   "source": [
    "#### Findings:\n",
    "- Features `workclass`, `education`, `marital-status`, `occupation`, `relationship`, `race`, `native-country` are categorical.\n",
    "- Feature `sex` and target `income` are dichotomous/binary.\n",
    "- Features `age`, `fnlwgt`, `capital-gain`, `capital-loss`, `hours-per-week` are numerical.\n",
    "- Feature `education-num` is enumerated from catergorical variable `education`\n",
    "\n",
    "#### Perform\n",
    "- Encode all categorical columns to numerical values so the machine learning algorithm works better.\n",
    "- Feature `sex` and target `income` can be converted to binary number."
   ]
  },
  {
   "cell_type": "markdown",
   "id": "647a5e72",
   "metadata": {},
   "source": [
    "#### Perform\n",
    "- Remove the rows that contain `' ?'` in the rows"
   ]
  },
  {
   "cell_type": "markdown",
   "id": "a6e471f6",
   "metadata": {},
   "source": [
    "## Chapter 3. Problem Formulation"
   ]
  },
  {
   "cell_type": "markdown",
   "id": "0f89c25c",
   "metadata": {},
   "source": [
    "### Utilize census (survey) data to forecast whether the earnings of a particular demographic surpass $50k annually."
   ]
  },
  {
   "cell_type": "code",
   "execution_count": 9,
   "id": "8b28bada-0dd3-451c-b12b-502e988657dc",
   "metadata": {},
   "outputs": [],
   "source": [
    "# Problem statement: Predict whether the income of a specific group of people exceeds $50K/yr or not based on census (survey) data. \n",
    "# This problem is a binary classification problem."
   ]
  },
  {
   "cell_type": "code",
   "execution_count": 10,
   "id": "90eb686c-4fe7-4f81-9e62-62624f7c81ad",
   "metadata": {},
   "outputs": [],
   "source": [
    "# BIN columns?"
   ]
  },
  {
   "cell_type": "markdown",
   "id": "53a268c4",
   "metadata": {},
   "source": [
    "## Chapter 4. Exploratory Analysis"
   ]
  },
  {
   "cell_type": "markdown",
   "id": "9aa4d6a8",
   "metadata": {},
   "source": [
    "### 4.1. Exploring the Response"
   ]
  },
  {
   "cell_type": "code",
   "execution_count": 11,
   "id": "4660424f-4c0b-4cde-8643-81482f689ff1",
   "metadata": {},
   "outputs": [
    {
     "name": "stderr",
     "output_type": "stream",
     "text": [
      "C:\\Users\\gaymi\\anaconda3\\Lib\\site-packages\\seaborn\\axisgrid.py:118: UserWarning: The figure layout has changed to tight\n",
      "  self._figure.tight_layout(*args, **kwargs)\n"
     ]
    },
    {
     "data": {
      "text/plain": [
       "<seaborn.axisgrid.FacetGrid at 0x12d761b5b50>"
      ]
     },
     "execution_count": 11,
     "metadata": {},
     "output_type": "execute_result"
    },
    {
     "data": {
      "image/png": "[encoded data removed]",
      "text/plain": [
       "<Figure size 500x500 with 1 Axes>"
      ]
     },
     "metadata": {},
     "output_type": "display_data"
    }
   ],
   "source": [
    "sns.catplot(y = 'income', data = adult_data, kind = \"count\")"
   ]
  },
  {
   "cell_type": "code",
   "execution_count": 29,
   "id": "9f5f4a43-ecf4-4abc-aa69-f6a6f25dba16",
   "metadata": {},
   "outputs": [
    {
     "name": "stdout",
     "output_type": "stream",
     "text": [
      "Number of data in each Count catergory:\n",
      "\n",
      "Income             Counter\n",
      "-------------------------\n",
      "Income >= 50000      22654\n",
      "Income < 50000       7508\n"
     ]
    }
   ],
   "source": [
    "print(\"Number of data in each Count catergory:\\n\")\n",
    "print(\"Income\", 11*' ', \"Counter\")\n",
    "print(\"-\"*25)\n",
    "adult_data_gb = adult_data.groupby('income')\n",
    "i = \"Income >= 50000\"\n",
    "print(i, end=\"\")\n",
    "x = 20 - len(i) # For styling purposes\n",
    "print (x * ' ', adult_data_gb['income'].count()[0])\n",
    "i = \"Income < 50000\"\n",
    "print(i, end=\"\")\n",
    "x = 20 - len(i) # For styling purposes\n",
    "print (x * ' ', adult_data_gb['income'].count()[1])"
   ]
  },
  {
   "cell_type": "markdown",
   "id": "81d1fea7",
   "metadata": {},
   "source": [
    "#### Findings\n",
    "- Data is more concentrated towards income >= 50000"
   ]
  },
  {
   "cell_type": "markdown",
   "id": "c0a3957b",
   "metadata": {},
   "source": [
    "### 4.2. Exploring the Numerical Predictors"
   ]
  },
  {
   "cell_type": "markdown",
   "id": "2327fb8a",
   "metadata": {},
   "source": [
    "### 4.3. Exploring the Catergorical Predictors"
   ]
  },
  {
   "cell_type": "code",
   "execution_count": null,
   "id": "a55a9737",
   "metadata": {},
   "outputs": [],
   "source": []
  }
 ],
 "metadata": {
  "kernelspec": {
   "display_name": "Python 3 (ipykernel)",
   "language": "python",
   "name": "python3"
  },
  "language_info": {
   "codemirror_mode": {
    "name": "ipython",
    "version": 3
   },
   "file_extension": ".py",
   "mimetype": "text/x-python",
   "name": "python",
   "nbconvert_exporter": "python",
   "pygments_lexer": "ipython3",
   "version": "3.11.5"
  }
 },
 "nbformat": 4,
 "nbformat_minor": 5
}
